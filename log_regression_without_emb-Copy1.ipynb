{
 "cells": [
  {
   "cell_type": "code",
   "execution_count": 2,
   "metadata": {
    "ExecuteTime": {
     "end_time": "2023-05-19T06:10:23.678400Z",
     "start_time": "2023-05-19T06:10:16.503064Z"
    }
   },
   "outputs": [],
   "source": [
    "import json\n",
    "import neptune\n",
    "from functools import partial\n",
    "from typing import List\n",
    "\n",
    "import matplotlib.pyplot as plt\n",
    "import numpy as np\n",
    "import pandas as pd\n",
    "import seaborn as sns\n",
    "from catboost import CatBoostClassifier, Pool\n",
    "from catboost.utils import eval_metric\n",
    "from scipy.spatial.distance import cosine, euclidean\n",
    "from sklearn.metrics import pairwise_distances\n",
    "from sklearn.model_selection import train_test_split\n",
    "\n",
    "from sklearn.metrics import precision_score\n",
    "\n",
    "\n"
   ]
  },
  {
   "cell_type": "code",
   "execution_count": null,
   "metadata": {},
   "outputs": [],
   "source": [
    "run = neptune.init_run() "
   ]
  },
  {
   "cell_type": "markdown",
   "metadata": {},
   "source": [
    "### Load data"
   ]
  },
  {
   "cell_type": "code",
   "execution_count": 3,
   "metadata": {
    "ExecuteTime": {
     "end_time": "2023-05-19T06:12:05.012452Z",
     "start_time": "2023-05-19T06:11:27.878101Z"
    },
    "scrolled": false
   },
   "outputs": [],
   "source": [
    "dataset = pd.read_parquet(\"train_pairs_w_target.parquet\")\n",
    "etl = pd.read_parquet(\"train_data.parquet\")"
   ]
  },
  {
   "cell_type": "code",
   "execution_count": 4,
   "metadata": {},
   "outputs": [
    {
     "data": {
      "text/html": [
       "<div>\n",
       "<style scoped>\n",
       "    .dataframe tbody tr th:only-of-type {\n",
       "        vertical-align: middle;\n",
       "    }\n",
       "\n",
       "    .dataframe tbody tr th {\n",
       "        vertical-align: top;\n",
       "    }\n",
       "\n",
       "    .dataframe thead th {\n",
       "        text-align: right;\n",
       "    }\n",
       "</style>\n",
       "<table border=\"1\" class=\"dataframe\">\n",
       "  <thead>\n",
       "    <tr style=\"text-align: right;\">\n",
       "      <th></th>\n",
       "      <th>target</th>\n",
       "      <th>variantid1</th>\n",
       "      <th>variantid2</th>\n",
       "    </tr>\n",
       "  </thead>\n",
       "  <tbody>\n",
       "    <tr>\n",
       "      <th>0</th>\n",
       "      <td>0.0</td>\n",
       "      <td>51197862</td>\n",
       "      <td>51198054</td>\n",
       "    </tr>\n",
       "    <tr>\n",
       "      <th>1</th>\n",
       "      <td>1.0</td>\n",
       "      <td>53062686</td>\n",
       "      <td>536165289</td>\n",
       "    </tr>\n",
       "  </tbody>\n",
       "</table>\n",
       "</div>"
      ],
      "text/plain": [
       "   target  variantid1  variantid2\n",
       "0     0.0    51197862    51198054\n",
       "1     1.0    53062686   536165289"
      ]
     },
     "execution_count": 4,
     "metadata": {},
     "output_type": "execute_result"
    }
   ],
   "source": [
    "dataset.head(2)"
   ]
  },
  {
   "cell_type": "code",
   "execution_count": 5,
   "metadata": {
    "ExecuteTime": {
     "end_time": "2023-05-19T06:12:20.476738Z",
     "start_time": "2023-05-19T06:12:20.458918Z"
    },
    "scrolled": true
   },
   "outputs": [
    {
     "data": {
      "text/plain": [
       "0.0    171527\n",
       "1.0    135013\n",
       "Name: target, dtype: int64"
      ]
     },
     "execution_count": 5,
     "metadata": {},
     "output_type": "execute_result"
    }
   ],
   "source": [
    "dataset[\"target\"].value_counts()"
   ]
  },
  {
   "cell_type": "code",
   "execution_count": 6,
   "metadata": {
    "ExecuteTime": {
     "end_time": "2023-05-19T06:12:27.245184Z",
     "start_time": "2023-05-19T06:12:27.228294Z"
    },
    "scrolled": true
   },
   "outputs": [
    {
     "data": {
      "text/html": [
       "<div>\n",
       "<style scoped>\n",
       "    .dataframe tbody tr th:only-of-type {\n",
       "        vertical-align: middle;\n",
       "    }\n",
       "\n",
       "    .dataframe tbody tr th {\n",
       "        vertical-align: top;\n",
       "    }\n",
       "\n",
       "    .dataframe thead th {\n",
       "        text-align: right;\n",
       "    }\n",
       "</style>\n",
       "<table border=\"1\" class=\"dataframe\">\n",
       "  <thead>\n",
       "    <tr style=\"text-align: right;\">\n",
       "      <th></th>\n",
       "      <th>variantid</th>\n",
       "      <th>characteristic_attributes_mapping</th>\n",
       "      <th>name</th>\n",
       "      <th>categories</th>\n",
       "      <th>color_parsed</th>\n",
       "      <th>pic_embeddings_resnet_v1</th>\n",
       "      <th>main_pic_embeddings_resnet_v1</th>\n",
       "      <th>name_bert_64</th>\n",
       "    </tr>\n",
       "  </thead>\n",
       "  <tbody>\n",
       "    <tr>\n",
       "      <th>0</th>\n",
       "      <td>51195767</td>\n",
       "      <td>{\"85\":[\"Партнер-Электро\"],\"8229\":[\"Удлинитель ...</td>\n",
       "      <td>Удлинитель Партнер-Электро ПВС 2х0,75 ГОСТ,6A,...</td>\n",
       "      <td>{\"1\": \"EPG\", \"2\": \"Электроника\", \"3\": \"Сетевые...</td>\n",
       "      <td>[оранжевый]</td>\n",
       "      <td>None</td>\n",
       "      <td>[[0.04603629, 0.18839523, -0.09973055, -0.6636...</td>\n",
       "      <td>[-0.47045058, 0.67237014, 0.48984158, -0.54485...</td>\n",
       "    </tr>\n",
       "    <tr>\n",
       "      <th>1</th>\n",
       "      <td>51196903</td>\n",
       "      <td>{\"85\":[\"TDM Electric\"],\"8229\":[\"Удлинитель быт...</td>\n",
       "      <td>Колодка TDM Electric пятиместная без заземлени...</td>\n",
       "      <td>{\"1\": \"EPG\", \"2\": \"Электроника\", \"3\": \"Сетевые...</td>\n",
       "      <td>[белый]</td>\n",
       "      <td>[[0.42044494, -0.33794826, -0.037247024, 0.165...</td>\n",
       "      <td>[[0.16211876, -0.4455993, 0.6131705, 0.5954206...</td>\n",
       "      <td>[-0.48503304, 0.6264443, 0.6406273, -0.4696772...</td>\n",
       "    </tr>\n",
       "  </tbody>\n",
       "</table>\n",
       "</div>"
      ],
      "text/plain": [
       "   variantid                  characteristic_attributes_mapping  \\\n",
       "0   51195767  {\"85\":[\"Партнер-Электро\"],\"8229\":[\"Удлинитель ...   \n",
       "1   51196903  {\"85\":[\"TDM Electric\"],\"8229\":[\"Удлинитель быт...   \n",
       "\n",
       "                                                name  \\\n",
       "0  Удлинитель Партнер-Электро ПВС 2х0,75 ГОСТ,6A,...   \n",
       "1  Колодка TDM Electric пятиместная без заземлени...   \n",
       "\n",
       "                                          categories color_parsed  \\\n",
       "0  {\"1\": \"EPG\", \"2\": \"Электроника\", \"3\": \"Сетевые...  [оранжевый]   \n",
       "1  {\"1\": \"EPG\", \"2\": \"Электроника\", \"3\": \"Сетевые...      [белый]   \n",
       "\n",
       "                            pic_embeddings_resnet_v1  \\\n",
       "0                                               None   \n",
       "1  [[0.42044494, -0.33794826, -0.037247024, 0.165...   \n",
       "\n",
       "                       main_pic_embeddings_resnet_v1  \\\n",
       "0  [[0.04603629, 0.18839523, -0.09973055, -0.6636...   \n",
       "1  [[0.16211876, -0.4455993, 0.6131705, 0.5954206...   \n",
       "\n",
       "                                        name_bert_64  \n",
       "0  [-0.47045058, 0.67237014, 0.48984158, -0.54485...  \n",
       "1  [-0.48503304, 0.6264443, 0.6406273, -0.4696772...  "
      ]
     },
     "execution_count": 6,
     "metadata": {},
     "output_type": "execute_result"
    }
   ],
   "source": [
    "etl.head(2)"
   ]
  },
  {
   "cell_type": "code",
   "execution_count": 7,
   "metadata": {},
   "outputs": [
    {
     "name": "stdout",
     "output_type": "stream",
     "text": [
      "(457063, 8) (306540, 3)\n"
     ]
    }
   ],
   "source": [
    "print(etl.shape, dataset.shape)"
   ]
  },
  {
   "cell_type": "markdown",
   "metadata": {},
   "source": [
    "Get raw data for each variantid."
   ]
  },
  {
   "cell_type": "code",
   "execution_count": 8,
   "metadata": {
    "ExecuteTime": {
     "end_time": "2023-05-19T06:13:06.702876Z",
     "start_time": "2023-05-19T06:13:03.688111Z"
    }
   },
   "outputs": [],
   "source": [
    "features0 = (\n",
    "    dataset\n",
    "    .merge(\n",
    "        etl\n",
    "        .add_suffix('1'),\n",
    "        on=\"variantid1\"\n",
    "    )\n",
    "    .merge(\n",
    "        etl\n",
    "        .add_suffix('2'),\n",
    "        on=\"variantid2\"\n",
    "    )\n",
    ")"
   ]
  },
  {
   "cell_type": "code",
   "execution_count": 9,
   "metadata": {
    "ExecuteTime": {
     "end_time": "2023-05-19T06:13:09.645490Z",
     "start_time": "2023-05-19T06:13:09.620414Z"
    }
   },
   "outputs": [
    {
     "data": {
      "text/html": [
       "<div>\n",
       "<style scoped>\n",
       "    .dataframe tbody tr th:only-of-type {\n",
       "        vertical-align: middle;\n",
       "    }\n",
       "\n",
       "    .dataframe tbody tr th {\n",
       "        vertical-align: top;\n",
       "    }\n",
       "\n",
       "    .dataframe thead th {\n",
       "        text-align: right;\n",
       "    }\n",
       "</style>\n",
       "<table border=\"1\" class=\"dataframe\">\n",
       "  <thead>\n",
       "    <tr style=\"text-align: right;\">\n",
       "      <th></th>\n",
       "      <th>target</th>\n",
       "      <th>variantid1</th>\n",
       "      <th>variantid2</th>\n",
       "      <th>characteristic_attributes_mapping1</th>\n",
       "      <th>name1</th>\n",
       "      <th>categories1</th>\n",
       "      <th>color_parsed1</th>\n",
       "      <th>pic_embeddings_resnet_v11</th>\n",
       "      <th>main_pic_embeddings_resnet_v11</th>\n",
       "      <th>name_bert_641</th>\n",
       "      <th>characteristic_attributes_mapping2</th>\n",
       "      <th>name2</th>\n",
       "      <th>categories2</th>\n",
       "      <th>color_parsed2</th>\n",
       "      <th>pic_embeddings_resnet_v12</th>\n",
       "      <th>main_pic_embeddings_resnet_v12</th>\n",
       "      <th>name_bert_642</th>\n",
       "    </tr>\n",
       "  </thead>\n",
       "  <tbody>\n",
       "    <tr>\n",
       "      <th>0</th>\n",
       "      <td>0.0</td>\n",
       "      <td>51197862</td>\n",
       "      <td>51198054</td>\n",
       "      <td>{\"85\":[\"TDM Electric\"],\"8229\":[\"Удлинитель быт...</td>\n",
       "      <td>Удлинитель TDM Electric Люкс УЛ05В 5 м (SQ1303...</td>\n",
       "      <td>{\"1\": \"EPG\", \"2\": \"Электроника\", \"3\": \"Сетевые...</td>\n",
       "      <td>[белый]</td>\n",
       "      <td>None</td>\n",
       "      <td>[[-0.4304909, -0.49474272, -0.46439183, -0.060...</td>\n",
       "      <td>[-0.5104684, 0.56158644, 0.58873796, -0.529718...</td>\n",
       "      <td>{\"85\":[\"TDM Electric\"],\"8229\":[\"Удлинитель быт...</td>\n",
       "      <td>Удлинитель TDM Electric Люкс УЛ05В 1.5 м (SQ13...</td>\n",
       "      <td>{\"1\": \"EPG\", \"2\": \"Электроника\", \"3\": \"Сетевые...</td>\n",
       "      <td>[белый]</td>\n",
       "      <td>None</td>\n",
       "      <td>[[-0.42941108, -0.5129398, -0.4753536, -0.0677...</td>\n",
       "      <td>[-0.455473, 0.58157134, 0.5870387, -0.5325003,...</td>\n",
       "    </tr>\n",
       "    <tr>\n",
       "      <th>1</th>\n",
       "      <td>0.0</td>\n",
       "      <td>51197862</td>\n",
       "      <td>51199884</td>\n",
       "      <td>{\"85\":[\"TDM Electric\"],\"8229\":[\"Удлинитель быт...</td>\n",
       "      <td>Удлинитель TDM Electric Люкс УЛ05В 5 м (SQ1303...</td>\n",
       "      <td>{\"1\": \"EPG\", \"2\": \"Электроника\", \"3\": \"Сетевые...</td>\n",
       "      <td>[белый]</td>\n",
       "      <td>None</td>\n",
       "      <td>[[-0.4304909, -0.49474272, -0.46439183, -0.060...</td>\n",
       "      <td>[-0.5104684, 0.56158644, 0.58873796, -0.529718...</td>\n",
       "      <td>{\"85\":[\"TDM Electric\"],\"8229\":[\"Удлинитель быт...</td>\n",
       "      <td>Удлинитель TDM Electric Люкс УЛ05В 3 м (SQ1303...</td>\n",
       "      <td>{\"1\": \"EPG\", \"2\": \"Электроника\", \"3\": \"Сетевые...</td>\n",
       "      <td>[белый]</td>\n",
       "      <td>None</td>\n",
       "      <td>[[-0.43180764, -0.49580905, -0.5062628, -0.130...</td>\n",
       "      <td>[-0.5425725, 0.6415736, 0.51481575, -0.5687392...</td>\n",
       "    </tr>\n",
       "  </tbody>\n",
       "</table>\n",
       "</div>"
      ],
      "text/plain": [
       "   target  variantid1  variantid2  \\\n",
       "0     0.0    51197862    51198054   \n",
       "1     0.0    51197862    51199884   \n",
       "\n",
       "                  characteristic_attributes_mapping1  \\\n",
       "0  {\"85\":[\"TDM Electric\"],\"8229\":[\"Удлинитель быт...   \n",
       "1  {\"85\":[\"TDM Electric\"],\"8229\":[\"Удлинитель быт...   \n",
       "\n",
       "                                               name1  \\\n",
       "0  Удлинитель TDM Electric Люкс УЛ05В 5 м (SQ1303...   \n",
       "1  Удлинитель TDM Electric Люкс УЛ05В 5 м (SQ1303...   \n",
       "\n",
       "                                         categories1 color_parsed1  \\\n",
       "0  {\"1\": \"EPG\", \"2\": \"Электроника\", \"3\": \"Сетевые...       [белый]   \n",
       "1  {\"1\": \"EPG\", \"2\": \"Электроника\", \"3\": \"Сетевые...       [белый]   \n",
       "\n",
       "  pic_embeddings_resnet_v11  \\\n",
       "0                      None   \n",
       "1                      None   \n",
       "\n",
       "                      main_pic_embeddings_resnet_v11  \\\n",
       "0  [[-0.4304909, -0.49474272, -0.46439183, -0.060...   \n",
       "1  [[-0.4304909, -0.49474272, -0.46439183, -0.060...   \n",
       "\n",
       "                                       name_bert_641  \\\n",
       "0  [-0.5104684, 0.56158644, 0.58873796, -0.529718...   \n",
       "1  [-0.5104684, 0.56158644, 0.58873796, -0.529718...   \n",
       "\n",
       "                  characteristic_attributes_mapping2  \\\n",
       "0  {\"85\":[\"TDM Electric\"],\"8229\":[\"Удлинитель быт...   \n",
       "1  {\"85\":[\"TDM Electric\"],\"8229\":[\"Удлинитель быт...   \n",
       "\n",
       "                                               name2  \\\n",
       "0  Удлинитель TDM Electric Люкс УЛ05В 1.5 м (SQ13...   \n",
       "1  Удлинитель TDM Electric Люкс УЛ05В 3 м (SQ1303...   \n",
       "\n",
       "                                         categories2 color_parsed2  \\\n",
       "0  {\"1\": \"EPG\", \"2\": \"Электроника\", \"3\": \"Сетевые...       [белый]   \n",
       "1  {\"1\": \"EPG\", \"2\": \"Электроника\", \"3\": \"Сетевые...       [белый]   \n",
       "\n",
       "  pic_embeddings_resnet_v12  \\\n",
       "0                      None   \n",
       "1                      None   \n",
       "\n",
       "                      main_pic_embeddings_resnet_v12  \\\n",
       "0  [[-0.42941108, -0.5129398, -0.4753536, -0.0677...   \n",
       "1  [[-0.43180764, -0.49580905, -0.5062628, -0.130...   \n",
       "\n",
       "                                       name_bert_642  \n",
       "0  [-0.455473, 0.58157134, 0.5870387, -0.5325003,...  \n",
       "1  [-0.5425725, 0.6415736, 0.51481575, -0.5687392...  "
      ]
     },
     "execution_count": 9,
     "metadata": {},
     "output_type": "execute_result"
    }
   ],
   "source": [
    "features0.head(2)"
   ]
  },
  {
   "cell_type": "markdown",
   "metadata": {},
   "source": [
    "Features functions."
   ]
  },
  {
   "cell_type": "code",
   "execution_count": 10,
   "metadata": {},
   "outputs": [],
   "source": [
    "features = features0[:3000]"
   ]
  },
  {
   "cell_type": "code",
   "execution_count": 11,
   "metadata": {
    "ExecuteTime": {
     "end_time": "2023-05-19T06:28:28.028773Z",
     "start_time": "2023-05-19T06:28:27.086139Z"
    }
   },
   "outputs": [
    {
     "name": "stderr",
     "output_type": "stream",
     "text": [
      "C:\\Users\\druzh\\AppData\\Local\\Temp\\ipykernel_9204\\645466129.py:1: SettingWithCopyWarning: \n",
      "A value is trying to be set on a copy of a slice from a DataFrame.\n",
      "Try using .loc[row_indexer,col_indexer] = value instead\n",
      "\n",
      "See the caveats in the documentation: https://pandas.pydata.org/pandas-docs/stable/user_guide/indexing.html#returning-a-view-versus-a-copy\n",
      "  features[\"cat31\"] = features[\"categories1\"].apply(lambda x: json.loads(x)[\"3\"])\n"
     ]
    }
   ],
   "source": [
    "features[\"cat31\"] = features[\"categories1\"].apply(lambda x: json.loads(x)[\"3\"])\n",
    "cat3_counts = features[\"cat31\"].value_counts().to_dict()"
   ]
  },
  {
   "cell_type": "code",
   "execution_count": 12,
   "metadata": {
    "ExecuteTime": {
     "end_time": "2023-05-19T06:28:36.996792Z",
     "start_time": "2023-05-19T06:28:36.896447Z"
    }
   },
   "outputs": [
    {
     "name": "stderr",
     "output_type": "stream",
     "text": [
      "C:\\Users\\druzh\\AppData\\Local\\Temp\\ipykernel_9204\\3309214132.py:1: SettingWithCopyWarning: \n",
      "A value is trying to be set on a copy of a slice from a DataFrame.\n",
      "Try using .loc[row_indexer,col_indexer] = value instead\n",
      "\n",
      "See the caveats in the documentation: https://pandas.pydata.org/pandas-docs/stable/user_guide/indexing.html#returning-a-view-versus-a-copy\n",
      "  features[\"cat31_grouped\"] = features[\"cat31\"].apply(lambda x: x if cat3_counts[x] > 1000 else \"rest\")\n"
     ]
    }
   ],
   "source": [
    "features[\"cat31_grouped\"] = features[\"cat31\"].apply(lambda x: x if cat3_counts[x] > 1000 else \"rest\")"
   ]
  },
  {
   "cell_type": "code",
   "execution_count": 13,
   "metadata": {},
   "outputs": [
    {
     "name": "stderr",
     "output_type": "stream",
     "text": [
      "C:\\Users\\druzh\\AppData\\Local\\Temp\\ipykernel_9204\\3293189207.py:1: SettingWithCopyWarning: \n",
      "A value is trying to be set on a copy of a slice from a DataFrame.\n",
      "Try using .loc[row_indexer,col_indexer] = value instead\n",
      "\n",
      "See the caveats in the documentation: https://pandas.pydata.org/pandas-docs/stable/user_guide/indexing.html#returning-a-view-versus-a-copy\n",
      "  features[\"cat32\"] = features[\"categories2\"].apply(lambda x: json.loads(x)[\"3\"])\n"
     ]
    }
   ],
   "source": [
    "features[\"cat32\"] = features[\"categories2\"].apply(lambda x: json.loads(x)[\"3\"])\n",
    "cat3_counts = features[\"cat32\"].value_counts().to_dict()"
   ]
  },
  {
   "cell_type": "code",
   "execution_count": 14,
   "metadata": {},
   "outputs": [
    {
     "name": "stderr",
     "output_type": "stream",
     "text": [
      "C:\\Users\\druzh\\AppData\\Local\\Temp\\ipykernel_9204\\1050994683.py:1: SettingWithCopyWarning: \n",
      "A value is trying to be set on a copy of a slice from a DataFrame.\n",
      "Try using .loc[row_indexer,col_indexer] = value instead\n",
      "\n",
      "See the caveats in the documentation: https://pandas.pydata.org/pandas-docs/stable/user_guide/indexing.html#returning-a-view-versus-a-copy\n",
      "  features[\"cat32_grouped\"] = features[\"cat32\"].apply(lambda x: x if cat3_counts[x] > 1000 else \"rest\")\n"
     ]
    }
   ],
   "source": [
    "features[\"cat32_grouped\"] = features[\"cat32\"].apply(lambda x: x if cat3_counts[x] > 1000 else \"rest\")"
   ]
  },
  {
   "cell_type": "code",
   "execution_count": 15,
   "metadata": {},
   "outputs": [],
   "source": [
    "from sklearn.feature_extraction.text import CountVectorizer\n",
    "\n",
    "def create_bag_of_words(sentences):\n",
    "    vectorizer = CountVectorizer()\n",
    "    bag_of_words = vectorizer.fit_transform(sentences)\n",
    "    len_sentences = []\n",
    "    for sentence in sentences:\n",
    "        len_sentences.append(len(sentence.split()))\n",
    "\n",
    "    return bag_of_words.toarray(), len_sentences"
   ]
  },
  {
   "cell_type": "code",
   "execution_count": 16,
   "metadata": {},
   "outputs": [],
   "source": [
    "bag_of_words, len_sentences = create_bag_of_words(np.hstack((features['name1'].values, features['name2'].values)))"
   ]
  },
  {
   "cell_type": "code",
   "execution_count": 17,
   "metadata": {},
   "outputs": [
    {
     "name": "stdout",
     "output_type": "stream",
     "text": [
      "(6000, 3606)\n"
     ]
    }
   ],
   "source": [
    "print(bag_of_words.shape)"
   ]
  },
  {
   "cell_type": "code",
   "execution_count": 18,
   "metadata": {},
   "outputs": [],
   "source": [
    "bag_of_words_1, bag_of_words_2 = bag_of_words[:len(bag_of_words) // 2], bag_of_words[len(bag_of_words) // 2:]\n",
    "len_sentences_1, len_sentences_2 = len_sentences[:len(len_sentences) // 2], len_sentences[len(len_sentences) // 2:]"
   ]
  },
  {
   "cell_type": "code",
   "execution_count": 19,
   "metadata": {},
   "outputs": [
    {
     "name": "stderr",
     "output_type": "stream",
     "text": [
      "C:\\Users\\druzh\\AppData\\Local\\Temp\\ipykernel_9204\\2543565312.py:1: SettingWithCopyWarning: \n",
      "A value is trying to be set on a copy of a slice from a DataFrame.\n",
      "Try using .loc[row_indexer,col_indexer] = value instead\n",
      "\n",
      "See the caveats in the documentation: https://pandas.pydata.org/pandas-docs/stable/user_guide/indexing.html#returning-a-view-versus-a-copy\n",
      "  features[\"name1_bag\"] = bag_of_words_1.tolist()\n"
     ]
    }
   ],
   "source": [
    "features[\"name1_bag\"] = bag_of_words_1.tolist()"
   ]
  },
  {
   "cell_type": "code",
   "execution_count": 20,
   "metadata": {},
   "outputs": [
    {
     "name": "stderr",
     "output_type": "stream",
     "text": [
      "C:\\Users\\druzh\\AppData\\Local\\Temp\\ipykernel_9204\\3030150248.py:1: SettingWithCopyWarning: \n",
      "A value is trying to be set on a copy of a slice from a DataFrame.\n",
      "Try using .loc[row_indexer,col_indexer] = value instead\n",
      "\n",
      "See the caveats in the documentation: https://pandas.pydata.org/pandas-docs/stable/user_guide/indexing.html#returning-a-view-versus-a-copy\n",
      "  features[\"name2_bag\"] = bag_of_words_2.tolist()\n"
     ]
    }
   ],
   "source": [
    "features[\"name2_bag\"] = bag_of_words_2.tolist()"
   ]
  },
  {
   "cell_type": "code",
   "execution_count": 21,
   "metadata": {},
   "outputs": [
    {
     "name": "stderr",
     "output_type": "stream",
     "text": [
      "C:\\Users\\druzh\\AppData\\Local\\Temp\\ipykernel_9204\\1071916822.py:1: SettingWithCopyWarning: \n",
      "A value is trying to be set on a copy of a slice from a DataFrame.\n",
      "Try using .loc[row_indexer,col_indexer] = value instead\n",
      "\n",
      "See the caveats in the documentation: https://pandas.pydata.org/pandas-docs/stable/user_guide/indexing.html#returning-a-view-versus-a-copy\n",
      "  features[\"name1_len\"] = len_sentences_1\n"
     ]
    }
   ],
   "source": [
    "features[\"name1_len\"] = len_sentences_1"
   ]
  },
  {
   "cell_type": "code",
   "execution_count": 22,
   "metadata": {},
   "outputs": [
    {
     "name": "stderr",
     "output_type": "stream",
     "text": [
      "C:\\Users\\druzh\\AppData\\Local\\Temp\\ipykernel_9204\\1623139890.py:1: SettingWithCopyWarning: \n",
      "A value is trying to be set on a copy of a slice from a DataFrame.\n",
      "Try using .loc[row_indexer,col_indexer] = value instead\n",
      "\n",
      "See the caveats in the documentation: https://pandas.pydata.org/pandas-docs/stable/user_guide/indexing.html#returning-a-view-versus-a-copy\n",
      "  features[\"name2_len\"] = len_sentences_2\n"
     ]
    }
   ],
   "source": [
    "features[\"name2_len\"] = len_sentences_2"
   ]
  },
  {
   "cell_type": "code",
   "execution_count": 23,
   "metadata": {},
   "outputs": [],
   "source": [
    "bag_of_words, len_sentences = create_bag_of_words(np.hstack((features['cat31'].values, features['cat32'].values)))"
   ]
  },
  {
   "cell_type": "code",
   "execution_count": 24,
   "metadata": {},
   "outputs": [
    {
     "name": "stdout",
     "output_type": "stream",
     "text": [
      "(6000, 113)\n"
     ]
    }
   ],
   "source": [
    "print(bag_of_words.shape)"
   ]
  },
  {
   "cell_type": "code",
   "execution_count": 25,
   "metadata": {},
   "outputs": [],
   "source": [
    "bag_of_words_1, bag_of_words_2 = bag_of_words[:len(bag_of_words) // 2], bag_of_words[len(bag_of_words) // 2:]\n",
    "len_sentences_1, len_sentences_2 = len_sentences[:len(len_sentences) // 2], len_sentences[len(len_sentences) // 2:]"
   ]
  },
  {
   "cell_type": "code",
   "execution_count": 26,
   "metadata": {},
   "outputs": [
    {
     "name": "stderr",
     "output_type": "stream",
     "text": [
      "C:\\Users\\druzh\\AppData\\Local\\Temp\\ipykernel_9204\\1746811327.py:1: SettingWithCopyWarning: \n",
      "A value is trying to be set on a copy of a slice from a DataFrame.\n",
      "Try using .loc[row_indexer,col_indexer] = value instead\n",
      "\n",
      "See the caveats in the documentation: https://pandas.pydata.org/pandas-docs/stable/user_guide/indexing.html#returning-a-view-versus-a-copy\n",
      "  features[\"cat31_bag\"] = bag_of_words_1.tolist()\n"
     ]
    }
   ],
   "source": [
    "features[\"cat31_bag\"] = bag_of_words_1.tolist()"
   ]
  },
  {
   "cell_type": "code",
   "execution_count": 27,
   "metadata": {},
   "outputs": [
    {
     "name": "stderr",
     "output_type": "stream",
     "text": [
      "C:\\Users\\druzh\\AppData\\Local\\Temp\\ipykernel_9204\\313503571.py:1: SettingWithCopyWarning: \n",
      "A value is trying to be set on a copy of a slice from a DataFrame.\n",
      "Try using .loc[row_indexer,col_indexer] = value instead\n",
      "\n",
      "See the caveats in the documentation: https://pandas.pydata.org/pandas-docs/stable/user_guide/indexing.html#returning-a-view-versus-a-copy\n",
      "  features[\"cat32_bag\"] = bag_of_words_2.tolist()\n"
     ]
    }
   ],
   "source": [
    "features[\"cat32_bag\"] = bag_of_words_2.tolist()"
   ]
  },
  {
   "cell_type": "code",
   "execution_count": 28,
   "metadata": {},
   "outputs": [
    {
     "name": "stderr",
     "output_type": "stream",
     "text": [
      "C:\\Users\\druzh\\AppData\\Local\\Temp\\ipykernel_9204\\4000331720.py:1: SettingWithCopyWarning: \n",
      "A value is trying to be set on a copy of a slice from a DataFrame.\n",
      "Try using .loc[row_indexer,col_indexer] = value instead\n",
      "\n",
      "See the caveats in the documentation: https://pandas.pydata.org/pandas-docs/stable/user_guide/indexing.html#returning-a-view-versus-a-copy\n",
      "  features[\"cat31_len\"] = len_sentences_1\n"
     ]
    }
   ],
   "source": [
    "features[\"cat31_len\"] = len_sentences_1"
   ]
  },
  {
   "cell_type": "code",
   "execution_count": 29,
   "metadata": {},
   "outputs": [
    {
     "name": "stderr",
     "output_type": "stream",
     "text": [
      "C:\\Users\\druzh\\AppData\\Local\\Temp\\ipykernel_9204\\1013834665.py:1: SettingWithCopyWarning: \n",
      "A value is trying to be set on a copy of a slice from a DataFrame.\n",
      "Try using .loc[row_indexer,col_indexer] = value instead\n",
      "\n",
      "See the caveats in the documentation: https://pandas.pydata.org/pandas-docs/stable/user_guide/indexing.html#returning-a-view-versus-a-copy\n",
      "  features[\"cat32_len\"] = len_sentences_2\n"
     ]
    }
   ],
   "source": [
    "features[\"cat32_len\"] = len_sentences_2"
   ]
  },
  {
   "cell_type": "code",
   "execution_count": 30,
   "metadata": {},
   "outputs": [
    {
     "data": {
      "text/html": [
       "<div>\n",
       "<style scoped>\n",
       "    .dataframe tbody tr th:only-of-type {\n",
       "        vertical-align: middle;\n",
       "    }\n",
       "\n",
       "    .dataframe tbody tr th {\n",
       "        vertical-align: top;\n",
       "    }\n",
       "\n",
       "    .dataframe thead th {\n",
       "        text-align: right;\n",
       "    }\n",
       "</style>\n",
       "<table border=\"1\" class=\"dataframe\">\n",
       "  <thead>\n",
       "    <tr style=\"text-align: right;\">\n",
       "      <th></th>\n",
       "      <th>target</th>\n",
       "      <th>variantid1</th>\n",
       "      <th>variantid2</th>\n",
       "      <th>characteristic_attributes_mapping1</th>\n",
       "      <th>name1</th>\n",
       "      <th>categories1</th>\n",
       "      <th>color_parsed1</th>\n",
       "      <th>pic_embeddings_resnet_v11</th>\n",
       "      <th>main_pic_embeddings_resnet_v11</th>\n",
       "      <th>name_bert_641</th>\n",
       "      <th>...</th>\n",
       "      <th>cat32</th>\n",
       "      <th>cat32_grouped</th>\n",
       "      <th>name1_bag</th>\n",
       "      <th>name2_bag</th>\n",
       "      <th>name1_len</th>\n",
       "      <th>name2_len</th>\n",
       "      <th>cat31_bag</th>\n",
       "      <th>cat32_bag</th>\n",
       "      <th>cat31_len</th>\n",
       "      <th>cat32_len</th>\n",
       "    </tr>\n",
       "  </thead>\n",
       "  <tbody>\n",
       "    <tr>\n",
       "      <th>0</th>\n",
       "      <td>0.0</td>\n",
       "      <td>51197862</td>\n",
       "      <td>51198054</td>\n",
       "      <td>{\"85\":[\"TDM Electric\"],\"8229\":[\"Удлинитель быт...</td>\n",
       "      <td>Удлинитель TDM Electric Люкс УЛ05В 5 м (SQ1303...</td>\n",
       "      <td>{\"1\": \"EPG\", \"2\": \"Электроника\", \"3\": \"Сетевые...</td>\n",
       "      <td>[белый]</td>\n",
       "      <td>None</td>\n",
       "      <td>[[-0.4304909, -0.49474272, -0.46439183, -0.060...</td>\n",
       "      <td>[-0.5104684, 0.56158644, 0.58873796, -0.529718...</td>\n",
       "      <td>...</td>\n",
       "      <td>Сетевые фильтры, разветвители и удлинители</td>\n",
       "      <td>rest</td>\n",
       "      <td>[0, 0, 0, 0, 0, 0, 0, 0, 0, 0, 0, 0, 0, 0, 0, ...</td>\n",
       "      <td>[0, 0, 0, 0, 0, 0, 0, 0, 0, 0, 0, 0, 0, 0, 0, ...</td>\n",
       "      <td>8</td>\n",
       "      <td>8</td>\n",
       "      <td>[0, 0, 0, 0, 0, 0, 0, 0, 0, 0, 0, 0, 0, 0, 0, ...</td>\n",
       "      <td>[0, 0, 0, 0, 0, 0, 0, 0, 0, 0, 0, 0, 0, 0, 0, ...</td>\n",
       "      <td>5</td>\n",
       "      <td>5</td>\n",
       "    </tr>\n",
       "    <tr>\n",
       "      <th>1</th>\n",
       "      <td>0.0</td>\n",
       "      <td>51197862</td>\n",
       "      <td>51199884</td>\n",
       "      <td>{\"85\":[\"TDM Electric\"],\"8229\":[\"Удлинитель быт...</td>\n",
       "      <td>Удлинитель TDM Electric Люкс УЛ05В 5 м (SQ1303...</td>\n",
       "      <td>{\"1\": \"EPG\", \"2\": \"Электроника\", \"3\": \"Сетевые...</td>\n",
       "      <td>[белый]</td>\n",
       "      <td>None</td>\n",
       "      <td>[[-0.4304909, -0.49474272, -0.46439183, -0.060...</td>\n",
       "      <td>[-0.5104684, 0.56158644, 0.58873796, -0.529718...</td>\n",
       "      <td>...</td>\n",
       "      <td>Сетевые фильтры, разветвители и удлинители</td>\n",
       "      <td>rest</td>\n",
       "      <td>[0, 0, 0, 0, 0, 0, 0, 0, 0, 0, 0, 0, 0, 0, 0, ...</td>\n",
       "      <td>[0, 0, 0, 0, 0, 0, 0, 0, 0, 0, 0, 0, 0, 0, 0, ...</td>\n",
       "      <td>8</td>\n",
       "      <td>8</td>\n",
       "      <td>[0, 0, 0, 0, 0, 0, 0, 0, 0, 0, 0, 0, 0, 0, 0, ...</td>\n",
       "      <td>[0, 0, 0, 0, 0, 0, 0, 0, 0, 0, 0, 0, 0, 0, 0, ...</td>\n",
       "      <td>5</td>\n",
       "      <td>5</td>\n",
       "    </tr>\n",
       "  </tbody>\n",
       "</table>\n",
       "<p>2 rows × 29 columns</p>\n",
       "</div>"
      ],
      "text/plain": [
       "   target  variantid1  variantid2  \\\n",
       "0     0.0    51197862    51198054   \n",
       "1     0.0    51197862    51199884   \n",
       "\n",
       "                  characteristic_attributes_mapping1  \\\n",
       "0  {\"85\":[\"TDM Electric\"],\"8229\":[\"Удлинитель быт...   \n",
       "1  {\"85\":[\"TDM Electric\"],\"8229\":[\"Удлинитель быт...   \n",
       "\n",
       "                                               name1  \\\n",
       "0  Удлинитель TDM Electric Люкс УЛ05В 5 м (SQ1303...   \n",
       "1  Удлинитель TDM Electric Люкс УЛ05В 5 м (SQ1303...   \n",
       "\n",
       "                                         categories1 color_parsed1  \\\n",
       "0  {\"1\": \"EPG\", \"2\": \"Электроника\", \"3\": \"Сетевые...       [белый]   \n",
       "1  {\"1\": \"EPG\", \"2\": \"Электроника\", \"3\": \"Сетевые...       [белый]   \n",
       "\n",
       "  pic_embeddings_resnet_v11  \\\n",
       "0                      None   \n",
       "1                      None   \n",
       "\n",
       "                      main_pic_embeddings_resnet_v11  \\\n",
       "0  [[-0.4304909, -0.49474272, -0.46439183, -0.060...   \n",
       "1  [[-0.4304909, -0.49474272, -0.46439183, -0.060...   \n",
       "\n",
       "                                       name_bert_641  ...  \\\n",
       "0  [-0.5104684, 0.56158644, 0.58873796, -0.529718...  ...   \n",
       "1  [-0.5104684, 0.56158644, 0.58873796, -0.529718...  ...   \n",
       "\n",
       "                                        cat32 cat32_grouped  \\\n",
       "0  Сетевые фильтры, разветвители и удлинители          rest   \n",
       "1  Сетевые фильтры, разветвители и удлинители          rest   \n",
       "\n",
       "                                           name1_bag  \\\n",
       "0  [0, 0, 0, 0, 0, 0, 0, 0, 0, 0, 0, 0, 0, 0, 0, ...   \n",
       "1  [0, 0, 0, 0, 0, 0, 0, 0, 0, 0, 0, 0, 0, 0, 0, ...   \n",
       "\n",
       "                                           name2_bag name1_len name2_len  \\\n",
       "0  [0, 0, 0, 0, 0, 0, 0, 0, 0, 0, 0, 0, 0, 0, 0, ...         8         8   \n",
       "1  [0, 0, 0, 0, 0, 0, 0, 0, 0, 0, 0, 0, 0, 0, 0, ...         8         8   \n",
       "\n",
       "                                           cat31_bag  \\\n",
       "0  [0, 0, 0, 0, 0, 0, 0, 0, 0, 0, 0, 0, 0, 0, 0, ...   \n",
       "1  [0, 0, 0, 0, 0, 0, 0, 0, 0, 0, 0, 0, 0, 0, 0, ...   \n",
       "\n",
       "                                           cat32_bag cat31_len cat32_len  \n",
       "0  [0, 0, 0, 0, 0, 0, 0, 0, 0, 0, 0, 0, 0, 0, 0, ...         5         5  \n",
       "1  [0, 0, 0, 0, 0, 0, 0, 0, 0, 0, 0, 0, 0, 0, 0, ...         5         5  \n",
       "\n",
       "[2 rows x 29 columns]"
      ]
     },
     "execution_count": 30,
     "metadata": {},
     "output_type": "execute_result"
    }
   ],
   "source": [
    "features.head(2)"
   ]
  },
  {
   "cell_type": "code",
   "execution_count": 31,
   "metadata": {},
   "outputs": [],
   "source": [
    "gg = features['color_parsed1'].values\n",
    "color_parsed1 = []\n",
    "for g in range(len(gg)):\n",
    "    try:\n",
    "        color_parsed1.append(gg[g][0])\n",
    "    except:\n",
    "        color_parsed1.append('None')\n",
    "gg1 = features['color_parsed2'].values\n",
    "for g in range(len(gg1)):\n",
    "    try:\n",
    "        color_parsed1.append(gg1[g][0])\n",
    "    except:\n",
    "        color_parsed1.append('None')"
   ]
  },
  {
   "cell_type": "code",
   "execution_count": 32,
   "metadata": {},
   "outputs": [],
   "source": [
    "bag_of_words, len_sentences = create_bag_of_words(color_parsed1)"
   ]
  },
  {
   "cell_type": "code",
   "execution_count": 33,
   "metadata": {},
   "outputs": [
    {
     "name": "stdout",
     "output_type": "stream",
     "text": [
      "(6000, 53)\n"
     ]
    }
   ],
   "source": [
    "print(bag_of_words.shape)"
   ]
  },
  {
   "cell_type": "code",
   "execution_count": 34,
   "metadata": {},
   "outputs": [],
   "source": [
    "bag_of_words_1, bag_of_words_2 = bag_of_words[:len(bag_of_words) // 2], bag_of_words[len(bag_of_words) // 2:]\n",
    "len_sentences_1, len_sentences_2 = len_sentences[:len(len_sentences) // 2], len_sentences[len(len_sentences) // 2:]"
   ]
  },
  {
   "cell_type": "code",
   "execution_count": 35,
   "metadata": {},
   "outputs": [
    {
     "name": "stderr",
     "output_type": "stream",
     "text": [
      "C:\\Users\\druzh\\AppData\\Local\\Temp\\ipykernel_9204\\1199472630.py:1: SettingWithCopyWarning: \n",
      "A value is trying to be set on a copy of a slice from a DataFrame.\n",
      "Try using .loc[row_indexer,col_indexer] = value instead\n",
      "\n",
      "See the caveats in the documentation: https://pandas.pydata.org/pandas-docs/stable/user_guide/indexing.html#returning-a-view-versus-a-copy\n",
      "  features[\"color1_bag\"] = bag_of_words_1.tolist()\n"
     ]
    }
   ],
   "source": [
    "features[\"color1_bag\"] = bag_of_words_1.tolist()"
   ]
  },
  {
   "cell_type": "code",
   "execution_count": 36,
   "metadata": {},
   "outputs": [
    {
     "name": "stderr",
     "output_type": "stream",
     "text": [
      "C:\\Users\\druzh\\AppData\\Local\\Temp\\ipykernel_9204\\4123931162.py:1: SettingWithCopyWarning: \n",
      "A value is trying to be set on a copy of a slice from a DataFrame.\n",
      "Try using .loc[row_indexer,col_indexer] = value instead\n",
      "\n",
      "See the caveats in the documentation: https://pandas.pydata.org/pandas-docs/stable/user_guide/indexing.html#returning-a-view-versus-a-copy\n",
      "  features[\"color2_bag\"] = bag_of_words_2.tolist()\n"
     ]
    }
   ],
   "source": [
    "features[\"color2_bag\"] = bag_of_words_2.tolist()"
   ]
  },
  {
   "cell_type": "code",
   "execution_count": 37,
   "metadata": {},
   "outputs": [
    {
     "data": {
      "text/html": [
       "<div>\n",
       "<style scoped>\n",
       "    .dataframe tbody tr th:only-of-type {\n",
       "        vertical-align: middle;\n",
       "    }\n",
       "\n",
       "    .dataframe tbody tr th {\n",
       "        vertical-align: top;\n",
       "    }\n",
       "\n",
       "    .dataframe thead th {\n",
       "        text-align: right;\n",
       "    }\n",
       "</style>\n",
       "<table border=\"1\" class=\"dataframe\">\n",
       "  <thead>\n",
       "    <tr style=\"text-align: right;\">\n",
       "      <th></th>\n",
       "      <th>target</th>\n",
       "      <th>variantid1</th>\n",
       "      <th>variantid2</th>\n",
       "      <th>characteristic_attributes_mapping1</th>\n",
       "      <th>name1</th>\n",
       "      <th>categories1</th>\n",
       "      <th>color_parsed1</th>\n",
       "      <th>pic_embeddings_resnet_v11</th>\n",
       "      <th>main_pic_embeddings_resnet_v11</th>\n",
       "      <th>name_bert_641</th>\n",
       "      <th>...</th>\n",
       "      <th>name1_bag</th>\n",
       "      <th>name2_bag</th>\n",
       "      <th>name1_len</th>\n",
       "      <th>name2_len</th>\n",
       "      <th>cat31_bag</th>\n",
       "      <th>cat32_bag</th>\n",
       "      <th>cat31_len</th>\n",
       "      <th>cat32_len</th>\n",
       "      <th>color1_bag</th>\n",
       "      <th>color2_bag</th>\n",
       "    </tr>\n",
       "  </thead>\n",
       "  <tbody>\n",
       "    <tr>\n",
       "      <th>0</th>\n",
       "      <td>0.0</td>\n",
       "      <td>51197862</td>\n",
       "      <td>51198054</td>\n",
       "      <td>{\"85\":[\"TDM Electric\"],\"8229\":[\"Удлинитель быт...</td>\n",
       "      <td>Удлинитель TDM Electric Люкс УЛ05В 5 м (SQ1303...</td>\n",
       "      <td>{\"1\": \"EPG\", \"2\": \"Электроника\", \"3\": \"Сетевые...</td>\n",
       "      <td>[белый]</td>\n",
       "      <td>None</td>\n",
       "      <td>[[-0.4304909, -0.49474272, -0.46439183, -0.060...</td>\n",
       "      <td>[-0.5104684, 0.56158644, 0.58873796, -0.529718...</td>\n",
       "      <td>...</td>\n",
       "      <td>[0, 0, 0, 0, 0, 0, 0, 0, 0, 0, 0, 0, 0, 0, 0, ...</td>\n",
       "      <td>[0, 0, 0, 0, 0, 0, 0, 0, 0, 0, 0, 0, 0, 0, 0, ...</td>\n",
       "      <td>8</td>\n",
       "      <td>8</td>\n",
       "      <td>[0, 0, 0, 0, 0, 0, 0, 0, 0, 0, 0, 0, 0, 0, 0, ...</td>\n",
       "      <td>[0, 0, 0, 0, 0, 0, 0, 0, 0, 0, 0, 0, 0, 0, 0, ...</td>\n",
       "      <td>5</td>\n",
       "      <td>5</td>\n",
       "      <td>[0, 0, 0, 0, 0, 0, 0, 0, 0, 0, 0, 0, 0, 0, 0, ...</td>\n",
       "      <td>[0, 0, 0, 0, 0, 0, 0, 0, 0, 0, 0, 0, 0, 0, 0, ...</td>\n",
       "    </tr>\n",
       "    <tr>\n",
       "      <th>1</th>\n",
       "      <td>0.0</td>\n",
       "      <td>51197862</td>\n",
       "      <td>51199884</td>\n",
       "      <td>{\"85\":[\"TDM Electric\"],\"8229\":[\"Удлинитель быт...</td>\n",
       "      <td>Удлинитель TDM Electric Люкс УЛ05В 5 м (SQ1303...</td>\n",
       "      <td>{\"1\": \"EPG\", \"2\": \"Электроника\", \"3\": \"Сетевые...</td>\n",
       "      <td>[белый]</td>\n",
       "      <td>None</td>\n",
       "      <td>[[-0.4304909, -0.49474272, -0.46439183, -0.060...</td>\n",
       "      <td>[-0.5104684, 0.56158644, 0.58873796, -0.529718...</td>\n",
       "      <td>...</td>\n",
       "      <td>[0, 0, 0, 0, 0, 0, 0, 0, 0, 0, 0, 0, 0, 0, 0, ...</td>\n",
       "      <td>[0, 0, 0, 0, 0, 0, 0, 0, 0, 0, 0, 0, 0, 0, 0, ...</td>\n",
       "      <td>8</td>\n",
       "      <td>8</td>\n",
       "      <td>[0, 0, 0, 0, 0, 0, 0, 0, 0, 0, 0, 0, 0, 0, 0, ...</td>\n",
       "      <td>[0, 0, 0, 0, 0, 0, 0, 0, 0, 0, 0, 0, 0, 0, 0, ...</td>\n",
       "      <td>5</td>\n",
       "      <td>5</td>\n",
       "      <td>[0, 0, 0, 0, 0, 0, 0, 0, 0, 0, 0, 0, 0, 0, 0, ...</td>\n",
       "      <td>[0, 0, 0, 0, 0, 0, 0, 0, 0, 0, 0, 0, 0, 0, 0, ...</td>\n",
       "    </tr>\n",
       "  </tbody>\n",
       "</table>\n",
       "<p>2 rows × 31 columns</p>\n",
       "</div>"
      ],
      "text/plain": [
       "   target  variantid1  variantid2  \\\n",
       "0     0.0    51197862    51198054   \n",
       "1     0.0    51197862    51199884   \n",
       "\n",
       "                  characteristic_attributes_mapping1  \\\n",
       "0  {\"85\":[\"TDM Electric\"],\"8229\":[\"Удлинитель быт...   \n",
       "1  {\"85\":[\"TDM Electric\"],\"8229\":[\"Удлинитель быт...   \n",
       "\n",
       "                                               name1  \\\n",
       "0  Удлинитель TDM Electric Люкс УЛ05В 5 м (SQ1303...   \n",
       "1  Удлинитель TDM Electric Люкс УЛ05В 5 м (SQ1303...   \n",
       "\n",
       "                                         categories1 color_parsed1  \\\n",
       "0  {\"1\": \"EPG\", \"2\": \"Электроника\", \"3\": \"Сетевые...       [белый]   \n",
       "1  {\"1\": \"EPG\", \"2\": \"Электроника\", \"3\": \"Сетевые...       [белый]   \n",
       "\n",
       "  pic_embeddings_resnet_v11  \\\n",
       "0                      None   \n",
       "1                      None   \n",
       "\n",
       "                      main_pic_embeddings_resnet_v11  \\\n",
       "0  [[-0.4304909, -0.49474272, -0.46439183, -0.060...   \n",
       "1  [[-0.4304909, -0.49474272, -0.46439183, -0.060...   \n",
       "\n",
       "                                       name_bert_641  ...  \\\n",
       "0  [-0.5104684, 0.56158644, 0.58873796, -0.529718...  ...   \n",
       "1  [-0.5104684, 0.56158644, 0.58873796, -0.529718...  ...   \n",
       "\n",
       "                                           name1_bag  \\\n",
       "0  [0, 0, 0, 0, 0, 0, 0, 0, 0, 0, 0, 0, 0, 0, 0, ...   \n",
       "1  [0, 0, 0, 0, 0, 0, 0, 0, 0, 0, 0, 0, 0, 0, 0, ...   \n",
       "\n",
       "                                           name2_bag name1_len name2_len  \\\n",
       "0  [0, 0, 0, 0, 0, 0, 0, 0, 0, 0, 0, 0, 0, 0, 0, ...         8         8   \n",
       "1  [0, 0, 0, 0, 0, 0, 0, 0, 0, 0, 0, 0, 0, 0, 0, ...         8         8   \n",
       "\n",
       "                                           cat31_bag  \\\n",
       "0  [0, 0, 0, 0, 0, 0, 0, 0, 0, 0, 0, 0, 0, 0, 0, ...   \n",
       "1  [0, 0, 0, 0, 0, 0, 0, 0, 0, 0, 0, 0, 0, 0, 0, ...   \n",
       "\n",
       "                                           cat32_bag cat31_len cat32_len  \\\n",
       "0  [0, 0, 0, 0, 0, 0, 0, 0, 0, 0, 0, 0, 0, 0, 0, ...         5         5   \n",
       "1  [0, 0, 0, 0, 0, 0, 0, 0, 0, 0, 0, 0, 0, 0, 0, ...         5         5   \n",
       "\n",
       "                                          color1_bag  \\\n",
       "0  [0, 0, 0, 0, 0, 0, 0, 0, 0, 0, 0, 0, 0, 0, 0, ...   \n",
       "1  [0, 0, 0, 0, 0, 0, 0, 0, 0, 0, 0, 0, 0, 0, 0, ...   \n",
       "\n",
       "                                          color2_bag  \n",
       "0  [0, 0, 0, 0, 0, 0, 0, 0, 0, 0, 0, 0, 0, 0, 0, ...  \n",
       "1  [0, 0, 0, 0, 0, 0, 0, 0, 0, 0, 0, 0, 0, 0, 0, ...  \n",
       "\n",
       "[2 rows x 31 columns]"
      ]
     },
     "execution_count": 37,
     "metadata": {},
     "output_type": "execute_result"
    }
   ],
   "source": [
    "features.head(2)"
   ]
  },
  {
   "cell_type": "code",
   "execution_count": 38,
   "metadata": {
    "ExecuteTime": {
     "end_time": "2023-05-19T06:28:45.696151Z",
     "start_time": "2023-05-19T06:28:45.692484Z"
    }
   },
   "outputs": [],
   "source": [
    "feats = [\"name1_bag\", \"name1_len\", \"name2_bag\", \"name2_len\", \"cat31_bag\", \"cat32_bag\", \"cat31_len\", \"cat32_len\", \"color1_bag\", 'color2_bag']"
   ]
  },
  {
   "cell_type": "code",
   "execution_count": 73,
   "metadata": {
    "ExecuteTime": {
     "end_time": "2023-05-19T06:29:01.923278Z",
     "start_time": "2023-05-19T06:28:54.101554Z"
    }
   },
   "outputs": [],
   "source": [
    "X_train, X_test = train_test_split(\n",
    "    features[feats + [\"target\", \"variantid1\", \"variantid2\", \"cat31_grouped\"]], \n",
    "    test_size=0.1, random_state=42, stratify=features[[\"target\"]])\n",
    "\n",
    "X_train, X_val = train_test_split(\n",
    "    X_train[feats + [\"target\"]], \n",
    "    test_size=0.1, random_state=42, stratify=X_train[[\"target\"]])\n",
    "\n",
    "cats = X_test[\"cat31_grouped\"]\n",
    "y_test_w_var = X_test[[\"target\", \"variantid1\", \"variantid2\"]]\n",
    "y_test = X_test[[\"target\"]]\n",
    "\n",
    "X_test = X_test.drop([\"target\", \"variantid1\", \"variantid2\", \"cat31_grouped\"], axis=1)\n",
    "\n",
    "y_train = X_train[\"target\"]\n",
    "y_val = X_val[\"target\"]\n",
    "\n",
    "X_train = X_train.drop([\"target\"], axis=1)\n",
    "X_val = X_val.drop([\"target\"], axis=1)\n",
    "\n",
    "        \n"
   ]
  },
  {
   "cell_type": "code",
   "execution_count": 81,
   "metadata": {},
   "outputs": [
    {
     "data": {
      "text/plain": [
       "36                   rest\n",
       "196                  rest\n",
       "1745                 rest\n",
       "39                   rest\n",
       "2334    Игровая приставка\n",
       "              ...        \n",
       "885                  rest\n",
       "562                  rest\n",
       "2959    Игровая приставка\n",
       "2037    Игровая приставка\n",
       "2303    Игровая приставка\n",
       "Name: cat31_grouped, Length: 300, dtype: object"
      ]
     },
     "execution_count": 81,
     "metadata": {},
     "output_type": "execute_result"
    }
   ],
   "source": [
    "cats"
   ]
  },
  {
   "cell_type": "code",
   "execution_count": 57,
   "metadata": {},
   "outputs": [],
   "source": [
    "X_train_final = []\n",
    "\n",
    "for i in range(len(X_train)):\n",
    "    row = []\n",
    "    row.extend(list(X_train[feats[0]].iloc[i]))\n",
    "    row.extend(list(X_train[feats[2]].iloc[i]))\n",
    "    row.extend(list(X_train[feats[4]].iloc[i]))\n",
    "    row.extend(list(X_train[feats[5]].iloc[i]))\n",
    "    row.extend(list(X_train[feats[8]].iloc[i]))\n",
    "    row.extend(list(X_train[feats[9]].iloc[i]))\n",
    "    row.extend([X_train[feats[b]].iloc[i] for b in [1,3,6,7]])\n",
    "    X_train_final.append(row)"
   ]
  },
  {
   "cell_type": "code",
   "execution_count": 58,
   "metadata": {},
   "outputs": [
    {
     "name": "stdout",
     "output_type": "stream",
     "text": [
      "2430\n"
     ]
    }
   ],
   "source": [
    "print(len(X_train_final))"
   ]
  },
  {
   "cell_type": "code",
   "execution_count": 59,
   "metadata": {},
   "outputs": [
    {
     "name": "stdout",
     "output_type": "stream",
     "text": [
      "428     0.0\n",
      "1313    1.0\n",
      "1969    1.0\n",
      "1584    1.0\n",
      "2442    1.0\n",
      "       ... \n",
      "2719    1.0\n",
      "1877    1.0\n",
      "1776    0.0\n",
      "1381    0.0\n",
      "1186    1.0\n",
      "Name: target, Length: 2430, dtype: float64\n"
     ]
    }
   ],
   "source": [
    "print(y_train)"
   ]
  },
  {
   "cell_type": "code",
   "execution_count": 60,
   "metadata": {},
   "outputs": [],
   "source": [
    "X_test_final = []\n",
    "\n",
    "for i in range(len(X_test)):\n",
    "    row = []\n",
    "    row.extend(list(X_test[feats[0]].iloc[i]))\n",
    "    row.extend(list(X_test[feats[2]].iloc[i]))\n",
    "    row.extend(list(X_test[feats[4]].iloc[i]))\n",
    "    row.extend(list(X_test[feats[5]].iloc[i]))\n",
    "    row.extend(list(X_test[feats[8]].iloc[i]))\n",
    "    row.extend(list(X_test[feats[9]].iloc[i]))\n",
    "    row.extend([X_test[feats[b]].iloc[i] for b in [1,3,6,7]])\n",
    "    X_test_final.append(row)"
   ]
  },
  {
   "cell_type": "code",
   "execution_count": 61,
   "metadata": {},
   "outputs": [
    {
     "name": "stdout",
     "output_type": "stream",
     "text": [
      "300\n"
     ]
    }
   ],
   "source": [
    "print(len(X_test_final))"
   ]
  },
  {
   "cell_type": "code",
   "execution_count": 62,
   "metadata": {},
   "outputs": [
    {
     "name": "stdout",
     "output_type": "stream",
     "text": [
      "      target\n",
      "36       0.0\n",
      "196      0.0\n",
      "1745     0.0\n",
      "39       0.0\n",
      "2334     1.0\n",
      "...      ...\n",
      "885      1.0\n",
      "562      0.0\n",
      "2959     1.0\n",
      "2037     1.0\n",
      "2303     1.0\n",
      "\n",
      "[300 rows x 1 columns]\n"
     ]
    }
   ],
   "source": [
    "print(y_test)"
   ]
  },
  {
   "cell_type": "code",
   "execution_count": 63,
   "metadata": {},
   "outputs": [
    {
     "data": {
      "text/html": [
       "<style>#sk-container-id-2 {color: black;background-color: white;}#sk-container-id-2 pre{padding: 0;}#sk-container-id-2 div.sk-toggleable {background-color: white;}#sk-container-id-2 label.sk-toggleable__label {cursor: pointer;display: block;width: 100%;margin-bottom: 0;padding: 0.3em;box-sizing: border-box;text-align: center;}#sk-container-id-2 label.sk-toggleable__label-arrow:before {content: \"▸\";float: left;margin-right: 0.25em;color: #696969;}#sk-container-id-2 label.sk-toggleable__label-arrow:hover:before {color: black;}#sk-container-id-2 div.sk-estimator:hover label.sk-toggleable__label-arrow:before {color: black;}#sk-container-id-2 div.sk-toggleable__content {max-height: 0;max-width: 0;overflow: hidden;text-align: left;background-color: #f0f8ff;}#sk-container-id-2 div.sk-toggleable__content pre {margin: 0.2em;color: black;border-radius: 0.25em;background-color: #f0f8ff;}#sk-container-id-2 input.sk-toggleable__control:checked~div.sk-toggleable__content {max-height: 200px;max-width: 100%;overflow: auto;}#sk-container-id-2 input.sk-toggleable__control:checked~label.sk-toggleable__label-arrow:before {content: \"▾\";}#sk-container-id-2 div.sk-estimator input.sk-toggleable__control:checked~label.sk-toggleable__label {background-color: #d4ebff;}#sk-container-id-2 div.sk-label input.sk-toggleable__control:checked~label.sk-toggleable__label {background-color: #d4ebff;}#sk-container-id-2 input.sk-hidden--visually {border: 0;clip: rect(1px 1px 1px 1px);clip: rect(1px, 1px, 1px, 1px);height: 1px;margin: -1px;overflow: hidden;padding: 0;position: absolute;width: 1px;}#sk-container-id-2 div.sk-estimator {font-family: monospace;background-color: #f0f8ff;border: 1px dotted black;border-radius: 0.25em;box-sizing: border-box;margin-bottom: 0.5em;}#sk-container-id-2 div.sk-estimator:hover {background-color: #d4ebff;}#sk-container-id-2 div.sk-parallel-item::after {content: \"\";width: 100%;border-bottom: 1px solid gray;flex-grow: 1;}#sk-container-id-2 div.sk-label:hover label.sk-toggleable__label {background-color: #d4ebff;}#sk-container-id-2 div.sk-serial::before {content: \"\";position: absolute;border-left: 1px solid gray;box-sizing: border-box;top: 0;bottom: 0;left: 50%;z-index: 0;}#sk-container-id-2 div.sk-serial {display: flex;flex-direction: column;align-items: center;background-color: white;padding-right: 0.2em;padding-left: 0.2em;position: relative;}#sk-container-id-2 div.sk-item {position: relative;z-index: 1;}#sk-container-id-2 div.sk-parallel {display: flex;align-items: stretch;justify-content: center;background-color: white;position: relative;}#sk-container-id-2 div.sk-item::before, #sk-container-id-2 div.sk-parallel-item::before {content: \"\";position: absolute;border-left: 1px solid gray;box-sizing: border-box;top: 0;bottom: 0;left: 50%;z-index: -1;}#sk-container-id-2 div.sk-parallel-item {display: flex;flex-direction: column;z-index: 1;position: relative;background-color: white;}#sk-container-id-2 div.sk-parallel-item:first-child::after {align-self: flex-end;width: 50%;}#sk-container-id-2 div.sk-parallel-item:last-child::after {align-self: flex-start;width: 50%;}#sk-container-id-2 div.sk-parallel-item:only-child::after {width: 0;}#sk-container-id-2 div.sk-dashed-wrapped {border: 1px dashed gray;margin: 0 0.4em 0.5em 0.4em;box-sizing: border-box;padding-bottom: 0.4em;background-color: white;}#sk-container-id-2 div.sk-label label {font-family: monospace;font-weight: bold;display: inline-block;line-height: 1.2em;}#sk-container-id-2 div.sk-label-container {text-align: center;}#sk-container-id-2 div.sk-container {/* jupyter's `normalize.less` sets `[hidden] { display: none; }` but bootstrap.min.css set `[hidden] { display: none !important; }` so we also need the `!important` here to be able to override the default hidden behavior on the sphinx rendered scikit-learn.org. See: https://github.com/scikit-learn/scikit-learn/issues/21755 */display: inline-block !important;position: relative;}#sk-container-id-2 div.sk-text-repr-fallback {display: none;}</style><div id=\"sk-container-id-2\" class=\"sk-top-container\"><div class=\"sk-text-repr-fallback\"><pre>LogisticRegression(max_iter=1000)</pre><b>In a Jupyter environment, please rerun this cell to show the HTML representation or trust the notebook. <br />On GitHub, the HTML representation is unable to render, please try loading this page with nbviewer.org.</b></div><div class=\"sk-container\" hidden><div class=\"sk-item\"><div class=\"sk-estimator sk-toggleable\"><input class=\"sk-toggleable__control sk-hidden--visually\" id=\"sk-estimator-id-2\" type=\"checkbox\" checked><label for=\"sk-estimator-id-2\" class=\"sk-toggleable__label sk-toggleable__label-arrow\">LogisticRegression</label><div class=\"sk-toggleable__content\"><pre>LogisticRegression(max_iter=1000)</pre></div></div></div></div></div>"
      ],
      "text/plain": [
       "LogisticRegression(max_iter=1000)"
      ]
     },
     "execution_count": 63,
     "metadata": {},
     "output_type": "execute_result"
    }
   ],
   "source": [
    "\n",
    "\n",
    "from sklearn.linear_model import LogisticRegression\n",
    "model = LogisticRegression(max_iter = 1000)\n",
    "model.fit(X_train_final, y_train)\n",
    "\n",
    "\n"
   ]
  },
  {
   "cell_type": "code",
   "execution_count": 64,
   "metadata": {
    "scrolled": true
   },
   "outputs": [
    {
     "name": "stdout",
     "output_type": "stream",
     "text": [
      "Mean Squared Error: 0.13333333333333333\n",
      "f1: 0.898477157360406\n",
      "Accuracy: 0.8666666666666667\n",
      "Precision: 0.8592233009708737\n",
      "Recall: 0.9414893617021277\n"
     ]
    }
   ],
   "source": [
    "import random\n",
    "from sklearn.metrics import mean_squared_error\n",
    "from sklearn.metrics import f1_score\n",
    "from sklearn.model_selection import train_test_split\n",
    "from sklearn.metrics import accuracy_score, precision_score, recall_score\n",
    "prediction = model.predict(X_test_final)\n",
    "\n",
    "mse = mean_squared_error(y_test, prediction)\n",
    "print(\"Mean Squared Error:\", mse)\n",
    "\n",
    "f1 = f1_score(y_test, prediction)\n",
    "print(\"f1:\", f1)\n",
    "\n",
    "accuracy = accuracy_score(y_test, prediction)\n",
    "precision = precision_score(y_test, prediction)\n",
    "recall = recall_score(y_test, prediction)\n",
    "print(\"Accuracy:\", accuracy)\n",
    "print(\"Precision:\", precision)\n",
    "print(\"Recall:\", recall)"
   ]
  },
  {
   "cell_type": "code",
   "execution_count": 69,
   "metadata": {
    "scrolled": true
   },
   "outputs": [
    {
     "name": "stdout",
     "output_type": "stream",
     "text": [
      "300\n"
     ]
    }
   ],
   "source": [
    "print(len(prediction))"
   ]
  },
  {
   "cell_type": "code",
   "execution_count": 120,
   "metadata": {},
   "outputs": [],
   "source": [
    "import numpy as np\n",
    "from sklearn.metrics import precision_recall_curve, auc\n",
    "\n",
    "\n",
    "def pr_auc_macro(\n",
    "    y_true: pd.Series,\n",
    "    y_pred: pd.Series,\n",
    "    categories: pd.Series,\n",
    "    prec_level: float = 0.75\n",
    ") -> float:\n",
    "    \n",
    "    weights = []\n",
    "    pr_aucs = []\n",
    "\n",
    "    unique_cats, counts = np.unique(categories, return_counts=True)\n",
    "    for i, category in enumerate(unique_cats):\n",
    "        cat_idx = np.where(categories == category)[0]\n",
    "        print(cat_idx)\n",
    "        y_pred_cat = y_pred[cat_idx]\n",
    "        y_true_cat = y_true[cat_idx]\n",
    "        y_true_cat = y_true_cat.T \n",
    "        y, x, thr = precision_recall_curve(y_true_cat, y_pred_cat)\n",
    "        gt_prec_level_idx = np.where(y >= prec_level)[0]\n",
    "\n",
    "        try:\n",
    "            pr_auc_prec_level = auc(x[gt_prec_level_idx], y[gt_prec_level_idx])\n",
    "            if not np.isnan(pr_auc_prec_level):\n",
    "                pr_aucs.append(pr_auc_prec_level)\n",
    "                weights.append(counts[i] / len(categories))\n",
    "        except ValueError as err:\n",
    "            pr_aucs.append(0)\n",
    "            weights.append(0)\n",
    "    return np.average(pr_aucs, weights=weights)"
   ]
  },
  {
   "cell_type": "code",
   "execution_count": 121,
   "metadata": {},
   "outputs": [],
   "source": [
    "X_test[\"scores\"] = prediction\n",
    "y_pred = X_test[\"scores\"]\n",
    "y_test = y_test.reset_index(drop = True)\n",
    "y_pred = y_pred.reset_index(drop = True)\n",
    "cats = cats.reset_index(drop = True)\n",
    "y_test = y_test.T"
   ]
  },
  {
   "cell_type": "code",
   "execution_count": 122,
   "metadata": {},
   "outputs": [
    {
     "name": "stdout",
     "output_type": "stream",
     "text": [
      "[  0   1   2   3   5   6   7  10  11  12  14  15  16  17  21  22  23  25\n",
      "  29  33  34  35  36  37  38  39  41  42  43  45  53  54  55  57  60  63\n",
      "  67  69  70  72  74  75  76  77  78  80  81  82  84  85  87  89  95  98\n",
      "  99 100 102 106 107 108 110 111 112 117 119 120 121 123 124 125 130 132\n",
      " 134 139 140 141 143 144 145 146 150 152 154 155 157 159 161 164 166 167\n",
      " 169 171 172 174 176 177 179 181 182 184 185 187 188 190 194 195 196 197\n",
      " 198 199 200 201 204 205 207 208 210 213 215 216 218 219 220 221 222 226\n",
      " 228 230 232 234 235 239 240 242 243 245 246 248 249 250 256 260 265 267\n",
      " 269 270 271 274 275 276 280 281 282 283 284 285 288 290 291 292 293 295\n",
      " 296]\n",
      "[  4   8   9  13  18  19  20  24  26  27  28  30  31  32  40  44  46  47\n",
      "  48  49  50  51  52  56  58  59  61  62  64  65  66  68  71  73  79  83\n",
      "  86  88  90  91  92  93  94  96  97 101 103 104 105 109 113 114 115 116\n",
      " 118 122 126 127 128 129 131 133 135 136 137 138 142 147 148 149 151 153\n",
      " 156 158 160 162 163 165 168 170 173 175 178 180 183 186 189 191 192 193\n",
      " 202 203 206 209 211 212 214 217 223 224 225 227 229 231 233 236 237 238\n",
      " 241 244 247 251 252 253 254 255 257 258 259 261 262 263 264 266 268 272\n",
      " 273 277 278 279 286 287 289 294 297 298 299]\n"
     ]
    },
    {
     "data": {
      "text/plain": [
       "0.9781021897810219"
      ]
     },
     "execution_count": 122,
     "metadata": {},
     "output_type": "execute_result"
    }
   ],
   "source": [
    "pr_auc_macro_metr = pr_auc_macro(\n",
    "    y_true=y_test, \n",
    "    y_pred=y_pred,\n",
    "    categories = cats,\n",
    "    prec_level=0.75\n",
    ")\n",
    "\n",
    "pr_auc_macro_metr"
   ]
  },
  {
   "cell_type": "code",
   "execution_count": 128,
   "metadata": {},
   "outputs": [
    {
     "data": {
      "image/png": "[encoded data removed]",
      "text/plain": [
       "<Figure size 640x480 with 1 Axes>"
      ]
     },
     "metadata": {},
     "output_type": "display_data"
    }
   ],
   "source": [
    "precision, recall, thrs = precision_recall_curve(y_test.T, y_pred)\n",
    "pr_auc = auc(recall, precision)\n",
    "\n",
    "fig, ax1 = plt.subplots(1)\n",
    "\n",
    "ax1.plot( recall , precision)\n",
    "ax1.axhline(y=0.75, color='grey', linestyle='-');"
   ]
  },
  {
   "cell_type": "code",
   "execution_count": null,
   "metadata": {},
   "outputs": [],
   "source": []
  }
 ],
 "metadata": {
  "kernelspec": {
   "display_name": "Python 3 (ipykernel)",
   "language": "python",
   "name": "python3"
  },
  "language_info": {
   "codemirror_mode": {
    "name": "ipython",
    "version": 3
   },
   "file_extension": ".py",
   "mimetype": "text/x-python",
   "name": "python",
   "nbconvert_exporter": "python",
   "pygments_lexer": "ipython3",
   "version": "3.8.10"
  }
 },
 "nbformat": 4,
 "nbformat_minor": 4
}
