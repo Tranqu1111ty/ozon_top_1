{
 "cells": [
  {
   "cell_type": "code",
   "execution_count": 1,
   "metadata": {
    "ExecuteTime": {
     "end_time": "2023-05-19T06:10:23.678400Z",
     "start_time": "2023-05-19T06:10:16.503064Z"
    }
   },
   "outputs": [],
   "source": [
    "import json\n",
    "from functools import partial\n",
    "from typing import List\n",
    "\n",
    "import matplotlib.pyplot as plt\n",
    "import numpy as np\n",
    "import pandas as pd\n",
    "import seaborn as sns\n",
    "from catboost import CatBoostClassifier, Pool\n",
    "from catboost.utils import eval_metric\n",
    "from scipy.spatial.distance import cosine, euclidean\n",
    "from sklearn.metrics import pairwise_distances\n",
    "from sklearn.model_selection import train_test_split"
   ]
  },
  {
   "cell_type": "markdown",
   "metadata": {},
   "source": [
    "### Load data"
   ]
  },
  {
   "cell_type": "code",
   "execution_count": 3,
   "metadata": {
    "ExecuteTime": {
     "end_time": "2023-05-19T06:12:05.012452Z",
     "start_time": "2023-05-19T06:11:27.878101Z"
    }
   },
   "outputs": [],
   "source": [
    "dataset = pd.read_parquet(\"Datasets/train_pairs.parquet\")\n",
    "etl = pd.read_parquet(\"Datasets/train_data.parquet\")"
   ]
  },
  {
   "cell_type": "code",
   "execution_count": 4,
   "metadata": {
    "ExecuteTime": {
     "end_time": "2023-05-19T06:12:07.891757Z",
     "start_time": "2023-05-19T06:12:07.868318Z"
    }
   },
   "outputs": [
    {
     "data": {
      "text/html": [
       "<div>\n",
       "<style scoped>\n",
       "    .dataframe tbody tr th:only-of-type {\n",
       "        vertical-align: middle;\n",
       "    }\n",
       "\n",
       "    .dataframe tbody tr th {\n",
       "        vertical-align: top;\n",
       "    }\n",
       "\n",
       "    .dataframe thead th {\n",
       "        text-align: right;\n",
       "    }\n",
       "</style>\n",
       "<table border=\"1\" class=\"dataframe\">\n",
       "  <thead>\n",
       "    <tr style=\"text-align: right;\">\n",
       "      <th></th>\n",
       "      <th>target</th>\n",
       "      <th>variantid1</th>\n",
       "      <th>variantid2</th>\n",
       "    </tr>\n",
       "  </thead>\n",
       "  <tbody>\n",
       "    <tr>\n",
       "      <th>0</th>\n",
       "      <td>0.0</td>\n",
       "      <td>51197862</td>\n",
       "      <td>51198054</td>\n",
       "    </tr>\n",
       "    <tr>\n",
       "      <th>1</th>\n",
       "      <td>1.0</td>\n",
       "      <td>53062686</td>\n",
       "      <td>536165289</td>\n",
       "    </tr>\n",
       "  </tbody>\n",
       "</table>\n",
       "</div>"
      ],
      "text/plain": [
       "   target  variantid1  variantid2\n",
       "0     0.0    51197862    51198054\n",
       "1     1.0    53062686   536165289"
      ]
     },
     "execution_count": 4,
     "metadata": {},
     "output_type": "execute_result"
    }
   ],
   "source": [
    "dataset.head(2)"
   ]
  },
  {
   "cell_type": "code",
   "execution_count": 5,
   "metadata": {
    "ExecuteTime": {
     "end_time": "2023-05-19T06:12:20.476738Z",
     "start_time": "2023-05-19T06:12:20.458918Z"
    }
   },
   "outputs": [
    {
     "data": {
      "text/plain": [
       "0.0    171527\n",
       "1.0    135013\n",
       "Name: target, dtype: int64"
      ]
     },
     "execution_count": 5,
     "metadata": {},
     "output_type": "execute_result"
    }
   ],
   "source": [
    "dataset[\"target\"].value_counts()"
   ]
  },
  {
   "cell_type": "code",
   "execution_count": 6,
   "metadata": {
    "ExecuteTime": {
     "end_time": "2023-05-19T06:12:27.245184Z",
     "start_time": "2023-05-19T06:12:27.228294Z"
    }
   },
   "outputs": [
    {
     "data": {
      "text/html": [
       "<div>\n",
       "<style scoped>\n",
       "    .dataframe tbody tr th:only-of-type {\n",
       "        vertical-align: middle;\n",
       "    }\n",
       "\n",
       "    .dataframe tbody tr th {\n",
       "        vertical-align: top;\n",
       "    }\n",
       "\n",
       "    .dataframe thead th {\n",
       "        text-align: right;\n",
       "    }\n",
       "</style>\n",
       "<table border=\"1\" class=\"dataframe\">\n",
       "  <thead>\n",
       "    <tr style=\"text-align: right;\">\n",
       "      <th></th>\n",
       "      <th>variantid</th>\n",
       "      <th>name</th>\n",
       "      <th>categories</th>\n",
       "      <th>color_parsed</th>\n",
       "      <th>pic_embeddings_resnet_v1</th>\n",
       "      <th>main_pic_embeddings_resnet_v1</th>\n",
       "      <th>name_bert_64</th>\n",
       "      <th>characteristic_attributes_mapping</th>\n",
       "    </tr>\n",
       "  </thead>\n",
       "  <tbody>\n",
       "    <tr>\n",
       "      <th>0</th>\n",
       "      <td>51195767</td>\n",
       "      <td>Удлинитель Партнер-Электро ПВС 2х0,75 ГОСТ,6A,...</td>\n",
       "      <td>{\"1\": \"EPG\", \"2\": \"Электроника\", \"3\": \"Сетевые...</td>\n",
       "      <td>[оранжевый]</td>\n",
       "      <td>None</td>\n",
       "      <td>[[0.04603629, 0.18839523, -0.09973055, -0.6636...</td>\n",
       "      <td>[-0.47045058, 0.67237014, 0.48984158, -0.54485...</td>\n",
       "      <td>{\"Номинальный ток, А\":[\"10\"],\"Цвет товара\":[\"о...</td>\n",
       "    </tr>\n",
       "    <tr>\n",
       "      <th>1</th>\n",
       "      <td>53565809</td>\n",
       "      <td>Магнитный кабель USB 2.0 A (m) - USB Type-C (m...</td>\n",
       "      <td>{\"1\": \"EPG\", \"2\": \"Электроника\", \"3\": \"Кабели ...</td>\n",
       "      <td>[красный]</td>\n",
       "      <td>[[0.26863545, -0.3130674, 0.29023397, 0.073978...</td>\n",
       "      <td>[[1.1471839, -0.665361, 0.7745614, 0.26716197,...</td>\n",
       "      <td>[-0.6575592, 0.6522429, 0.5426037, -0.54347897...</td>\n",
       "      <td>{\"Конструктивные особенности\":[\"Магнитная конс...</td>\n",
       "    </tr>\n",
       "  </tbody>\n",
       "</table>\n",
       "</div>"
      ],
      "text/plain": [
       "   variantid                                               name  \\\n",
       "0   51195767  Удлинитель Партнер-Электро ПВС 2х0,75 ГОСТ,6A,...   \n",
       "1   53565809  Магнитный кабель USB 2.0 A (m) - USB Type-C (m...   \n",
       "\n",
       "                                          categories color_parsed  \\\n",
       "0  {\"1\": \"EPG\", \"2\": \"Электроника\", \"3\": \"Сетевые...  [оранжевый]   \n",
       "1  {\"1\": \"EPG\", \"2\": \"Электроника\", \"3\": \"Кабели ...    [красный]   \n",
       "\n",
       "                            pic_embeddings_resnet_v1  \\\n",
       "0                                               None   \n",
       "1  [[0.26863545, -0.3130674, 0.29023397, 0.073978...   \n",
       "\n",
       "                       main_pic_embeddings_resnet_v1  \\\n",
       "0  [[0.04603629, 0.18839523, -0.09973055, -0.6636...   \n",
       "1  [[1.1471839, -0.665361, 0.7745614, 0.26716197,...   \n",
       "\n",
       "                                        name_bert_64  \\\n",
       "0  [-0.47045058, 0.67237014, 0.48984158, -0.54485...   \n",
       "1  [-0.6575592, 0.6522429, 0.5426037, -0.54347897...   \n",
       "\n",
       "                   characteristic_attributes_mapping  \n",
       "0  {\"Номинальный ток, А\":[\"10\"],\"Цвет товара\":[\"о...  \n",
       "1  {\"Конструктивные особенности\":[\"Магнитная конс...  "
      ]
     },
     "execution_count": 6,
     "metadata": {},
     "output_type": "execute_result"
    }
   ],
   "source": [
    "etl.head(2)"
   ]
  },
  {
   "cell_type": "markdown",
   "metadata": {},
   "source": [
    "Get raw data for each variantid."
   ]
  },
  {
   "cell_type": "code",
   "execution_count": 10,
   "metadata": {},
   "outputs": [
    {
     "data": {
      "text/plain": [
       "array([array([ 0.26863545, -0.3130674 ,  0.29023397,  0.07397822,  0.13181262,\n",
       "               0.10270227,  0.34185737, -0.272934  ,  1.1131566 , -1.1758841 ,\n",
       "              -0.29369342, -0.07741779, -0.5371096 , -0.35637388,  0.5276637 ,\n",
       "              -0.45687738, -0.21378133,  1.5331167 , -0.89128953,  0.48118243,\n",
       "              -0.84258896,  0.4243123 ,  0.09662217, -0.39909384, -0.1556411 ,\n",
       "              -0.5369617 , -0.42900747, -0.6742888 ,  0.83070225, -1.1620623 ,\n",
       "               0.18242283, -0.7076701 ,  1.1039854 ,  0.43214688,  0.1410865 ,\n",
       "               0.0174003 , -0.54143184, -1.3481662 , -1.5270164 , -0.6511549 ,\n",
       "               0.60594976, -0.47410226, -0.02414984, -0.1560706 ,  0.0728327 ,\n",
       "              -0.15040806, -0.70390433, -0.76463884,  0.9695078 ,  0.05226621,\n",
       "               1.1919931 ,  0.13180336, -0.01353153, -1.0888747 , -0.71035343,\n",
       "              -0.31424844, -0.4653632 , -0.23315454,  0.45585275, -1.2964255 ,\n",
       "               0.62327254, -1.3632559 ,  0.20280471, -0.2146806 , -0.04811555,\n",
       "               0.30296966,  0.3425385 , -0.03201475,  0.44208753,  0.8178118 ,\n",
       "               0.05333322,  0.6036235 ,  0.26305303, -0.24535623,  0.14034103,\n",
       "              -0.2971293 ,  0.6008639 , -0.01707629,  0.28599325,  0.16279417,\n",
       "              -0.30952203,  0.49369496,  0.32908982, -0.44340226, -0.39035574,\n",
       "               0.38079378,  0.3152313 ,  0.13998622,  0.06213749, -0.48288924,\n",
       "              -0.19147731,  0.7825943 , -0.49766085,  0.07605369,  0.50625   ,\n",
       "               0.04726463,  0.58779246,  0.041453  , -0.0644211 ,  0.91081935,\n",
       "              -0.51264364, -0.05685962, -1.3156573 ,  0.3408703 , -1.2695973 ,\n",
       "              -0.5501649 ,  1.3845701 , -0.86036646,  0.4002576 , -0.4742354 ,\n",
       "               0.19790049,  0.6026035 , -0.18391109,  0.6146381 , -0.4576977 ,\n",
       "               0.2020573 , -0.13376223, -0.10658807,  0.6768002 , -0.20237091,\n",
       "               0.12448303, -0.6421586 , -0.26933503,  0.23474868, -0.88781214,\n",
       "               1.027418  , -0.6607482 , -0.72711253], dtype=float32)          ,\n",
       "       array([ 3.70039016e-01,  5.69666505e-01,  1.32554531e+00, -4.22461033e-01,\n",
       "              -5.73943198e-01, -7.37007916e-01,  4.19391394e-01, -1.20627165e+00,\n",
       "               3.16324413e-01, -8.49052131e-01,  3.06321204e-01,  8.18660855e-02,\n",
       "              -1.12495291e+00, -2.82657713e-01, -5.63623421e-02, -7.95106173e-01,\n",
       "               1.84955373e-01,  3.16760987e-01, -8.30714285e-01, -4.43434477e-01,\n",
       "              -6.47013903e-01,  7.42619261e-02,  1.14137664e-01,  1.17687774e+00,\n",
       "              -5.37099361e-01, -2.70437807e-01, -1.49878323e-01, -1.06966114e+00,\n",
       "               2.15709165e-01, -1.39993235e-01, -2.09546059e-01, -2.56369174e-01,\n",
       "               2.74273723e-01, -1.48399100e-01,  1.13666423e-01, -3.37431163e-01,\n",
       "              -1.08654201e+00,  3.24466974e-02, -7.30464876e-01,  9.26528201e-02,\n",
       "              -2.03571897e-02,  7.42644370e-01,  8.88625205e-01, -6.11243665e-01,\n",
       "              -1.13861598e-01, -3.45825195e-01,  1.06377721e+00, -3.51996243e-01,\n",
       "              -5.66761196e-01,  3.93052995e-02, -3.39443684e-01, -9.12728310e-02,\n",
       "              -7.02285171e-02, -9.84391496e-02,  2.63185143e-01, -7.28892803e-01,\n",
       "               5.62404692e-01, -1.12131321e+00,  1.90637305e-01, -7.25468397e-01,\n",
       "               4.39853258e-02, -5.19502461e-01, -5.36745369e-01, -3.54537874e-01,\n",
       "              -5.84408462e-01,  7.12694108e-01, -9.57038626e-02,  4.74321067e-01,\n",
       "              -9.68634412e-02, -7.78528035e-01,  8.01708758e-01, -2.22198945e-03,\n",
       "              -3.47375125e-01, -9.96091068e-02,  6.62570715e-01, -4.89407003e-01,\n",
       "               7.33243302e-02, -3.41759592e-01, -5.63413858e-01, -1.35950017e+00,\n",
       "               4.55406100e-01,  2.20803976e-01, -1.68584630e-01, -5.03428221e-01,\n",
       "              -1.30903929e-01,  4.27244812e-01,  4.30016220e-01,  1.98932141e-01,\n",
       "              -4.55094695e-01,  2.04371795e-01,  7.21787885e-02, -6.70104742e-01,\n",
       "               2.58828014e-01,  3.12442899e-01,  3.73402014e-02,  8.00771952e-01,\n",
       "               2.69743770e-01, -5.81635296e-01,  2.14892164e-01,  4.29313123e-01,\n",
       "              -4.31687906e-02,  2.75717378e-01,  8.32416594e-01, -3.52209181e-01,\n",
       "               3.99213284e-01,  3.45839769e-01, -1.63116649e-01, -4.10411805e-01,\n",
       "               1.27851808e+00,  5.60065135e-02,  5.35467923e-01,  3.63951236e-01,\n",
       "               5.87593734e-01,  5.33392191e-01,  1.84710145e-01,  3.31041843e-01,\n",
       "               3.27570409e-01, -1.12464547e+00, -1.04588419e-01,  2.39331022e-01,\n",
       "               5.93441427e-01, -3.13161910e-01, -1.02933705e+00,  2.23535195e-01,\n",
       "              -4.25760537e-01,  3.17126840e-01, -5.80395572e-05,  1.41807109e-01],\n",
       "             dtype=float32)                                                       ,\n",
       "       array([ 0.50017583, -0.44603258,  0.53853726,  0.04199787, -0.4838698 ,\n",
       "              -0.50087065, -0.14509381, -0.45880997,  0.47483873, -0.5023953 ,\n",
       "              -0.78807884, -0.6674089 , -0.40139714,  0.10449865,  0.16773923,\n",
       "               0.15872253, -0.15437512,  0.79728585, -0.09036499,  0.06825056,\n",
       "              -0.91190994, -0.44148123,  0.5818886 , -0.20409505,  0.48882046,\n",
       "              -0.67417985, -0.19568373, -0.27317458, -0.3915205 , -0.45983657,\n",
       "              -0.10409363, -0.6749397 ,  1.0699911 ,  0.33668128, -0.3620292 ,\n",
       "              -0.76552314, -0.0053824 , -0.43145233, -0.9080372 ,  0.3269788 ,\n",
       "               0.45692748,  0.5123337 , -0.14278837, -0.25634342, -0.01302246,\n",
       "               0.4044138 ,  0.11922561, -0.38834608, -0.1838946 ,  0.4924084 ,\n",
       "               0.957255  , -0.13961531, -0.69216913, -0.8065431 , -0.21090925,\n",
       "               0.09814425, -0.20511535, -0.35400257,  0.14584602, -0.8870979 ,\n",
       "               0.9794219 , -0.8203563 ,  0.192102  , -0.47985026, -0.37711948,\n",
       "               0.7205122 , -0.42320278, -0.40550137,  0.16941108,  0.27832186,\n",
       "               0.54056716,  0.28022268,  0.17068505,  0.8610161 , -0.09036556,\n",
       "              -0.13642436, -0.03843423,  0.1228424 , -0.79649186, -0.3974895 ,\n",
       "               0.203282  , -0.40949392,  0.51785946,  0.2850864 ,  0.09830096,\n",
       "              -0.8547135 , -0.19282173,  0.27872446, -0.17329054, -0.11697531,\n",
       "               0.2762596 ,  0.01659883,  0.10124231,  0.545795  , -0.01090433,\n",
       "               1.1059269 , -0.03765819, -0.2953765 ,  0.10881408,  0.3464742 ,\n",
       "              -0.05276107, -0.2022387 , -0.63790226, -0.4393136 ,  0.11431123,\n",
       "              -0.08531927,  0.43976185, -0.98500687,  0.49238336,  0.09597339,\n",
       "               0.3666535 ,  0.6548889 ,  0.17152186,  0.31947806,  0.1912532 ,\n",
       "              -0.5210029 ,  0.07104435, -0.9593432 ,  0.27342063,  0.46952182,\n",
       "               0.33230498, -0.10982744, -0.34394476, -0.67734617, -1.4311389 ,\n",
       "               0.25017318,  0.02131817, -0.5364069 ], dtype=float32)          ,\n",
       "       array([ 7.59911597e-01, -9.03175771e-01,  1.12356341e+00, -2.63467789e-01,\n",
       "              -2.51117200e-01, -4.87713248e-01, -3.10637116e-01, -6.47608995e-01,\n",
       "               7.75707781e-01, -8.97219837e-01, -7.87161291e-01, -1.06396556e+00,\n",
       "              -7.06072986e-01,  2.61985540e-01,  1.06012928e+00, -6.16557121e-01,\n",
       "               6.89165771e-01,  6.34856343e-01, -2.02340603e-01, -4.41697687e-01,\n",
       "              -1.05748489e-01, -3.88630211e-01,  7.61294723e-01,  4.91340578e-01,\n",
       "               2.81723708e-01, -2.42826566e-02, -7.51750827e-01, -4.77018476e-01,\n",
       "              -4.15348351e-01,  2.28507295e-01, -2.47446587e-03, -9.67106283e-01,\n",
       "               7.82732248e-01, -8.25383067e-01, -6.32869542e-01, -8.44568312e-01,\n",
       "              -5.90830088e-01,  1.13325894e-01, -4.94920164e-01,  3.92492026e-01,\n",
       "               9.26621556e-01,  9.00689960e-01,  4.95839745e-01,  2.24459007e-01,\n",
       "               4.16213483e-01,  1.64864689e-01,  6.74635708e-01, -3.23937953e-01,\n",
       "               4.64527220e-01,  4.55193892e-02,  6.16470993e-01,  9.19731438e-01,\n",
       "              -6.38660133e-01, -1.13729835e+00, -7.99583077e-01,  1.83682382e-01,\n",
       "               2.21119419e-01, -3.48765999e-02,  5.50622165e-01, -1.04528797e+00,\n",
       "               6.30564570e-01, -2.80048966e-01,  1.99950829e-01, -1.60805559e+00,\n",
       "              -2.57421583e-01, -1.89672738e-01, -1.75182134e-01, -3.86674441e-02,\n",
       "              -1.60220101e-01,  2.57627100e-01,  1.48819089e+00,  1.14101076e+00,\n",
       "              -9.33366120e-02,  3.63434345e-01,  6.53277457e-01, -8.20452034e-01,\n",
       "               3.59816581e-01,  2.55092770e-01, -3.85201424e-01, -3.93255919e-01,\n",
       "              -7.57080093e-02, -2.72115707e-01,  3.93420756e-01, -2.30645463e-02,\n",
       "              -9.38576341e-01,  1.00627780e+00,  1.40648663e+00,  1.68055236e+00,\n",
       "              -1.94980502e-01,  6.85099736e-02, -4.69798595e-01,  1.87573701e-01,\n",
       "               2.62513697e-01,  4.48544979e-01, -5.05605116e-02,  1.46649218e+00,\n",
       "               1.02052081e+00,  8.15172791e-02,  2.76109695e-01,  3.11918348e-01,\n",
       "              -9.44933370e-02, -1.00107700e-01, -2.21088864e-02,  8.11879337e-02,\n",
       "               2.67969847e-01,  4.13515985e-01, -1.66277826e-01, -5.94538450e-01,\n",
       "               8.52309644e-01, -1.04240894e-01,  4.85840470e-01,  8.87557685e-01,\n",
       "               1.59551382e-01,  2.29232818e-01,  5.75012982e-01,  4.11550581e-01,\n",
       "              -1.09803252e-01, -4.77641612e-01,  5.24230003e-01,  2.59393841e-01,\n",
       "               4.69743609e-02, -1.12161145e-01, -1.98216230e-01, -4.99413818e-01,\n",
       "              -2.21152115e+00,  2.13693641e-03, -2.11565763e-01, -4.59238917e-01],\n",
       "             dtype=float32)                                                       ,\n",
       "       array([ 5.20768240e-02, -9.18405116e-01,  6.06743813e-01, -7.44359195e-02,\n",
       "              -1.24973750e+00,  4.30535167e-01, -2.22074583e-01, -3.64993840e-01,\n",
       "               2.83279717e-01, -1.15554142e+00, -1.28553763e-01, -1.06810963e+00,\n",
       "              -9.24443662e-01,  2.71637350e-01,  5.85627675e-01, -7.60318458e-01,\n",
       "               6.81685746e-01,  1.47777987e+00, -1.30383873e+00, -4.42442596e-02,\n",
       "              -1.07661374e-01,  2.74819076e-01, -2.96905870e-03, -1.69624109e-03,\n",
       "              -4.61126059e-01, -2.73422509e-01, -6.60369098e-01, -2.47746602e-01,\n",
       "              -6.18406773e-01, -8.82576481e-02,  7.98114911e-02, -2.58289278e-01,\n",
       "               4.62554276e-01, -1.00263715e+00, -4.70359474e-01, -4.67070565e-02,\n",
       "              -5.86323261e-01, -9.49542224e-02, -1.48156154e+00,  5.90121567e-01,\n",
       "               1.18590450e+00, -2.80153245e-01,  6.35704398e-01, -8.13238174e-02,\n",
       "               1.36382356e-01,  5.26644647e-01,  2.13781759e-01, -7.41469085e-01,\n",
       "               1.47155777e-01,  5.09090543e-01, -3.74162942e-01,  3.62052321e-01,\n",
       "               4.14571203e-02, -5.61600983e-01, -6.39094651e-01, -1.27787262e-01,\n",
       "               2.61515379e-01, -2.39150107e-01,  3.23047750e-02, -2.72315573e-02,\n",
       "               1.14817850e-01, -3.41853946e-01,  7.04951644e-01, -5.10560095e-01,\n",
       "               6.88377857e-01,  5.80560684e-01,  3.81531149e-01,  2.59174585e-01,\n",
       "               2.64417320e-01,  7.42312908e-01,  9.31803405e-01,  1.30378747e+00,\n",
       "               1.26970291e-01, -1.63317919e-01,  1.17622578e+00, -6.40317261e-01,\n",
       "               1.01630676e+00, -3.57634097e-01,  3.37157667e-01, -1.16624087e-01,\n",
       "              -2.44067572e-02, -5.72185874e-01,  4.44872022e-01,  2.03217372e-01,\n",
       "              -1.91717744e+00,  1.26459813e+00,  3.83406341e-01,  9.14219394e-03,\n",
       "               7.05918431e-01, -7.81206727e-01, -7.69403577e-02,  4.38875705e-01,\n",
       "               1.18467160e-01,  1.53097379e+00,  2.60118753e-01,  3.65141392e-01,\n",
       "               7.18052804e-01,  8.51758718e-02, -9.53763783e-01,  1.73044354e-01,\n",
       "               4.43606004e-02, -8.42555165e-01,  3.69549513e-01,  4.15489912e-01,\n",
       "              -3.34284753e-01,  2.98514247e-01,  3.37451398e-01, -2.37519726e-01,\n",
       "               7.86345661e-01,  4.48720217e-01, -2.35566244e-01,  5.91236912e-02,\n",
       "              -1.53084481e+00,  9.70636457e-02, -9.47540939e-01,  3.54520172e-01,\n",
       "               2.20365211e-01, -5.13182104e-01, -1.41972322e-02, -5.17543912e-01,\n",
       "              -6.90043867e-01, -5.78468263e-01, -2.14291245e-01, -3.48384678e-01,\n",
       "              -1.23441851e+00,  9.59960043e-01, -3.96363512e-02, -2.71640092e-01],\n",
       "             dtype=float32)                                                       ],\n",
       "      dtype=object)"
      ]
     },
     "execution_count": 10,
     "metadata": {},
     "output_type": "execute_result"
    }
   ],
   "source": [
    "tmp = etl['pic_embeddings_resnet_v1'].values\n",
    "tmp[1]"
   ]
  },
  {
   "cell_type": "code",
   "execution_count": 11,
   "metadata": {
    "ExecuteTime": {
     "end_time": "2023-05-19T06:13:06.702876Z",
     "start_time": "2023-05-19T06:13:03.688111Z"
    }
   },
   "outputs": [],
   "source": [
    "features = (\n",
    "    dataset\n",
    "    .merge(\n",
    "        etl\n",
    "        .add_suffix('1'),\n",
    "        on=\"variantid1\"\n",
    "    )\n",
    "    .merge(\n",
    "        etl\n",
    "        .add_suffix('2'),\n",
    "        on=\"variantid2\"\n",
    "    )\n",
    ")"
   ]
  },
  {
   "cell_type": "code",
   "execution_count": 12,
   "metadata": {
    "ExecuteTime": {
     "end_time": "2023-05-19T06:13:09.645490Z",
     "start_time": "2023-05-19T06:13:09.620414Z"
    }
   },
   "outputs": [
    {
     "data": {
      "text/html": [
       "<div>\n",
       "<style scoped>\n",
       "    .dataframe tbody tr th:only-of-type {\n",
       "        vertical-align: middle;\n",
       "    }\n",
       "\n",
       "    .dataframe tbody tr th {\n",
       "        vertical-align: top;\n",
       "    }\n",
       "\n",
       "    .dataframe thead th {\n",
       "        text-align: right;\n",
       "    }\n",
       "</style>\n",
       "<table border=\"1\" class=\"dataframe\">\n",
       "  <thead>\n",
       "    <tr style=\"text-align: right;\">\n",
       "      <th></th>\n",
       "      <th>target</th>\n",
       "      <th>variantid1</th>\n",
       "      <th>variantid2</th>\n",
       "      <th>name1</th>\n",
       "      <th>categories1</th>\n",
       "      <th>color_parsed1</th>\n",
       "      <th>pic_embeddings_resnet_v11</th>\n",
       "      <th>main_pic_embeddings_resnet_v11</th>\n",
       "      <th>name_bert_641</th>\n",
       "      <th>characteristic_attributes_mapping1</th>\n",
       "      <th>name2</th>\n",
       "      <th>categories2</th>\n",
       "      <th>color_parsed2</th>\n",
       "      <th>pic_embeddings_resnet_v12</th>\n",
       "      <th>main_pic_embeddings_resnet_v12</th>\n",
       "      <th>name_bert_642</th>\n",
       "      <th>characteristic_attributes_mapping2</th>\n",
       "    </tr>\n",
       "  </thead>\n",
       "  <tbody>\n",
       "    <tr>\n",
       "      <th>0</th>\n",
       "      <td>0.0</td>\n",
       "      <td>51197862</td>\n",
       "      <td>51198054</td>\n",
       "      <td>Удлинитель TDM Electric Люкс УЛ05В 5 м (SQ1303...</td>\n",
       "      <td>{\"1\": \"EPG\", \"2\": \"Электроника\", \"3\": \"Сетевые...</td>\n",
       "      <td>[белый]</td>\n",
       "      <td>None</td>\n",
       "      <td>[[-0.4304909, -0.49474272, -0.46439183, -0.060...</td>\n",
       "      <td>[-0.5104684, 0.56158644, 0.58873796, -0.529718...</td>\n",
       "      <td>{\"Число жил\":[\"3\"],\"Макс. нагрузка, Вт\":[\"3500...</td>\n",
       "      <td>Удлинитель TDM Electric Люкс УЛ05В 1.5 м (SQ13...</td>\n",
       "      <td>{\"1\": \"EPG\", \"2\": \"Электроника\", \"3\": \"Сетевые...</td>\n",
       "      <td>[белый]</td>\n",
       "      <td>None</td>\n",
       "      <td>[[-0.42941108, -0.5129398, -0.4753536, -0.0677...</td>\n",
       "      <td>[-0.455473, 0.58157134, 0.5870387, -0.5325003,...</td>\n",
       "      <td>{\"Электробезопасность\":[\"Заземление\"],\"Длина к...</td>\n",
       "    </tr>\n",
       "    <tr>\n",
       "      <th>1</th>\n",
       "      <td>0.0</td>\n",
       "      <td>51197862</td>\n",
       "      <td>51199884</td>\n",
       "      <td>Удлинитель TDM Electric Люкс УЛ05В 5 м (SQ1303...</td>\n",
       "      <td>{\"1\": \"EPG\", \"2\": \"Электроника\", \"3\": \"Сетевые...</td>\n",
       "      <td>[белый]</td>\n",
       "      <td>None</td>\n",
       "      <td>[[-0.4304909, -0.49474272, -0.46439183, -0.060...</td>\n",
       "      <td>[-0.5104684, 0.56158644, 0.58873796, -0.529718...</td>\n",
       "      <td>{\"Число жил\":[\"3\"],\"Макс. нагрузка, Вт\":[\"3500...</td>\n",
       "      <td>Удлинитель TDM Electric Люкс УЛ05В 3 м (SQ1303...</td>\n",
       "      <td>{\"1\": \"EPG\", \"2\": \"Электроника\", \"3\": \"Сетевые...</td>\n",
       "      <td>[белый]</td>\n",
       "      <td>None</td>\n",
       "      <td>[[-0.43180764, -0.49580905, -0.5062628, -0.130...</td>\n",
       "      <td>[-0.5425725, 0.6415736, 0.51481575, -0.5687392...</td>\n",
       "      <td>{\"Макс. нагрузка, Вт\":[\"3500\"],\"Стандарт защит...</td>\n",
       "    </tr>\n",
       "  </tbody>\n",
       "</table>\n",
       "</div>"
      ],
      "text/plain": [
       "   target  variantid1  variantid2  \\\n",
       "0     0.0    51197862    51198054   \n",
       "1     0.0    51197862    51199884   \n",
       "\n",
       "                                               name1  \\\n",
       "0  Удлинитель TDM Electric Люкс УЛ05В 5 м (SQ1303...   \n",
       "1  Удлинитель TDM Electric Люкс УЛ05В 5 м (SQ1303...   \n",
       "\n",
       "                                         categories1 color_parsed1  \\\n",
       "0  {\"1\": \"EPG\", \"2\": \"Электроника\", \"3\": \"Сетевые...       [белый]   \n",
       "1  {\"1\": \"EPG\", \"2\": \"Электроника\", \"3\": \"Сетевые...       [белый]   \n",
       "\n",
       "  pic_embeddings_resnet_v11  \\\n",
       "0                      None   \n",
       "1                      None   \n",
       "\n",
       "                      main_pic_embeddings_resnet_v11  \\\n",
       "0  [[-0.4304909, -0.49474272, -0.46439183, -0.060...   \n",
       "1  [[-0.4304909, -0.49474272, -0.46439183, -0.060...   \n",
       "\n",
       "                                       name_bert_641  \\\n",
       "0  [-0.5104684, 0.56158644, 0.58873796, -0.529718...   \n",
       "1  [-0.5104684, 0.56158644, 0.58873796, -0.529718...   \n",
       "\n",
       "                  characteristic_attributes_mapping1  \\\n",
       "0  {\"Число жил\":[\"3\"],\"Макс. нагрузка, Вт\":[\"3500...   \n",
       "1  {\"Число жил\":[\"3\"],\"Макс. нагрузка, Вт\":[\"3500...   \n",
       "\n",
       "                                               name2  \\\n",
       "0  Удлинитель TDM Electric Люкс УЛ05В 1.5 м (SQ13...   \n",
       "1  Удлинитель TDM Electric Люкс УЛ05В 3 м (SQ1303...   \n",
       "\n",
       "                                         categories2 color_parsed2  \\\n",
       "0  {\"1\": \"EPG\", \"2\": \"Электроника\", \"3\": \"Сетевые...       [белый]   \n",
       "1  {\"1\": \"EPG\", \"2\": \"Электроника\", \"3\": \"Сетевые...       [белый]   \n",
       "\n",
       "  pic_embeddings_resnet_v12  \\\n",
       "0                      None   \n",
       "1                      None   \n",
       "\n",
       "                      main_pic_embeddings_resnet_v12  \\\n",
       "0  [[-0.42941108, -0.5129398, -0.4753536, -0.0677...   \n",
       "1  [[-0.43180764, -0.49580905, -0.5062628, -0.130...   \n",
       "\n",
       "                                       name_bert_642  \\\n",
       "0  [-0.455473, 0.58157134, 0.5870387, -0.5325003,...   \n",
       "1  [-0.5425725, 0.6415736, 0.51481575, -0.5687392...   \n",
       "\n",
       "                  characteristic_attributes_mapping2  \n",
       "0  {\"Электробезопасность\":[\"Заземление\"],\"Длина к...  \n",
       "1  {\"Макс. нагрузка, Вт\":[\"3500\"],\"Стандарт защит...  "
      ]
     },
     "execution_count": 12,
     "metadata": {},
     "output_type": "execute_result"
    }
   ],
   "source": [
    "features.head(2)"
   ]
  },
  {
   "cell_type": "markdown",
   "metadata": {},
   "source": [
    "Features functions."
   ]
  },
  {
   "cell_type": "code",
   "execution_count": 8,
   "metadata": {
    "ExecuteTime": {
     "end_time": "2023-05-19T06:14:03.019463Z",
     "start_time": "2023-05-19T06:14:03.002869Z"
    }
   },
   "outputs": [],
   "source": [
    "def get_pic_features(main_pic_embeddings_1,\n",
    "                     main_pic_embeddings_2,\n",
    "                     percentiles: List[int]):\n",
    "    \"\"\"Calculate distances percentiles for \n",
    "    pairwise pic distances. Percentiles are useful \n",
    "    when product has several pictures.\n",
    "    \"\"\"\n",
    "    \n",
    "    if main_pic_embeddings_1 is not None and main_pic_embeddings_2 is not None:\n",
    "        main_pic_embeddings_1 = np.array([x for x in main_pic_embeddings_1])\n",
    "        main_pic_embeddings_2 = np.array([x for x in main_pic_embeddings_2])\n",
    "        \n",
    "        dist_m = pairwise_distances(\n",
    "            main_pic_embeddings_1, main_pic_embeddings_2\n",
    "        )\n",
    "    else:\n",
    "        dist_m = np.array([[-1]])\n",
    "\n",
    "    pair_features = []\n",
    "    pair_features += np.percentile(dist_m, percentiles).tolist()\n",
    "\n",
    "    return pair_features\n",
    "\n",
    "\n",
    "def text_dense_distances(ozon_embedding, comp_embedding):\n",
    "    \"\"\"Calculate Euclidean and Cosine distances between\n",
    "    ozon_embedding and comp_embedding.\n",
    "    \"\"\"\n",
    "    pair_features = []\n",
    "    if ozon_embedding is None or comp_embedding is None:\n",
    "        pair_features = [-1, -1]\n",
    "    elif len(ozon_embedding) == 0 or len(comp_embedding) == 0:\n",
    "        pair_features = [-1, -1]\n",
    "    else:\n",
    "        pair_features.append(\n",
    "            euclidean(ozon_embedding, comp_embedding)\n",
    "        )\n",
    "        cosine_value = cosine(ozon_embedding, comp_embedding)\n",
    "        \n",
    "        pair_features.append(cosine_value)\n",
    "\n",
    "    return pair_features\n"
   ]
  },
  {
   "cell_type": "code",
   "execution_count": 9,
   "metadata": {
    "ExecuteTime": {
     "end_time": "2023-05-19T06:14:25.968001Z",
     "start_time": "2023-05-19T06:14:25.965711Z"
    }
   },
   "outputs": [],
   "source": [
    "get_pic_features_func = partial(\n",
    "    get_pic_features,\n",
    "    percentiles=[0, 25, 50]\n",
    ")"
   ]
  },
  {
   "cell_type": "code",
   "execution_count": 10,
   "metadata": {
    "ExecuteTime": {
     "end_time": "2023-05-19T06:17:05.936723Z",
     "start_time": "2023-05-19T06:14:27.944747Z"
    }
   },
   "outputs": [],
   "source": [
    "features[[\"pic_dist_0_perc\", \"pic_dist_25_perc\", \"pic_dist_50_perc\"]] = (\n",
    "    features[[\"pic_embeddings_resnet_v11\", \"pic_embeddings_resnet_v12\"]].apply(\n",
    "        lambda x: pd.Series(get_pic_features_func(*x)), axis=1\n",
    "    )\n",
    ")\n",
    "\n",
    "# btw try to add distances between main pic embs"
   ]
  },
  {
   "cell_type": "code",
   "execution_count": 11,
   "metadata": {
    "ExecuteTime": {
     "end_time": "2023-05-19T06:18:48.810761Z",
     "start_time": "2023-05-19T06:17:26.418017Z"
    }
   },
   "outputs": [],
   "source": [
    "features[[\"euclidean_name_bert_dist\", \"cosine_name_bert_dist\"]] = (\n",
    "    features[[\"name_bert_641\", \"name_bert_642\"]].apply(\n",
    "        lambda x: pd.Series(text_dense_distances(*x)), axis=1\n",
    "    )\n",
    ")\n",
    "\n",
    "# try to use your favorite NLP model"
   ]
  },
  {
   "cell_type": "code",
   "execution_count": 12,
   "metadata": {
    "ExecuteTime": {
     "end_time": "2023-05-19T06:28:28.028773Z",
     "start_time": "2023-05-19T06:28:27.086139Z"
    }
   },
   "outputs": [],
   "source": [
    "features[\"cat3\"] = features[\"categories1\"].apply(lambda x: json.loads(x)[\"3\"])\n",
    "cat3_counts = features[\"cat3\"].value_counts().to_dict()"
   ]
  },
  {
   "cell_type": "markdown",
   "metadata": {},
   "source": [
    "Let's find good cat size threshold"
   ]
  },
  {
   "cell_type": "code",
   "execution_count": 13,
   "metadata": {
    "ExecuteTime": {
     "end_time": "2023-05-19T06:28:30.630458Z",
     "start_time": "2023-05-19T06:28:30.624296Z"
    }
   },
   "outputs": [
    {
     "data": {
      "text/plain": [
       "10765"
      ]
     },
     "execution_count": 13,
     "metadata": {},
     "output_type": "execute_result"
    }
   ],
   "source": [
    "cntr = 0\n",
    "for cat3 in cat3_counts:\n",
    "    if cat3_counts[cat3] < 1_000:\n",
    "        cntr += cat3_counts[cat3]\n",
    "        \n",
    "cntr"
   ]
  },
  {
   "cell_type": "markdown",
   "metadata": {},
   "source": [
    "10k for \"rest\" cats probably is good"
   ]
  },
  {
   "cell_type": "code",
   "execution_count": 14,
   "metadata": {
    "ExecuteTime": {
     "end_time": "2023-05-19T06:28:36.996792Z",
     "start_time": "2023-05-19T06:28:36.896447Z"
    }
   },
   "outputs": [],
   "source": [
    "features[\"cat3_grouped\"] = features[\"cat3\"].apply(lambda x: x if cat3_counts[x] > 1000 else \"rest\")"
   ]
  },
  {
   "cell_type": "markdown",
   "metadata": {},
   "source": [
    "Choose features"
   ]
  },
  {
   "cell_type": "code",
   "execution_count": 15,
   "metadata": {
    "ExecuteTime": {
     "end_time": "2023-05-19T06:28:45.696151Z",
     "start_time": "2023-05-19T06:28:45.692484Z"
    }
   },
   "outputs": [],
   "source": [
    "feats = [\"pic_dist_0_perc\", \"pic_dist_25_perc\", \"pic_dist_50_perc\", \n",
    "         \"euclidean_name_bert_dist\", \"cosine_name_bert_dist\"]"
   ]
  },
  {
   "cell_type": "markdown",
   "metadata": {},
   "source": [
    "Split dataset"
   ]
  },
  {
   "cell_type": "code",
   "execution_count": 16,
   "metadata": {
    "ExecuteTime": {
     "end_time": "2023-05-19T06:29:01.923278Z",
     "start_time": "2023-05-19T06:28:54.101554Z"
    }
   },
   "outputs": [],
   "source": [
    "X_train, X_test = train_test_split(\n",
    "    features[feats + [\"target\", \"variantid1\", \"variantid2\", \"cat3_grouped\"]], \n",
    "    test_size=0.1, random_state=42, stratify=features[[\"target\", \"cat3_grouped\"]]\n",
    ")\n",
    "\n",
    "X_train, X_val = train_test_split(\n",
    "    X_train[feats + [\"target\",  \"variantid1\", \"variantid2\", \"cat3_grouped\"]], \n",
    "    test_size=0.1, random_state=42, stratify=X_train[[\"target\", \"cat3_grouped\"]]\n",
    ")\n",
    "\n",
    "y_test = X_test[[\"target\", \"variantid1\", \"variantid2\"]]\n",
    "X_test = X_test.drop([\"target\"], axis=1)\n",
    "\n",
    "y_train = X_train[\"target\"]\n",
    "y_val = X_val[\"target\"]\n",
    "\n",
    "X_train = X_train.drop([\"target\"], axis=1)\n",
    "X_val = X_val.drop([\"target\"], axis=1)\n",
    "\n",
    "\n",
    "train_pool = Pool(\n",
    "    data=X_train[feats],\n",
    "    label=y_train,\n",
    ")\n",
    "eval_pool = Pool(\n",
    "    data=X_val[feats],\n",
    "    label=y_val,\n",
    ")"
   ]
  },
  {
   "cell_type": "markdown",
   "metadata": {},
   "source": [
    "Train model"
   ]
  },
  {
   "cell_type": "code",
   "execution_count": 17,
   "metadata": {
    "ExecuteTime": {
     "end_time": "2023-05-19T06:29:24.898318Z",
     "start_time": "2023-05-19T06:29:07.544816Z"
    },
    "scrolled": true
   },
   "outputs": [
    {
     "data": {
      "application/vnd.jupyter.widget-view+json": {
       "model_id": "f6a5cfaa669d43238a378d4cf2ba44a0",
       "version_major": 2,
       "version_minor": 0
      },
      "text/plain": [
       "MetricVisualizer(layout=Layout(align_self='stretch', height='500px'))"
      ]
     },
     "metadata": {},
     "output_type": "display_data"
    },
    {
     "name": "stdout",
     "output_type": "stream",
     "text": [
      "Learning rate set to 0.123728\n",
      "0:\tlearn: 0.6776664\ttest: 0.6769780\tbest: 0.6769780 (0)\ttotal: 168ms\tremaining: 2m 47s\n"
     ]
    },
    {
     "name": "stderr",
     "output_type": "stream",
     "text": [
      "Warning: Overfitting detector is active, thus evaluation metric is calculated on every iteration. 'metric_period' is ignored for evaluation metric.\n"
     ]
    },
    {
     "name": "stdout",
     "output_type": "stream",
     "text": [
      "100:\tlearn: 0.5912099\ttest: 0.5880045\tbest: 0.5880045 (100)\ttotal: 1.58s\tremaining: 14s\n",
      "200:\tlearn: 0.5826774\ttest: 0.5810349\tbest: 0.5810349 (200)\ttotal: 2.93s\tremaining: 11.6s\n",
      "300:\tlearn: 0.5775730\ttest: 0.5779803\tbest: 0.5779803 (300)\ttotal: 4.27s\tremaining: 9.92s\n",
      "400:\tlearn: 0.5737689\ttest: 0.5765949\tbest: 0.5765949 (400)\ttotal: 5.62s\tremaining: 8.39s\n",
      "500:\tlearn: 0.5705921\ttest: 0.5753714\tbest: 0.5753714 (500)\ttotal: 6.98s\tremaining: 6.95s\n",
      "600:\tlearn: 0.5676650\ttest: 0.5743284\tbest: 0.5743270 (598)\ttotal: 8.32s\tremaining: 5.52s\n",
      "700:\tlearn: 0.5651892\ttest: 0.5737334\tbest: 0.5737208 (699)\ttotal: 9.63s\tremaining: 4.11s\n",
      "800:\tlearn: 0.5627961\ttest: 0.5730553\tbest: 0.5730407 (798)\ttotal: 11s\tremaining: 2.72s\n",
      "900:\tlearn: 0.5604663\ttest: 0.5723963\tbest: 0.5723954 (899)\ttotal: 12.3s\tremaining: 1.35s\n",
      "999:\tlearn: 0.5583952\ttest: 0.5722274\tbest: 0.5721930 (993)\ttotal: 13.6s\tremaining: 0us\n",
      "\n",
      "bestTest = 0.5721929863\n",
      "bestIteration = 993\n",
      "\n",
      "Shrink model to first 994 iterations.\n"
     ]
    },
    {
     "ename": "CatBoostError",
     "evalue": "",
     "output_type": "error",
     "traceback": [
      "\u001b[1;31m---------------------------------------------------------------------------\u001b[0m",
      "\u001b[1;31mCatBoostError\u001b[0m                             Traceback (most recent call last)",
      "Cell \u001b[1;32mIn[17], line 12\u001b[0m\n\u001b[0;32m      1\u001b[0m model \u001b[38;5;241m=\u001b[39m CatBoostClassifier()\n\u001b[0;32m      3\u001b[0m model\u001b[38;5;241m.\u001b[39mfit(\n\u001b[0;32m      4\u001b[0m     train_pool,\n\u001b[0;32m      5\u001b[0m     eval_set\u001b[38;5;241m=\u001b[39meval_pool,\n\u001b[1;32m   (...)\u001b[0m\n\u001b[0;32m     10\u001b[0m     metric_period\u001b[38;5;241m=\u001b[39m\u001b[38;5;241m100\u001b[39m\n\u001b[0;32m     11\u001b[0m )\n\u001b[1;32m---> 12\u001b[0m \u001b[43mmodel\u001b[49m\u001b[38;5;241;43m.\u001b[39;49m\u001b[43msave_model\u001b[49m\u001b[43m(\u001b[49m\u001b[38;5;124;43mf\u001b[39;49m\u001b[38;5;124;43m\"\u001b[39;49m\u001b[38;5;124;43m./models/baseline.cbm\u001b[39;49m\u001b[38;5;124;43m\"\u001b[39;49m\u001b[43m)\u001b[49m\n",
      "File \u001b[1;32m~\\Project_python\\venv\\lib\\site-packages\\catboost\\core.py:3348\u001b[0m, in \u001b[0;36mCatBoost.save_model\u001b[1;34m(self, fname, format, export_parameters, pool)\u001b[0m\n\u001b[0;32m   3341\u001b[0m \u001b[38;5;28;01mif\u001b[39;00m pool \u001b[38;5;129;01mis\u001b[39;00m \u001b[38;5;129;01mnot\u001b[39;00m \u001b[38;5;28;01mNone\u001b[39;00m \u001b[38;5;129;01mand\u001b[39;00m \u001b[38;5;129;01mnot\u001b[39;00m \u001b[38;5;28misinstance\u001b[39m(pool, Pool):\n\u001b[0;32m   3342\u001b[0m     pool \u001b[38;5;241m=\u001b[39m Pool(\n\u001b[0;32m   3343\u001b[0m         data\u001b[38;5;241m=\u001b[39mpool,\n\u001b[0;32m   3344\u001b[0m         cat_features\u001b[38;5;241m=\u001b[39m\u001b[38;5;28mself\u001b[39m\u001b[38;5;241m.\u001b[39m_get_cat_feature_indices() \u001b[38;5;28;01mif\u001b[39;00m \u001b[38;5;129;01mnot\u001b[39;00m \u001b[38;5;28misinstance\u001b[39m(pool, FeaturesData) \u001b[38;5;28;01melse\u001b[39;00m \u001b[38;5;28;01mNone\u001b[39;00m,\n\u001b[0;32m   3345\u001b[0m         text_features\u001b[38;5;241m=\u001b[39m\u001b[38;5;28mself\u001b[39m\u001b[38;5;241m.\u001b[39m_get_text_feature_indices() \u001b[38;5;28;01mif\u001b[39;00m \u001b[38;5;129;01mnot\u001b[39;00m \u001b[38;5;28misinstance\u001b[39m(pool, FeaturesData) \u001b[38;5;28;01melse\u001b[39;00m \u001b[38;5;28;01mNone\u001b[39;00m,\n\u001b[0;32m   3346\u001b[0m         embedding_features\u001b[38;5;241m=\u001b[39m\u001b[38;5;28mself\u001b[39m\u001b[38;5;241m.\u001b[39m_get_embedding_feature_indices() \u001b[38;5;28;01mif\u001b[39;00m \u001b[38;5;129;01mnot\u001b[39;00m \u001b[38;5;28misinstance\u001b[39m(pool, FeaturesData) \u001b[38;5;28;01melse\u001b[39;00m \u001b[38;5;28;01mNone\u001b[39;00m\n\u001b[0;32m   3347\u001b[0m     )\n\u001b[1;32m-> 3348\u001b[0m \u001b[38;5;28;43mself\u001b[39;49m\u001b[38;5;241;43m.\u001b[39;49m\u001b[43m_save_model\u001b[49m\u001b[43m(\u001b[49m\u001b[43mfname\u001b[49m\u001b[43m,\u001b[49m\u001b[43m \u001b[49m\u001b[38;5;28;43mformat\u001b[39;49m\u001b[43m,\u001b[49m\u001b[43m \u001b[49m\u001b[43mexport_parameters\u001b[49m\u001b[43m,\u001b[49m\u001b[43m \u001b[49m\u001b[43mpool\u001b[49m\u001b[43m)\u001b[49m\n",
      "File \u001b[1;32m~\\Project_python\\venv\\lib\\site-packages\\catboost\\core.py:1851\u001b[0m, in \u001b[0;36m_CatBoostBase._save_model\u001b[1;34m(self, output_file, format, export_parameters, pool)\u001b[0m\n\u001b[0;32m   1848\u001b[0m \u001b[38;5;28;01mif\u001b[39;00m export_parameters:\n\u001b[0;32m   1849\u001b[0m     params_string \u001b[38;5;241m=\u001b[39m json\u001b[38;5;241m.\u001b[39mdumps(export_parameters, \u001b[38;5;28mcls\u001b[39m\u001b[38;5;241m=\u001b[39m_NumpyAwareEncoder)\n\u001b[1;32m-> 1851\u001b[0m \u001b[38;5;28;43mself\u001b[39;49m\u001b[38;5;241;43m.\u001b[39;49m\u001b[43m_object\u001b[49m\u001b[38;5;241;43m.\u001b[39;49m\u001b[43m_save_model\u001b[49m\u001b[43m(\u001b[49m\u001b[43moutput_file\u001b[49m\u001b[43m,\u001b[49m\u001b[43m \u001b[49m\u001b[38;5;28;43mformat\u001b[39;49m\u001b[43m,\u001b[49m\u001b[43m \u001b[49m\u001b[43mparams_string\u001b[49m\u001b[43m,\u001b[49m\u001b[43m \u001b[49m\u001b[43mpool\u001b[49m\u001b[43m)\u001b[49m\n",
      "File \u001b[1;32m_catboost.pyx:4999\u001b[0m, in \u001b[0;36m_catboost._CatBoost._save_model\u001b[1;34m()\u001b[0m\n",
      "File \u001b[1;32m_catboost.pyx:5011\u001b[0m, in \u001b[0;36m_catboost._CatBoost._save_model\u001b[1;34m()\u001b[0m\n",
      "\u001b[1;31mCatBoostError\u001b[0m: "
     ]
    }
   ],
   "source": [
    "model = CatBoostClassifier()\n",
    "\n",
    "model.fit(\n",
    "    train_pool,\n",
    "    eval_set=eval_pool,\n",
    "    plot=True,\n",
    "    verbose=True,\n",
    "    use_best_model=True,\n",
    "    early_stopping_rounds=50,\n",
    "    metric_period=100\n",
    ")\n",
    "model.save_model(f\"./models/baseline.cbm\")"
   ]
  },
  {
   "cell_type": "markdown",
   "metadata": {},
   "source": [
    "### Metric"
   ]
  },
  {
   "cell_type": "code",
   "execution_count": 25,
   "metadata": {
    "ExecuteTime": {
     "end_time": "2023-05-19T06:30:10.884083Z",
     "start_time": "2023-05-19T06:30:10.873141Z"
    },
    "code_folding": []
   },
   "outputs": [],
   "source": [
    "import numpy as np\n",
    "from sklearn.metrics import precision_recall_curve, auc\n",
    "\n",
    "\n",
    "def pr_auc_macro(\n",
    "    target_df: pd.DataFrame,\n",
    "    predictions_df: pd.DataFrame,\n",
    "    prec_level: float = 0.75,\n",
    "    cat_column: str = \"cat3_grouped\"\n",
    ") -> float:\n",
    "    \n",
    "    df = target_df.merge(predictions_df, on=[\"variantid1\", \"variantid2\"])\n",
    "    \n",
    "    y_true = df[\"target\"]\n",
    "    y_pred = df[\"scores\"]\n",
    "    categories = df[cat_column]\n",
    "    \n",
    "    weights = []\n",
    "    pr_aucs = []\n",
    "\n",
    "    unique_cats, counts = np.unique(categories, return_counts=True)\n",
    "    for i, category in enumerate(unique_cats):\n",
    "        cat_idx = np.where(categories == category)[0]\n",
    "        y_pred_cat = y_pred[cat_idx]\n",
    "        y_true_cat = y_true[cat_idx]\n",
    "\n",
    "        y, x, thr = precision_recall_curve(y_true_cat, y_pred_cat)\n",
    "        gt_prec_level_idx = np.where(y >= prec_level)[0]\n",
    "\n",
    "        try:\n",
    "            pr_auc_prec_level = auc(x[gt_prec_level_idx], y[gt_prec_level_idx])\n",
    "            if not np.isnan(pr_auc_prec_level):\n",
    "                pr_aucs.append(pr_auc_prec_level)\n",
    "                weights.append(counts[i] / len(categories))\n",
    "        except ValueError as err:\n",
    "            pr_aucs.append(0)\n",
    "            weights.append(0)\n",
    "    return np.average(pr_aucs, weights=weights)"
   ]
  },
  {
   "cell_type": "code",
   "execution_count": 26,
   "metadata": {
    "ExecuteTime": {
     "end_time": "2023-05-19T06:30:13.294341Z",
     "start_time": "2023-05-19T06:30:13.258507Z"
    }
   },
   "outputs": [],
   "source": [
    "X_test[\"scores\"] = model.predict_proba(X_test[feats])[:, 1]"
   ]
  },
  {
   "cell_type": "code",
   "execution_count": 27,
   "metadata": {
    "ExecuteTime": {
     "end_time": "2023-05-19T06:30:28.980002Z",
     "start_time": "2023-05-19T06:30:28.331803Z"
    }
   },
   "outputs": [
    {
     "data": {
      "text/plain": [
       "0.2632904963255657"
      ]
     },
     "execution_count": 27,
     "metadata": {},
     "output_type": "execute_result"
    }
   ],
   "source": [
    "pr_auc_macro_metr = pr_auc_macro(\n",
    "    target_df=y_test, \n",
    "    predictions_df=X_test,\n",
    "    prec_level=0.75,\n",
    "    cat_column=\"cat3_grouped\"\n",
    ")\n",
    "pr_auc_macro_metr"
   ]
  },
  {
   "cell_type": "code",
   "execution_count": 28,
   "metadata": {
    "ExecuteTime": {
     "end_time": "2023-05-19T06:30:42.074029Z",
     "start_time": "2023-05-19T06:30:41.619959Z"
    }
   },
   "outputs": [
    {
     "data": {
      "image/png": "[encoded data removed]",
      "text/plain": [
       "<Figure size 1500x700 with 1 Axes>"
      ]
     },
     "metadata": {},
     "output_type": "display_data"
    }
   ],
   "source": [
    "precision, recall, thrs = precision_recall_curve(y_test[\"target\"], X_test[\"scores\"])\n",
    "pr_auc = auc(recall, precision)\n",
    "\n",
    "fig, ax1 = plt.subplots(1, figsize=(15, 7))\n",
    "\n",
    "ax1.plot(recall, precision)\n",
    "ax1.axhline(y=0.75, color='grey', linestyle='-');"
   ]
  },
  {
   "cell_type": "markdown",
   "metadata": {},
   "source": [
    "### Submission"
   ]
  },
  {
   "cell_type": "code",
   "execution_count": 35,
   "metadata": {
    "ExecuteTime": {
     "end_time": "2023-05-19T06:31:32.836414Z",
     "start_time": "2023-05-19T06:31:31.181747Z"
    }
   },
   "outputs": [],
   "source": [
    "test_pairs = pd.read_parquet(\"hackathon_files_for_participants_ozon/test_pairs_wo_target.parquet\")\n",
    "test_etl = pd.read_parquet(\"hackathon_files_for_participants_ozon/test_data.parquet\")"
   ]
  },
  {
   "cell_type": "markdown",
   "metadata": {},
   "source": [
    "Generate the same features as for train"
   ]
  },
  {
   "cell_type": "code",
   "execution_count": 36,
   "metadata": {
    "ExecuteTime": {
     "end_time": "2023-05-19T06:31:44.061466Z",
     "start_time": "2023-05-19T06:31:44.008543Z"
    }
   },
   "outputs": [],
   "source": [
    "test_features = (\n",
    "    test_pairs\n",
    "    .merge(\n",
    "        test_etl\n",
    "        .add_suffix('1'),\n",
    "        on=\"variantid1\"\n",
    "    )\n",
    "    .merge(\n",
    "        test_etl\n",
    "        .add_suffix('2'),\n",
    "        on=\"variantid2\"\n",
    "    )\n",
    ")"
   ]
  },
  {
   "cell_type": "code",
   "execution_count": 37,
   "metadata": {
    "ExecuteTime": {
     "end_time": "2023-05-19T06:32:25.287137Z",
     "start_time": "2023-05-19T06:32:10.342926Z"
    }
   },
   "outputs": [],
   "source": [
    "test_features[[\"pic_dist_0_perc\", \"pic_dist_25_perc\", \"pic_dist_50_perc\"]] = (\n",
    "    test_features[[\"main_pic_embeddings_resnet_v11\", \"main_pic_embeddings_resnet_v12\"]].apply(\n",
    "        lambda x: pd.Series(get_pic_features_func(*x)), axis=1\n",
    "    )\n",
    ")\n",
    "\n",
    "test_features[[\"euclidean_name_bert_dist\", \"cosine_name_bert_dist\"]] = (\n",
    "    test_features[[\"name_bert_641\", \"name_bert_642\"]].apply(\n",
    "        lambda x: pd.Series(text_dense_distances(*x)), axis=1\n",
    "    )\n",
    ")"
   ]
  },
  {
   "cell_type": "code",
   "execution_count": 38,
   "metadata": {
    "ExecuteTime": {
     "end_time": "2023-05-19T06:32:34.415102Z",
     "start_time": "2023-05-19T06:32:34.354763Z"
    }
   },
   "outputs": [],
   "source": [
    "test_features[\"cat3\"] = test_features[\"categories1\"].apply(lambda x: json.loads(x)[\"3\"])"
   ]
  },
  {
   "cell_type": "code",
   "execution_count": 39,
   "metadata": {
    "ExecuteTime": {
     "end_time": "2023-05-19T06:32:37.601571Z",
     "start_time": "2023-05-19T06:32:37.596721Z"
    }
   },
   "outputs": [
    {
     "data": {
      "text/plain": [
       "(18084, 22)"
      ]
     },
     "execution_count": 39,
     "metadata": {},
     "output_type": "execute_result"
    }
   ],
   "source": [
    "test_features.shape"
   ]
  },
  {
   "cell_type": "code",
   "execution_count": 40,
   "metadata": {
    "ExecuteTime": {
     "end_time": "2023-05-19T06:32:40.679595Z",
     "start_time": "2023-05-19T06:32:40.668656Z"
    }
   },
   "outputs": [
    {
     "data": {
      "text/plain": [
       "537"
      ]
     },
     "execution_count": 40,
     "metadata": {},
     "output_type": "execute_result"
    }
   ],
   "source": [
    "test_cat3_counts = test_features[\"cat3\"].value_counts().to_dict()\n",
    "\n",
    "cntr = 0\n",
    "for cat3 in test_cat3_counts:\n",
    "    if test_cat3_counts[cat3] < 50:\n",
    "        cntr += test_cat3_counts[cat3]\n",
    "        \n",
    "cntr"
   ]
  },
  {
   "cell_type": "code",
   "execution_count": 41,
   "metadata": {
    "ExecuteTime": {
     "end_time": "2023-05-19T06:34:07.170273Z",
     "start_time": "2023-05-19T06:34:07.157474Z"
    }
   },
   "outputs": [],
   "source": [
    "test_features[\"cat3_grouped\"] = test_features[\"cat3\"].apply(lambda x: x if test_cat3_counts[x] > 50 else \"rest\")\n",
    "# btw you can rename to `rest` the same categories that were assigned to this group in train"
   ]
  },
  {
   "cell_type": "code",
   "execution_count": 42,
   "metadata": {
    "ExecuteTime": {
     "end_time": "2023-05-19T06:34:11.446732Z",
     "start_time": "2023-05-19T06:34:11.382287Z"
    }
   },
   "outputs": [],
   "source": [
    "submission_example = test_features.copy()"
   ]
  },
  {
   "cell_type": "code",
   "execution_count": 43,
   "metadata": {
    "ExecuteTime": {
     "end_time": "2023-05-19T06:34:14.146730Z",
     "start_time": "2023-05-19T06:34:14.086525Z"
    }
   },
   "outputs": [],
   "source": [
    "submission_example[\"scores\"] = model.predict_proba(test_features[feats])[:, 1]"
   ]
  },
  {
   "cell_type": "code",
   "execution_count": 44,
   "metadata": {
    "ExecuteTime": {
     "end_time": "2023-05-19T06:34:17.373009Z",
     "start_time": "2023-05-19T06:34:17.357230Z"
    }
   },
   "outputs": [],
   "source": [
    "submission_example = submission_example[[\"variantid1\", \"variantid2\", \"scores\"]]"
   ]
  },
  {
   "cell_type": "code",
   "execution_count": 46,
   "metadata": {
    "ExecuteTime": {
     "end_time": "2023-05-19T06:35:41.877989Z",
     "start_time": "2023-05-19T06:35:41.794727Z"
    }
   },
   "outputs": [],
   "source": [
    "submission_example.drop_duplicates().merge(\n",
    "    test_features[[\"variantid1\", \"variantid2\"]].drop_duplicates([\"variantid1\", \"variantid2\"]),\n",
    "    on=[\"variantid1\", \"variantid2\"]\n",
    ").to_csv(\"submission_example.csv\", index=False)"
   ]
  },
  {
   "cell_type": "markdown",
   "metadata": {},
   "source": [
    "Upload your submission to leaderboard :)"
   ]
  },
  {
   "cell_type": "markdown",
   "metadata": {},
   "source": [
    "### Recommendations \n",
    "\n",
    "- Work with names, in electronics names often contain a lot of useful information for matching.\n",
    "- Don't forget about attributes: working with it will allow your model to better distinguish matches from non-matches."
   ]
  }
 ],
 "metadata": {
  "kernelspec": {
   "display_name": "Python 3 (ipykernel)",
   "language": "python",
   "name": "python3"
  },
  "language_info": {
   "codemirror_mode": {
    "name": "ipython",
    "version": 3
   },
   "file_extension": ".py",
   "mimetype": "text/x-python",
   "name": "python",
   "nbconvert_exporter": "python",
   "pygments_lexer": "ipython3",
   "version": "3.8.10"
  }
 },
 "nbformat": 4,
 "nbformat_minor": 4
}
