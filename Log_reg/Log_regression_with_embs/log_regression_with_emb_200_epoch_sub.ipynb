{
 "cells": [
  {
   "cell_type": "code",
   "execution_count": 1,
   "metadata": {
    "ExecuteTime": {
     "end_time": "2023-05-19T06:10:23.678400Z",
     "start_time": "2023-05-19T06:10:16.503064Z"
    }
   },
   "outputs": [],
   "source": [
    "import json\n",
    "from functools import partial\n",
    "from typing import List\n",
    "\n",
    "import matplotlib.pyplot as plt\n",
    "import numpy as np\n",
    "import pandas as pd\n",
    "import seaborn as sns\n",
    "from catboost import CatBoostClassifier, Pool\n",
    "from catboost.utils import eval_metric\n",
    "from scipy.spatial.distance import cosine, euclidean\n",
    "from sklearn.metrics import pairwise_distances\n",
    "from sklearn.model_selection import train_test_split\n",
    "\n",
    "from sklearn.metrics import precision_score\n"
   ]
  },
  {
   "cell_type": "markdown",
   "metadata": {},
   "source": [
    "### Load data"
   ]
  },
  {
   "cell_type": "code",
   "execution_count": 2,
   "metadata": {
    "ExecuteTime": {
     "end_time": "2023-05-19T06:12:05.012452Z",
     "start_time": "2023-05-19T06:11:27.878101Z"
    },
    "scrolled": true
   },
   "outputs": [],
   "source": [
    "dataset = pd.read_parquet(r\"C:\\Users\\druzh\\Project_python\\ozon_top_1\\Datasets/train_pairs.parquet\")\n",
    "etl = pd.read_parquet(r\"C:\\Users\\druzh\\Project_python\\ozon_top_1\\Datasets/train_data.parquet\")\n"
   ]
  },
  {
   "cell_type": "code",
   "execution_count": 3,
   "metadata": {},
   "outputs": [],
   "source": [
    "test_data = pd.read_parquet(r\"C:\\Users\\druzh\\Project_python\\ozon_top_1\\Datasets\\test_data.parquet\")\n",
    "test_pairs_wo_target = pd.read_parquet(r\"C:\\Users\\druzh\\Project_python\\ozon_top_1\\Datasets\\test_pairs_wo_target.parquet\")"
   ]
  },
  {
   "cell_type": "markdown",
   "metadata": {},
   "source": [
    "Get raw data for each variantid."
   ]
  },
  {
   "cell_type": "code",
   "execution_count": 4,
   "metadata": {
    "ExecuteTime": {
     "end_time": "2023-05-19T06:13:06.702876Z",
     "start_time": "2023-05-19T06:13:03.688111Z"
    }
   },
   "outputs": [],
   "source": [
    "features = (\n",
    "    dataset\n",
    "    .merge(\n",
    "        etl\n",
    "        .add_suffix('1'),\n",
    "        on=\"variantid1\"\n",
    "    )\n",
    "    .merge(\n",
    "        etl\n",
    "        .add_suffix('2'),\n",
    "        on=\"variantid2\"\n",
    "    )\n",
    ")\n",
    "\n",
    "featurestest = (\n",
    "    test_pairs_wo_target\n",
    "    .merge(\n",
    "        test_data\n",
    "        .add_suffix('1'),\n",
    "        on=\"variantid1\"\n",
    "    )\n",
    "    .merge(\n",
    "        test_data\n",
    "        .add_suffix('2'),\n",
    "        on=\"variantid2\"\n",
    "    )\n",
    ")"
   ]
  },
  {
   "cell_type": "code",
   "execution_count": 5,
   "metadata": {
    "ExecuteTime": {
     "end_time": "2023-05-19T06:13:09.645490Z",
     "start_time": "2023-05-19T06:13:09.620414Z"
    },
    "scrolled": true
   },
   "outputs": [
    {
     "data": {
      "text/html": [
       "<div>\n",
       "<style scoped>\n",
       "    .dataframe tbody tr th:only-of-type {\n",
       "        vertical-align: middle;\n",
       "    }\n",
       "\n",
       "    .dataframe tbody tr th {\n",
       "        vertical-align: top;\n",
       "    }\n",
       "\n",
       "    .dataframe thead th {\n",
       "        text-align: right;\n",
       "    }\n",
       "</style>\n",
       "<table border=\"1\" class=\"dataframe\">\n",
       "  <thead>\n",
       "    <tr style=\"text-align: right;\">\n",
       "      <th></th>\n",
       "      <th>variantid1</th>\n",
       "      <th>variantid2</th>\n",
       "      <th>name1</th>\n",
       "      <th>categories1</th>\n",
       "      <th>color_parsed1</th>\n",
       "      <th>pic_embeddings_resnet_v11</th>\n",
       "      <th>main_pic_embeddings_resnet_v11</th>\n",
       "      <th>name_bert_641</th>\n",
       "      <th>characteristic_attributes_mapping1</th>\n",
       "      <th>name2</th>\n",
       "      <th>categories2</th>\n",
       "      <th>color_parsed2</th>\n",
       "      <th>pic_embeddings_resnet_v12</th>\n",
       "      <th>main_pic_embeddings_resnet_v12</th>\n",
       "      <th>name_bert_642</th>\n",
       "      <th>characteristic_attributes_mapping2</th>\n",
       "    </tr>\n",
       "  </thead>\n",
       "  <tbody>\n",
       "    <tr>\n",
       "      <th>0</th>\n",
       "      <td>52076340</td>\n",
       "      <td>290590137</td>\n",
       "      <td>Батарейка AAA щелочная Perfeo LR03/10BL Super ...</td>\n",
       "      <td>{\"1\": \"EPG\", \"2\": \"Электроника\", \"3\": \"Батарей...</td>\n",
       "      <td>None</td>\n",
       "      <td>[[0.15417035, 0.41160947, 0.2213532, -0.019731...</td>\n",
       "      <td>[[0.04763528, -0.20136409, 0.29605597, 0.26453...</td>\n",
       "      <td>[-0.28437558, 0.60909724, 0.5972025, -0.523296...</td>\n",
       "      <td>{\"Напряжение, В\":[\"1.5\"],\"Бренд\":[\"Perfeo\"],\"Т...</td>\n",
       "      <td>Батарейка AAA щелочная Perfeo LR03/2BL mini Su...</td>\n",
       "      <td>{\"1\": \"EPG\", \"2\": \"Электроника\", \"3\": \"Батарей...</td>\n",
       "      <td>None</td>\n",
       "      <td>[[-0.025554053, 0.012488857, 0.43989864, -0.10...</td>\n",
       "      <td>[[0.06223978, -0.16145544, 0.26409012, 0.24271...</td>\n",
       "      <td>[-0.3380968, 0.6156224, 0.6428071, -0.57499236...</td>\n",
       "      <td>{\"Форм-фактор батареи\":[\"AAA\"],\"Химический тип...</td>\n",
       "    </tr>\n",
       "    <tr>\n",
       "      <th>1</th>\n",
       "      <td>64525522</td>\n",
       "      <td>204128919</td>\n",
       "      <td>Смартфон Ulefone Armor X5 3/32 ГБ, черный, кра...</td>\n",
       "      <td>{\"1\": \"EPG\", \"2\": \"Электроника\", \"3\": \"Смартфо...</td>\n",
       "      <td>[черный, red, красный]</td>\n",
       "      <td>[[-0.239386, -0.8332473, -0.08384809, 0.071721...</td>\n",
       "      <td>[[-0.27325493, -0.6696304, 0.027148303, 0.0785...</td>\n",
       "      <td>[-0.45766184, 0.5528555, 0.26298037, -0.663931...</td>\n",
       "      <td>{\"Операционная система\":[\"Android\"],\"Защищенно...</td>\n",
       "      <td>Смартфон Ulefone Armor X3 2/32 ГБ, черный, кра...</td>\n",
       "      <td>{\"1\": \"EPG\", \"2\": \"Электроника\", \"3\": \"Смартфо...</td>\n",
       "      <td>[черный, red, красный]</td>\n",
       "      <td>[[-0.071279265, -0.99063504, -0.3939417, 0.886...</td>\n",
       "      <td>[[-0.15358369, -0.8256463, -0.054863703, 0.453...</td>\n",
       "      <td>[-0.4489074, 0.6278857, 0.33072582, -0.6749875...</td>\n",
       "      <td>{\"Встроенная память\":[\"32 ГБ\"],\"Видеопроцессор...</td>\n",
       "    </tr>\n",
       "    <tr>\n",
       "      <th>2</th>\n",
       "      <td>77243372</td>\n",
       "      <td>479860557</td>\n",
       "      <td>Цифровой кабель TV-COM HDMI 1.4 (M/ M) Full HD...</td>\n",
       "      <td>{\"1\": \"EPG\", \"2\": \"Электроника\", \"3\": \"Кабели ...</td>\n",
       "      <td>[черный, золотистый]</td>\n",
       "      <td>[[0.28645578, -0.4411031, 0.9677321, 0.0880519...</td>\n",
       "      <td>[[0.262986, -0.48823145, 1.558289, -0.20182608...</td>\n",
       "      <td>[-0.59732205, 0.7067618, 0.488719, -0.34360138...</td>\n",
       "      <td>{\"Тип\":[\"Видео-кабель\"],\"Длина, м\":[\"3\"],\"Разм...</td>\n",
       "      <td>Кабель  HDMI 1.4 (Male/Male) (CG150S-1.5M), че...</td>\n",
       "      <td>{\"1\": \"EPG\", \"2\": \"Электроника\", \"3\": \"Кабели ...</td>\n",
       "      <td>[черный, золотистый]</td>\n",
       "      <td>None</td>\n",
       "      <td>[[0.3385992, -0.45696405, 1.5419214, -0.185660...</td>\n",
       "      <td>[-0.37139902, 0.39780936, 0.5956383, -0.173539...</td>\n",
       "      <td>{\"Коннектор 2\":[\"HDMI\"],\"Единиц в одном товаре...</td>\n",
       "    </tr>\n",
       "    <tr>\n",
       "      <th>3</th>\n",
       "      <td>86065820</td>\n",
       "      <td>540678372</td>\n",
       "      <td>Игровая мышь проводная A4Tech Bloody P93, 8 кн...</td>\n",
       "      <td>{\"1\": \"EPG\", \"2\": \"Электроника\", \"3\": \"Устройс...</td>\n",
       "      <td>[черный]</td>\n",
       "      <td>[[-0.16229028, -0.29124975, -0.025808021, 1.06...</td>\n",
       "      <td>[[0.08867453, -0.13375187, 0.11679518, 1.16906...</td>\n",
       "      <td>[-0.44171652, 0.55147576, 0.50624573, -0.31552...</td>\n",
       "      <td>{\"MTBF, кликов\":[\"20000000\"],\"Особенности\":[\"П...</td>\n",
       "      <td>Мышь A4Tech Bloody P93s Bullet, серый, оптичес...</td>\n",
       "      <td>{\"1\": \"EPG\", \"2\": \"Электроника\", \"3\": \"Устройс...</td>\n",
       "      <td>[серый]</td>\n",
       "      <td>[[-0.34419402, 0.46059757, 0.13175267, 0.16226...</td>\n",
       "      <td>[[0.2734869, 0.18559125, -0.30230802, 1.330367...</td>\n",
       "      <td>[-0.46880978, 0.4516948, 0.43816173, -0.466540...</td>\n",
       "      <td>{\"Цвет товара\":[\"серый\"],\"Интерфейс\":[\"USB\"],\"...</td>\n",
       "    </tr>\n",
       "  </tbody>\n",
       "</table>\n",
       "</div>"
      ],
      "text/plain": [
       "   variantid1  variantid2                                              name1  \\\n",
       "0    52076340   290590137  Батарейка AAA щелочная Perfeo LR03/10BL Super ...   \n",
       "1    64525522   204128919  Смартфон Ulefone Armor X5 3/32 ГБ, черный, кра...   \n",
       "2    77243372   479860557  Цифровой кабель TV-COM HDMI 1.4 (M/ M) Full HD...   \n",
       "3    86065820   540678372  Игровая мышь проводная A4Tech Bloody P93, 8 кн...   \n",
       "\n",
       "                                         categories1           color_parsed1  \\\n",
       "0  {\"1\": \"EPG\", \"2\": \"Электроника\", \"3\": \"Батарей...                    None   \n",
       "1  {\"1\": \"EPG\", \"2\": \"Электроника\", \"3\": \"Смартфо...  [черный, red, красный]   \n",
       "2  {\"1\": \"EPG\", \"2\": \"Электроника\", \"3\": \"Кабели ...    [черный, золотистый]   \n",
       "3  {\"1\": \"EPG\", \"2\": \"Электроника\", \"3\": \"Устройс...                [черный]   \n",
       "\n",
       "                           pic_embeddings_resnet_v11  \\\n",
       "0  [[0.15417035, 0.41160947, 0.2213532, -0.019731...   \n",
       "1  [[-0.239386, -0.8332473, -0.08384809, 0.071721...   \n",
       "2  [[0.28645578, -0.4411031, 0.9677321, 0.0880519...   \n",
       "3  [[-0.16229028, -0.29124975, -0.025808021, 1.06...   \n",
       "\n",
       "                      main_pic_embeddings_resnet_v11  \\\n",
       "0  [[0.04763528, -0.20136409, 0.29605597, 0.26453...   \n",
       "1  [[-0.27325493, -0.6696304, 0.027148303, 0.0785...   \n",
       "2  [[0.262986, -0.48823145, 1.558289, -0.20182608...   \n",
       "3  [[0.08867453, -0.13375187, 0.11679518, 1.16906...   \n",
       "\n",
       "                                       name_bert_641  \\\n",
       "0  [-0.28437558, 0.60909724, 0.5972025, -0.523296...   \n",
       "1  [-0.45766184, 0.5528555, 0.26298037, -0.663931...   \n",
       "2  [-0.59732205, 0.7067618, 0.488719, -0.34360138...   \n",
       "3  [-0.44171652, 0.55147576, 0.50624573, -0.31552...   \n",
       "\n",
       "                  characteristic_attributes_mapping1  \\\n",
       "0  {\"Напряжение, В\":[\"1.5\"],\"Бренд\":[\"Perfeo\"],\"Т...   \n",
       "1  {\"Операционная система\":[\"Android\"],\"Защищенно...   \n",
       "2  {\"Тип\":[\"Видео-кабель\"],\"Длина, м\":[\"3\"],\"Разм...   \n",
       "3  {\"MTBF, кликов\":[\"20000000\"],\"Особенности\":[\"П...   \n",
       "\n",
       "                                               name2  \\\n",
       "0  Батарейка AAA щелочная Perfeo LR03/2BL mini Su...   \n",
       "1  Смартфон Ulefone Armor X3 2/32 ГБ, черный, кра...   \n",
       "2  Кабель  HDMI 1.4 (Male/Male) (CG150S-1.5M), че...   \n",
       "3  Мышь A4Tech Bloody P93s Bullet, серый, оптичес...   \n",
       "\n",
       "                                         categories2           color_parsed2  \\\n",
       "0  {\"1\": \"EPG\", \"2\": \"Электроника\", \"3\": \"Батарей...                    None   \n",
       "1  {\"1\": \"EPG\", \"2\": \"Электроника\", \"3\": \"Смартфо...  [черный, red, красный]   \n",
       "2  {\"1\": \"EPG\", \"2\": \"Электроника\", \"3\": \"Кабели ...    [черный, золотистый]   \n",
       "3  {\"1\": \"EPG\", \"2\": \"Электроника\", \"3\": \"Устройс...                 [серый]   \n",
       "\n",
       "                           pic_embeddings_resnet_v12  \\\n",
       "0  [[-0.025554053, 0.012488857, 0.43989864, -0.10...   \n",
       "1  [[-0.071279265, -0.99063504, -0.3939417, 0.886...   \n",
       "2                                               None   \n",
       "3  [[-0.34419402, 0.46059757, 0.13175267, 0.16226...   \n",
       "\n",
       "                      main_pic_embeddings_resnet_v12  \\\n",
       "0  [[0.06223978, -0.16145544, 0.26409012, 0.24271...   \n",
       "1  [[-0.15358369, -0.8256463, -0.054863703, 0.453...   \n",
       "2  [[0.3385992, -0.45696405, 1.5419214, -0.185660...   \n",
       "3  [[0.2734869, 0.18559125, -0.30230802, 1.330367...   \n",
       "\n",
       "                                       name_bert_642  \\\n",
       "0  [-0.3380968, 0.6156224, 0.6428071, -0.57499236...   \n",
       "1  [-0.4489074, 0.6278857, 0.33072582, -0.6749875...   \n",
       "2  [-0.37139902, 0.39780936, 0.5956383, -0.173539...   \n",
       "3  [-0.46880978, 0.4516948, 0.43816173, -0.466540...   \n",
       "\n",
       "                  characteristic_attributes_mapping2  \n",
       "0  {\"Форм-фактор батареи\":[\"AAA\"],\"Химический тип...  \n",
       "1  {\"Встроенная память\":[\"32 ГБ\"],\"Видеопроцессор...  \n",
       "2  {\"Коннектор 2\":[\"HDMI\"],\"Единиц в одном товаре...  \n",
       "3  {\"Цвет товара\":[\"серый\"],\"Интерфейс\":[\"USB\"],\"...  "
      ]
     },
     "execution_count": 5,
     "metadata": {},
     "output_type": "execute_result"
    }
   ],
   "source": [
    "featurestest.head(4)"
   ]
  },
  {
   "cell_type": "code",
   "execution_count": 6,
   "metadata": {},
   "outputs": [],
   "source": [
    "def get_pic_features(main_pic_embeddings_1,\n",
    "                     main_pic_embeddings_2,\n",
    "                     percentiles: List[int]):\n",
    "    \"\"\"Calculate distances percentiles for \n",
    "    pairwise pic distances. Percentiles are useful \n",
    "    when product has several pictures.\n",
    "    \"\"\"\n",
    "    \n",
    "    if main_pic_embeddings_1 is not None and main_pic_embeddings_2 is not None:\n",
    "        main_pic_embeddings_1 = np.array([x for x in main_pic_embeddings_1])\n",
    "        main_pic_embeddings_2 = np.array([x for x in main_pic_embeddings_2])\n",
    "        \n",
    "        dist_m = pairwise_distances(\n",
    "            main_pic_embeddings_1, main_pic_embeddings_2\n",
    "        )\n",
    "    else:\n",
    "        dist_m = np.array([[-1]])\n",
    "\n",
    "    pair_features = []\n",
    "    pair_features += np.percentile(dist_m, percentiles).tolist()\n",
    "\n",
    "    return pair_features\n",
    "\n",
    "\n",
    "def text_dense_distances(ozon_embedding, comp_embedding):\n",
    "    \"\"\"Calculate Euclidean and Cosine distances between\n",
    "    ozon_embedding and comp_embedding.\n",
    "    \"\"\"\n",
    "    pair_features = []\n",
    "    if ozon_embedding is None or comp_embedding is None:\n",
    "        pair_features = [-1, -1]\n",
    "    elif len(ozon_embedding) == 0 or len(comp_embedding) == 0:\n",
    "        pair_features = [-1, -1]\n",
    "    else:\n",
    "        pair_features.append(\n",
    "            euclidean(ozon_embedding, comp_embedding)\n",
    "        )\n",
    "        cosine_value = cosine(ozon_embedding, comp_embedding)\n",
    "        \n",
    "        pair_features.append(cosine_value)\n",
    "\n",
    "    return pair_features"
   ]
  },
  {
   "cell_type": "code",
   "execution_count": 7,
   "metadata": {},
   "outputs": [],
   "source": [
    "get_pic_features_func = partial(\n",
    "    get_pic_features,\n",
    "    percentiles=[0, 25, 50]\n",
    ")"
   ]
  },
  {
   "cell_type": "code",
   "execution_count": 8,
   "metadata": {},
   "outputs": [],
   "source": [
    "featurestest[[\"pic_dist_0_perc\", \"pic_dist_25_perc\", \"pic_dist_50_perc\"]] = (\n",
    "    featurestest[[\"pic_embeddings_resnet_v11\", \"pic_embeddings_resnet_v12\"]].apply(\n",
    "        lambda x: pd.Series(get_pic_features_func(*x)), axis=1\n",
    "    )\n",
    ")\n"
   ]
  },
  {
   "cell_type": "code",
   "execution_count": 9,
   "metadata": {},
   "outputs": [],
   "source": [
    "featurestest[[\"main_pic_dist_0_perc\", \"main_pic_dist_25_perc\", \"main_pic_dist_50_perc\"]] = (\n",
    "    featurestest[[\"main_pic_embeddings_resnet_v11\", \"main_pic_embeddings_resnet_v12\"]].apply(\n",
    "        lambda x: pd.Series(get_pic_features_func(*x)), axis=1\n",
    "    )\n",
    ")"
   ]
  },
  {
   "cell_type": "code",
   "execution_count": 10,
   "metadata": {},
   "outputs": [],
   "source": [
    "featurestest[[\"euclidean_name_bert_dist\", \"cosine_name_bert_dist\"]] = (\n",
    "    featurestest[[\"name_bert_641\", \"name_bert_642\"]].apply(\n",
    "        lambda x: pd.Series(text_dense_distances(*x)), axis=1\n",
    "    )\n",
    ")\n"
   ]
  },
  {
   "cell_type": "markdown",
   "metadata": {},
   "source": [
    "Features functions."
   ]
  },
  {
   "cell_type": "code",
   "execution_count": 11,
   "metadata": {
    "ExecuteTime": {
     "end_time": "2023-05-19T06:28:28.028773Z",
     "start_time": "2023-05-19T06:28:27.086139Z"
    }
   },
   "outputs": [],
   "source": [
    "features[\"cat31\"] = features[\"categories1\"].apply(lambda x: json.loads(x)[\"3\"])\n",
    "cat3_counts = features[\"cat31\"].value_counts().to_dict()"
   ]
  },
  {
   "cell_type": "code",
   "execution_count": 12,
   "metadata": {},
   "outputs": [],
   "source": [
    "featurestest[\"cat31\"] = featurestest[\"categories1\"].apply(lambda x: json.loads(x)[\"3\"])\n",
    "cat3_counts_test = featurestest[\"cat31\"].value_counts().to_dict()"
   ]
  },
  {
   "cell_type": "code",
   "execution_count": 13,
   "metadata": {
    "ExecuteTime": {
     "end_time": "2023-05-19T06:28:36.996792Z",
     "start_time": "2023-05-19T06:28:36.896447Z"
    }
   },
   "outputs": [],
   "source": [
    "features[\"cat31_grouped\"] = features[\"cat31\"].apply(lambda x: x if cat3_counts[x] > 1000 else \"rest\")\n",
    "\n",
    "featurestest[\"cat31_grouped\"] = featurestest[\"cat31\"].apply(lambda x: x if cat3_counts_test[x] > 1000 else \"rest\")"
   ]
  },
  {
   "cell_type": "code",
   "execution_count": 14,
   "metadata": {},
   "outputs": [],
   "source": [
    "features[\"cat32\"] = features[\"categories2\"].apply(lambda x: json.loads(x)[\"3\"])\n",
    "cat3_counts = features[\"cat32\"].value_counts().to_dict()\n",
    "\n",
    "featurestest[\"cat32\"] = featurestest[\"categories2\"].apply(lambda x: json.loads(x)[\"3\"])\n",
    "cat3_counts_test = featurestest[\"cat32\"].value_counts().to_dict()"
   ]
  },
  {
   "cell_type": "code",
   "execution_count": 15,
   "metadata": {},
   "outputs": [],
   "source": [
    "features[\"cat32_grouped\"] = features[\"cat32\"].apply(lambda x: x if cat3_counts[x] > 1000 else \"rest\")\n",
    "\n",
    "featurestest[\"cat32_grouped\"] = featurestest[\"cat32\"].apply(lambda x: x if cat3_counts_test[x] > 1000 else \"rest\")"
   ]
  },
  {
   "cell_type": "code",
   "execution_count": 16,
   "metadata": {},
   "outputs": [],
   "source": [
    "from sklearn.feature_extraction.text import CountVectorizer\n",
    "\n",
    "def create_top_bag_of_words(sentences, top_words):\n",
    "    vectorizer = CountVectorizer(max_features=top_words)\n",
    "    bag_of_words = vectorizer.fit_transform(sentences)\n",
    "    len_sentences = [len(sentence.split()) for sentence in sentences]\n",
    "\n",
    "    return bag_of_words, len_sentences, vectorizer\n",
    "\n",
    "def encode_sentences(sentences, vectorizer):\n",
    "    encoded_sentences = vectorizer.transform(sentences)\n",
    "    len_sentences = [len(sentence.split()) for sentence in sentences]\n",
    "    return encoded_sentences, len_sentences"
   ]
  },
  {
   "cell_type": "code",
   "execution_count": 17,
   "metadata": {},
   "outputs": [],
   "source": [
    "bag_of_words, len_sentences, names_bag_vectorizer = create_top_bag_of_words(np.hstack((features['name1'].values, features['name2'].values)), 5000)"
   ]
  },
  {
   "cell_type": "code",
   "execution_count": 18,
   "metadata": {
    "scrolled": true
   },
   "outputs": [],
   "source": [
    "bag_of_words, len_sentences = encode_sentences(np.hstack((featurestest['name1'].values, featurestest['name2'].values)), names_bag_vectorizer)"
   ]
  },
  {
   "cell_type": "code",
   "execution_count": 19,
   "metadata": {
    "scrolled": true
   },
   "outputs": [],
   "source": [
    "bag_of_words = bag_of_words.toarray()"
   ]
  },
  {
   "cell_type": "code",
   "execution_count": 20,
   "metadata": {},
   "outputs": [],
   "source": [
    "featurestest[\"name1_bag\"] = bag_of_words[:len(bag_of_words) // 2].tolist()"
   ]
  },
  {
   "cell_type": "code",
   "execution_count": 21,
   "metadata": {},
   "outputs": [],
   "source": [
    "featurestest[\"name2_bag\"] = bag_of_words[len(bag_of_words) // 2:].tolist()"
   ]
  },
  {
   "cell_type": "code",
   "execution_count": 22,
   "metadata": {},
   "outputs": [],
   "source": [
    "featurestest[\"name1_len\"] = len_sentences[:len(len_sentences) // 2]"
   ]
  },
  {
   "cell_type": "code",
   "execution_count": 23,
   "metadata": {},
   "outputs": [],
   "source": [
    "featurestest[\"name2_len\"] = len_sentences[len(len_sentences) // 2:]"
   ]
  },
  {
   "cell_type": "code",
   "execution_count": 24,
   "metadata": {},
   "outputs": [],
   "source": [
    "bag_of_words, len_sentences, cats_bag_vectorizer = create_top_bag_of_words(np.hstack((features['cat31'].values, features['cat32'].values)), 250)"
   ]
  },
  {
   "cell_type": "code",
   "execution_count": 25,
   "metadata": {},
   "outputs": [],
   "source": [
    "bag_of_words, len_sentences = encode_sentences(np.hstack((featurestest['cat31'].values, featurestest['cat32'].values)), cats_bag_vectorizer)"
   ]
  },
  {
   "cell_type": "code",
   "execution_count": 26,
   "metadata": {},
   "outputs": [],
   "source": [
    "bag_of_words = bag_of_words.toarray()"
   ]
  },
  {
   "cell_type": "code",
   "execution_count": 27,
   "metadata": {},
   "outputs": [],
   "source": [
    "featurestest[\"cat31_bag\"] = bag_of_words[:len(bag_of_words) // 2].tolist()"
   ]
  },
  {
   "cell_type": "code",
   "execution_count": 28,
   "metadata": {},
   "outputs": [],
   "source": [
    "featurestest = featurestest.drop(\n",
    "        [\"name1\", \"categories1\", \"pic_embeddings_resnet_v11\", \"main_pic_embeddings_resnet_v11\", \"name_bert_641\",\n",
    "         \"name2\",\n",
    "         \"categories2\", \"pic_embeddings_resnet_v12\", \"main_pic_embeddings_resnet_v12\", \"name_bert_642\"], axis=1)\n",
    "featurestest = featurestest.drop(['cat31', 'cat32'], axis=1)"
   ]
  },
  {
   "cell_type": "code",
   "execution_count": 29,
   "metadata": {},
   "outputs": [],
   "source": [
    "featurestest[\"cat32_bag\"] =  bag_of_words[len(bag_of_words) // 2:].tolist()"
   ]
  },
  {
   "cell_type": "code",
   "execution_count": 30,
   "metadata": {},
   "outputs": [],
   "source": [
    "featurestest[\"cat31_len\"] = len_sentences[:len(len_sentences) // 2]"
   ]
  },
  {
   "cell_type": "code",
   "execution_count": 31,
   "metadata": {},
   "outputs": [],
   "source": [
    "featurestest[\"cat32_len\"] = len_sentences[len(len_sentences) // 2:]"
   ]
  },
  {
   "cell_type": "code",
   "execution_count": 32,
   "metadata": {},
   "outputs": [
    {
     "data": {
      "text/html": [
       "<div>\n",
       "<style scoped>\n",
       "    .dataframe tbody tr th:only-of-type {\n",
       "        vertical-align: middle;\n",
       "    }\n",
       "\n",
       "    .dataframe tbody tr th {\n",
       "        vertical-align: top;\n",
       "    }\n",
       "\n",
       "    .dataframe thead th {\n",
       "        text-align: right;\n",
       "    }\n",
       "</style>\n",
       "<table border=\"1\" class=\"dataframe\">\n",
       "  <thead>\n",
       "    <tr style=\"text-align: right;\">\n",
       "      <th></th>\n",
       "      <th>variantid1</th>\n",
       "      <th>variantid2</th>\n",
       "      <th>color_parsed1</th>\n",
       "      <th>characteristic_attributes_mapping1</th>\n",
       "      <th>color_parsed2</th>\n",
       "      <th>characteristic_attributes_mapping2</th>\n",
       "      <th>pic_dist_0_perc</th>\n",
       "      <th>pic_dist_25_perc</th>\n",
       "      <th>pic_dist_50_perc</th>\n",
       "      <th>main_pic_dist_0_perc</th>\n",
       "      <th>...</th>\n",
       "      <th>cat31_grouped</th>\n",
       "      <th>cat32_grouped</th>\n",
       "      <th>name1_bag</th>\n",
       "      <th>name2_bag</th>\n",
       "      <th>name1_len</th>\n",
       "      <th>name2_len</th>\n",
       "      <th>cat31_bag</th>\n",
       "      <th>cat32_bag</th>\n",
       "      <th>cat31_len</th>\n",
       "      <th>cat32_len</th>\n",
       "    </tr>\n",
       "  </thead>\n",
       "  <tbody>\n",
       "    <tr>\n",
       "      <th>0</th>\n",
       "      <td>52076340</td>\n",
       "      <td>290590137</td>\n",
       "      <td>None</td>\n",
       "      <td>{\"Напряжение, В\":[\"1.5\"],\"Бренд\":[\"Perfeo\"],\"Т...</td>\n",
       "      <td>None</td>\n",
       "      <td>{\"Форм-фактор батареи\":[\"AAA\"],\"Химический тип...</td>\n",
       "      <td>5.331990</td>\n",
       "      <td>5.331990</td>\n",
       "      <td>5.331990</td>\n",
       "      <td>0.449950</td>\n",
       "      <td>...</td>\n",
       "      <td>rest</td>\n",
       "      <td>rest</td>\n",
       "      <td>[0, 0, 0, 0, 0, 0, 0, 0, 0, 0, 0, 0, 0, 0, 0, ...</td>\n",
       "      <td>[0, 0, 0, 0, 0, 0, 0, 0, 0, 0, 0, 0, 0, 0, 0, ...</td>\n",
       "      <td>9</td>\n",
       "      <td>12</td>\n",
       "      <td>[0, 0, 0, 0, 0, 0, 0, 0, 0, 0, 0, 0, 0, 0, 0, ...</td>\n",
       "      <td>[0, 0, 0, 0, 0, 0, 0, 0, 0, 0, 0, 0, 0, 0, 0, ...</td>\n",
       "      <td>3</td>\n",
       "      <td>3</td>\n",
       "    </tr>\n",
       "    <tr>\n",
       "      <th>1</th>\n",
       "      <td>64525522</td>\n",
       "      <td>204128919</td>\n",
       "      <td>[черный, red, красный]</td>\n",
       "      <td>{\"Операционная система\":[\"Android\"],\"Защищенно...</td>\n",
       "      <td>[черный, red, красный]</td>\n",
       "      <td>{\"Встроенная память\":[\"32 ГБ\"],\"Видеопроцессор...</td>\n",
       "      <td>3.724136</td>\n",
       "      <td>4.690508</td>\n",
       "      <td>5.325581</td>\n",
       "      <td>3.567521</td>\n",
       "      <td>...</td>\n",
       "      <td>rest</td>\n",
       "      <td>rest</td>\n",
       "      <td>[0, 0, 0, 0, 0, 0, 0, 0, 0, 0, 0, 0, 0, 0, 0, ...</td>\n",
       "      <td>[0, 0, 0, 0, 0, 0, 0, 0, 0, 0, 0, 0, 0, 0, 0, ...</td>\n",
       "      <td>8</td>\n",
       "      <td>8</td>\n",
       "      <td>[0, 0, 0, 0, 0, 0, 0, 0, 0, 0, 0, 0, 0, 0, 0, ...</td>\n",
       "      <td>[0, 0, 0, 0, 0, 0, 0, 0, 0, 0, 0, 0, 0, 0, 0, ...</td>\n",
       "      <td>4</td>\n",
       "      <td>4</td>\n",
       "    </tr>\n",
       "  </tbody>\n",
       "</table>\n",
       "<p>2 rows × 24 columns</p>\n",
       "</div>"
      ],
      "text/plain": [
       "   variantid1  variantid2           color_parsed1  \\\n",
       "0    52076340   290590137                    None   \n",
       "1    64525522   204128919  [черный, red, красный]   \n",
       "\n",
       "                  characteristic_attributes_mapping1           color_parsed2  \\\n",
       "0  {\"Напряжение, В\":[\"1.5\"],\"Бренд\":[\"Perfeo\"],\"Т...                    None   \n",
       "1  {\"Операционная система\":[\"Android\"],\"Защищенно...  [черный, red, красный]   \n",
       "\n",
       "                  characteristic_attributes_mapping2  pic_dist_0_perc  \\\n",
       "0  {\"Форм-фактор батареи\":[\"AAA\"],\"Химический тип...         5.331990   \n",
       "1  {\"Встроенная память\":[\"32 ГБ\"],\"Видеопроцессор...         3.724136   \n",
       "\n",
       "   pic_dist_25_perc  pic_dist_50_perc  main_pic_dist_0_perc  ...  \\\n",
       "0          5.331990          5.331990              0.449950  ...   \n",
       "1          4.690508          5.325581              3.567521  ...   \n",
       "\n",
       "   cat31_grouped  cat32_grouped  \\\n",
       "0           rest           rest   \n",
       "1           rest           rest   \n",
       "\n",
       "                                           name1_bag  \\\n",
       "0  [0, 0, 0, 0, 0, 0, 0, 0, 0, 0, 0, 0, 0, 0, 0, ...   \n",
       "1  [0, 0, 0, 0, 0, 0, 0, 0, 0, 0, 0, 0, 0, 0, 0, ...   \n",
       "\n",
       "                                           name2_bag name1_len name2_len  \\\n",
       "0  [0, 0, 0, 0, 0, 0, 0, 0, 0, 0, 0, 0, 0, 0, 0, ...         9        12   \n",
       "1  [0, 0, 0, 0, 0, 0, 0, 0, 0, 0, 0, 0, 0, 0, 0, ...         8         8   \n",
       "\n",
       "                                           cat31_bag  \\\n",
       "0  [0, 0, 0, 0, 0, 0, 0, 0, 0, 0, 0, 0, 0, 0, 0, ...   \n",
       "1  [0, 0, 0, 0, 0, 0, 0, 0, 0, 0, 0, 0, 0, 0, 0, ...   \n",
       "\n",
       "                                           cat32_bag  cat31_len  cat32_len  \n",
       "0  [0, 0, 0, 0, 0, 0, 0, 0, 0, 0, 0, 0, 0, 0, 0, ...          3          3  \n",
       "1  [0, 0, 0, 0, 0, 0, 0, 0, 0, 0, 0, 0, 0, 0, 0, ...          4          4  \n",
       "\n",
       "[2 rows x 24 columns]"
      ]
     },
     "execution_count": 32,
     "metadata": {},
     "output_type": "execute_result"
    }
   ],
   "source": [
    "featurestest.head(2)"
   ]
  },
  {
   "cell_type": "code",
   "execution_count": 33,
   "metadata": {},
   "outputs": [],
   "source": [
    "color_1_prod = features['color_parsed1'].values\n",
    "colors = []\n",
    "for i in range(len(color_1_prod)):\n",
    "    try:\n",
    "        colors.append(color_1_prod[i][0])\n",
    "    except:\n",
    "        colors.append('None')\n",
    "color_2_prod = features['color_parsed2'].values\n",
    "for j in range(len(color_2_prod)):\n",
    "    try:\n",
    "        colors.append(color_2_prod[j][0])\n",
    "    except:\n",
    "        colors.append('None')"
   ]
  },
  {
   "cell_type": "code",
   "execution_count": 34,
   "metadata": {},
   "outputs": [],
   "source": [
    "color_1_prod = featurestest['color_parsed1'].values\n",
    "colorstest = []\n",
    "for i in range(len(color_1_prod)):\n",
    "    try:\n",
    "        colorstest.append(color_1_prod[i][0])\n",
    "    except:\n",
    "        colorstest.append('None')\n",
    "color_2_prod = featurestest['color_parsed2'].values\n",
    "for j in range(len(color_2_prod)):\n",
    "    try:\n",
    "        colorstest.append(color_2_prod[j][0])\n",
    "    except:\n",
    "        colorstest.append('None')"
   ]
  },
  {
   "cell_type": "code",
   "execution_count": 35,
   "metadata": {},
   "outputs": [],
   "source": [
    "bag_of_words, len_sentences, colors_bag_vectorizer = create_top_bag_of_words(colors, 200)"
   ]
  },
  {
   "cell_type": "code",
   "execution_count": 36,
   "metadata": {},
   "outputs": [],
   "source": [
    "bag_of_words, len_sentences = encode_sentences(colorstest, colors_bag_vectorizer)"
   ]
  },
  {
   "cell_type": "code",
   "execution_count": 37,
   "metadata": {},
   "outputs": [],
   "source": [
    "bag_of_words = bag_of_words.toarray()"
   ]
  },
  {
   "cell_type": "code",
   "execution_count": 38,
   "metadata": {},
   "outputs": [],
   "source": [
    "featurestest[\"color1_bag\"] = bag_of_words[:len(bag_of_words) // 2].tolist()"
   ]
  },
  {
   "cell_type": "code",
   "execution_count": 39,
   "metadata": {},
   "outputs": [],
   "source": [
    "featurestest[\"color2_bag\"] =  bag_of_words[len(bag_of_words) // 2:].tolist()"
   ]
  },
  {
   "cell_type": "code",
   "execution_count": 40,
   "metadata": {},
   "outputs": [
    {
     "data": {
      "text/html": [
       "<div>\n",
       "<style scoped>\n",
       "    .dataframe tbody tr th:only-of-type {\n",
       "        vertical-align: middle;\n",
       "    }\n",
       "\n",
       "    .dataframe tbody tr th {\n",
       "        vertical-align: top;\n",
       "    }\n",
       "\n",
       "    .dataframe thead th {\n",
       "        text-align: right;\n",
       "    }\n",
       "</style>\n",
       "<table border=\"1\" class=\"dataframe\">\n",
       "  <thead>\n",
       "    <tr style=\"text-align: right;\">\n",
       "      <th></th>\n",
       "      <th>variantid1</th>\n",
       "      <th>variantid2</th>\n",
       "      <th>color_parsed1</th>\n",
       "      <th>characteristic_attributes_mapping1</th>\n",
       "      <th>color_parsed2</th>\n",
       "      <th>characteristic_attributes_mapping2</th>\n",
       "      <th>pic_dist_0_perc</th>\n",
       "      <th>pic_dist_25_perc</th>\n",
       "      <th>pic_dist_50_perc</th>\n",
       "      <th>main_pic_dist_0_perc</th>\n",
       "      <th>...</th>\n",
       "      <th>name1_bag</th>\n",
       "      <th>name2_bag</th>\n",
       "      <th>name1_len</th>\n",
       "      <th>name2_len</th>\n",
       "      <th>cat31_bag</th>\n",
       "      <th>cat32_bag</th>\n",
       "      <th>cat31_len</th>\n",
       "      <th>cat32_len</th>\n",
       "      <th>color1_bag</th>\n",
       "      <th>color2_bag</th>\n",
       "    </tr>\n",
       "  </thead>\n",
       "  <tbody>\n",
       "    <tr>\n",
       "      <th>0</th>\n",
       "      <td>52076340</td>\n",
       "      <td>290590137</td>\n",
       "      <td>None</td>\n",
       "      <td>{\"Напряжение, В\":[\"1.5\"],\"Бренд\":[\"Perfeo\"],\"Т...</td>\n",
       "      <td>None</td>\n",
       "      <td>{\"Форм-фактор батареи\":[\"AAA\"],\"Химический тип...</td>\n",
       "      <td>5.331990</td>\n",
       "      <td>5.331990</td>\n",
       "      <td>5.331990</td>\n",
       "      <td>0.449950</td>\n",
       "      <td>...</td>\n",
       "      <td>[0, 0, 0, 0, 0, 0, 0, 0, 0, 0, 0, 0, 0, 0, 0, ...</td>\n",
       "      <td>[0, 0, 0, 0, 0, 0, 0, 0, 0, 0, 0, 0, 0, 0, 0, ...</td>\n",
       "      <td>9</td>\n",
       "      <td>12</td>\n",
       "      <td>[0, 0, 0, 0, 0, 0, 0, 0, 0, 0, 0, 0, 0, 0, 0, ...</td>\n",
       "      <td>[0, 0, 0, 0, 0, 0, 0, 0, 0, 0, 0, 0, 0, 0, 0, ...</td>\n",
       "      <td>3</td>\n",
       "      <td>3</td>\n",
       "      <td>[0, 0, 0, 0, 0, 0, 0, 0, 0, 0, 0, 0, 0, 0, 0, ...</td>\n",
       "      <td>[0, 0, 0, 0, 0, 0, 0, 0, 0, 0, 0, 0, 0, 0, 0, ...</td>\n",
       "    </tr>\n",
       "    <tr>\n",
       "      <th>1</th>\n",
       "      <td>64525522</td>\n",
       "      <td>204128919</td>\n",
       "      <td>[черный, red, красный]</td>\n",
       "      <td>{\"Операционная система\":[\"Android\"],\"Защищенно...</td>\n",
       "      <td>[черный, red, красный]</td>\n",
       "      <td>{\"Встроенная память\":[\"32 ГБ\"],\"Видеопроцессор...</td>\n",
       "      <td>3.724136</td>\n",
       "      <td>4.690508</td>\n",
       "      <td>5.325581</td>\n",
       "      <td>3.567521</td>\n",
       "      <td>...</td>\n",
       "      <td>[0, 0, 0, 0, 0, 0, 0, 0, 0, 0, 0, 0, 0, 0, 0, ...</td>\n",
       "      <td>[0, 0, 0, 0, 0, 0, 0, 0, 0, 0, 0, 0, 0, 0, 0, ...</td>\n",
       "      <td>8</td>\n",
       "      <td>8</td>\n",
       "      <td>[0, 0, 0, 0, 0, 0, 0, 0, 0, 0, 0, 0, 0, 0, 0, ...</td>\n",
       "      <td>[0, 0, 0, 0, 0, 0, 0, 0, 0, 0, 0, 0, 0, 0, 0, ...</td>\n",
       "      <td>4</td>\n",
       "      <td>4</td>\n",
       "      <td>[0, 0, 0, 0, 0, 0, 0, 0, 0, 0, 0, 0, 0, 0, 0, ...</td>\n",
       "      <td>[0, 0, 0, 0, 0, 0, 0, 0, 0, 0, 0, 0, 0, 0, 0, ...</td>\n",
       "    </tr>\n",
       "  </tbody>\n",
       "</table>\n",
       "<p>2 rows × 26 columns</p>\n",
       "</div>"
      ],
      "text/plain": [
       "   variantid1  variantid2           color_parsed1  \\\n",
       "0    52076340   290590137                    None   \n",
       "1    64525522   204128919  [черный, red, красный]   \n",
       "\n",
       "                  characteristic_attributes_mapping1           color_parsed2  \\\n",
       "0  {\"Напряжение, В\":[\"1.5\"],\"Бренд\":[\"Perfeo\"],\"Т...                    None   \n",
       "1  {\"Операционная система\":[\"Android\"],\"Защищенно...  [черный, red, красный]   \n",
       "\n",
       "                  characteristic_attributes_mapping2  pic_dist_0_perc  \\\n",
       "0  {\"Форм-фактор батареи\":[\"AAA\"],\"Химический тип...         5.331990   \n",
       "1  {\"Встроенная память\":[\"32 ГБ\"],\"Видеопроцессор...         3.724136   \n",
       "\n",
       "   pic_dist_25_perc  pic_dist_50_perc  main_pic_dist_0_perc  ...  \\\n",
       "0          5.331990          5.331990              0.449950  ...   \n",
       "1          4.690508          5.325581              3.567521  ...   \n",
       "\n",
       "                                           name1_bag  \\\n",
       "0  [0, 0, 0, 0, 0, 0, 0, 0, 0, 0, 0, 0, 0, 0, 0, ...   \n",
       "1  [0, 0, 0, 0, 0, 0, 0, 0, 0, 0, 0, 0, 0, 0, 0, ...   \n",
       "\n",
       "                                           name2_bag  name1_len  name2_len  \\\n",
       "0  [0, 0, 0, 0, 0, 0, 0, 0, 0, 0, 0, 0, 0, 0, 0, ...          9         12   \n",
       "1  [0, 0, 0, 0, 0, 0, 0, 0, 0, 0, 0, 0, 0, 0, 0, ...          8          8   \n",
       "\n",
       "                                           cat31_bag  \\\n",
       "0  [0, 0, 0, 0, 0, 0, 0, 0, 0, 0, 0, 0, 0, 0, 0, ...   \n",
       "1  [0, 0, 0, 0, 0, 0, 0, 0, 0, 0, 0, 0, 0, 0, 0, ...   \n",
       "\n",
       "                                           cat32_bag cat31_len cat32_len  \\\n",
       "0  [0, 0, 0, 0, 0, 0, 0, 0, 0, 0, 0, 0, 0, 0, 0, ...         3         3   \n",
       "1  [0, 0, 0, 0, 0, 0, 0, 0, 0, 0, 0, 0, 0, 0, 0, ...         4         4   \n",
       "\n",
       "                                          color1_bag  \\\n",
       "0  [0, 0, 0, 0, 0, 0, 0, 0, 0, 0, 0, 0, 0, 0, 0, ...   \n",
       "1  [0, 0, 0, 0, 0, 0, 0, 0, 0, 0, 0, 0, 0, 0, 0, ...   \n",
       "\n",
       "                                          color2_bag  \n",
       "0  [0, 0, 0, 0, 0, 0, 0, 0, 0, 0, 0, 0, 0, 0, 0, ...  \n",
       "1  [0, 0, 0, 0, 0, 0, 0, 0, 0, 0, 0, 0, 0, 0, 0, ...  \n",
       "\n",
       "[2 rows x 26 columns]"
      ]
     },
     "execution_count": 40,
     "metadata": {},
     "output_type": "execute_result"
    }
   ],
   "source": [
    "featurestest.head(2)"
   ]
  },
  {
   "cell_type": "code",
   "execution_count": 41,
   "metadata": {
    "ExecuteTime": {
     "end_time": "2023-05-19T06:28:45.696151Z",
     "start_time": "2023-05-19T06:28:45.692484Z"
    }
   },
   "outputs": [],
   "source": [
    "feats = [\"name1_bag\", \"name1_len\", \"name2_bag\", \"name2_len\", \"cat31_bag\", \"cat32_bag\", \"cat31_len\", \"cat32_len\", \"color1_bag\", 'color2_bag', \"pic_dist_0_perc\", \"pic_dist_25_perc\", \"pic_dist_50_perc\", \"main_pic_dist_0_perc\", \"main_pic_dist_25_perc\", \"main_pic_dist_50_perc\", \"euclidean_name_bert_dist\", \"cosine_name_bert_dist\"]"
   ]
  },
  {
   "cell_type": "code",
   "execution_count": 42,
   "metadata": {
    "ExecuteTime": {
     "end_time": "2023-05-19T06:29:01.923278Z",
     "start_time": "2023-05-19T06:28:54.101554Z"
    }
   },
   "outputs": [],
   "source": [
    "X_test = featurestest[feats]"
   ]
  },
  {
   "cell_type": "code",
   "execution_count": 43,
   "metadata": {},
   "outputs": [
    {
     "data": {
      "text/html": [
       "<div>\n",
       "<style scoped>\n",
       "    .dataframe tbody tr th:only-of-type {\n",
       "        vertical-align: middle;\n",
       "    }\n",
       "\n",
       "    .dataframe tbody tr th {\n",
       "        vertical-align: top;\n",
       "    }\n",
       "\n",
       "    .dataframe thead th {\n",
       "        text-align: right;\n",
       "    }\n",
       "</style>\n",
       "<table border=\"1\" class=\"dataframe\">\n",
       "  <thead>\n",
       "    <tr style=\"text-align: right;\">\n",
       "      <th></th>\n",
       "      <th>name1_bag</th>\n",
       "      <th>name1_len</th>\n",
       "      <th>name2_bag</th>\n",
       "      <th>name2_len</th>\n",
       "      <th>cat31_bag</th>\n",
       "      <th>cat32_bag</th>\n",
       "      <th>cat31_len</th>\n",
       "      <th>cat32_len</th>\n",
       "      <th>color1_bag</th>\n",
       "      <th>color2_bag</th>\n",
       "      <th>pic_dist_0_perc</th>\n",
       "      <th>pic_dist_25_perc</th>\n",
       "      <th>pic_dist_50_perc</th>\n",
       "      <th>main_pic_dist_0_perc</th>\n",
       "      <th>main_pic_dist_25_perc</th>\n",
       "      <th>main_pic_dist_50_perc</th>\n",
       "      <th>euclidean_name_bert_dist</th>\n",
       "      <th>cosine_name_bert_dist</th>\n",
       "    </tr>\n",
       "  </thead>\n",
       "  <tbody>\n",
       "    <tr>\n",
       "      <th>0</th>\n",
       "      <td>[0, 0, 0, 0, 0, 0, 0, 0, 0, 0, 0, 0, 0, 0, 0, ...</td>\n",
       "      <td>9</td>\n",
       "      <td>[0, 0, 0, 0, 0, 0, 0, 0, 0, 0, 0, 0, 0, 0, 0, ...</td>\n",
       "      <td>12</td>\n",
       "      <td>[0, 0, 0, 0, 0, 0, 0, 0, 0, 0, 0, 0, 0, 0, 0, ...</td>\n",
       "      <td>[0, 0, 0, 0, 0, 0, 0, 0, 0, 0, 0, 0, 0, 0, 0, ...</td>\n",
       "      <td>3</td>\n",
       "      <td>3</td>\n",
       "      <td>[0, 0, 0, 0, 0, 0, 0, 0, 0, 0, 0, 0, 0, 0, 0, ...</td>\n",
       "      <td>[0, 0, 0, 0, 0, 0, 0, 0, 0, 0, 0, 0, 0, 0, 0, ...</td>\n",
       "      <td>5.331990</td>\n",
       "      <td>5.331990</td>\n",
       "      <td>5.331990</td>\n",
       "      <td>0.449950</td>\n",
       "      <td>0.449950</td>\n",
       "      <td>0.449950</td>\n",
       "      <td>0.719428</td>\n",
       "      <td>0.015745</td>\n",
       "    </tr>\n",
       "    <tr>\n",
       "      <th>1</th>\n",
       "      <td>[0, 0, 0, 0, 0, 0, 0, 0, 0, 0, 0, 0, 0, 0, 0, ...</td>\n",
       "      <td>8</td>\n",
       "      <td>[0, 0, 0, 0, 0, 0, 0, 0, 0, 0, 0, 0, 0, 0, 0, ...</td>\n",
       "      <td>8</td>\n",
       "      <td>[0, 0, 0, 0, 0, 0, 0, 0, 0, 0, 0, 0, 0, 0, 0, ...</td>\n",
       "      <td>[0, 0, 0, 0, 0, 0, 0, 0, 0, 0, 0, 0, 0, 0, 0, ...</td>\n",
       "      <td>4</td>\n",
       "      <td>4</td>\n",
       "      <td>[0, 0, 0, 0, 0, 0, 0, 0, 0, 0, 0, 0, 0, 0, 0, ...</td>\n",
       "      <td>[0, 0, 0, 0, 0, 0, 0, 0, 0, 0, 0, 0, 0, 0, 0, ...</td>\n",
       "      <td>3.724136</td>\n",
       "      <td>4.690508</td>\n",
       "      <td>5.325581</td>\n",
       "      <td>3.567521</td>\n",
       "      <td>3.567521</td>\n",
       "      <td>3.567521</td>\n",
       "      <td>0.573571</td>\n",
       "      <td>0.009069</td>\n",
       "    </tr>\n",
       "    <tr>\n",
       "      <th>2</th>\n",
       "      <td>[0, 0, 0, 0, 0, 0, 0, 0, 0, 0, 0, 0, 0, 0, 0, ...</td>\n",
       "      <td>14</td>\n",
       "      <td>[0, 0, 0, 0, 0, 0, 0, 0, 0, 0, 0, 0, 0, 0, 0, ...</td>\n",
       "      <td>8</td>\n",
       "      <td>[0, 0, 0, 0, 0, 0, 0, 0, 0, 0, 0, 0, 0, 0, 0, ...</td>\n",
       "      <td>[0, 0, 0, 0, 0, 0, 0, 0, 0, 0, 0, 0, 0, 0, 0, ...</td>\n",
       "      <td>3</td>\n",
       "      <td>3</td>\n",
       "      <td>[0, 0, 0, 0, 0, 0, 0, 0, 0, 0, 0, 0, 0, 0, 0, ...</td>\n",
       "      <td>[0, 0, 0, 0, 0, 0, 0, 0, 0, 0, 0, 0, 0, 0, 0, ...</td>\n",
       "      <td>-1.000000</td>\n",
       "      <td>-1.000000</td>\n",
       "      <td>-1.000000</td>\n",
       "      <td>0.835175</td>\n",
       "      <td>0.835175</td>\n",
       "      <td>0.835175</td>\n",
       "      <td>1.240927</td>\n",
       "      <td>0.052026</td>\n",
       "    </tr>\n",
       "    <tr>\n",
       "      <th>3</th>\n",
       "      <td>[0, 0, 0, 0, 0, 0, 0, 0, 0, 0, 0, 0, 0, 0, 0, ...</td>\n",
       "      <td>12</td>\n",
       "      <td>[0, 0, 0, 0, 0, 0, 0, 0, 0, 0, 0, 0, 0, 0, 0, ...</td>\n",
       "      <td>11</td>\n",
       "      <td>[0, 0, 0, 0, 0, 0, 0, 0, 0, 0, 0, 0, 0, 0, 0, ...</td>\n",
       "      <td>[0, 0, 0, 0, 0, 0, 0, 0, 0, 0, 0, 0, 0, 0, 0, ...</td>\n",
       "      <td>3</td>\n",
       "      <td>3</td>\n",
       "      <td>[0, 0, 0, 0, 0, 0, 0, 0, 0, 0, 0, 0, 0, 0, 0, ...</td>\n",
       "      <td>[0, 0, 0, 0, 0, 0, 0, 0, 0, 0, 0, 0, 0, 0, 0, ...</td>\n",
       "      <td>1.570454</td>\n",
       "      <td>4.767440</td>\n",
       "      <td>5.547379</td>\n",
       "      <td>3.889462</td>\n",
       "      <td>3.889462</td>\n",
       "      <td>3.889462</td>\n",
       "      <td>0.550203</td>\n",
       "      <td>0.008708</td>\n",
       "    </tr>\n",
       "    <tr>\n",
       "      <th>4</th>\n",
       "      <td>[0, 0, 0, 0, 0, 0, 0, 0, 0, 0, 0, 0, 0, 0, 0, ...</td>\n",
       "      <td>7</td>\n",
       "      <td>[0, 0, 0, 0, 0, 0, 0, 0, 0, 0, 0, 0, 0, 0, 0, ...</td>\n",
       "      <td>6</td>\n",
       "      <td>[0, 0, 0, 0, 0, 0, 0, 0, 0, 0, 0, 0, 0, 0, 0, ...</td>\n",
       "      <td>[0, 0, 0, 0, 0, 0, 0, 0, 0, 0, 0, 0, 0, 0, 0, ...</td>\n",
       "      <td>4</td>\n",
       "      <td>4</td>\n",
       "      <td>[0, 0, 0, 0, 0, 0, 0, 0, 0, 0, 0, 0, 0, 0, 0, ...</td>\n",
       "      <td>[0, 0, 0, 0, 0, 0, 0, 0, 0, 0, 0, 0, 0, 0, 0, ...</td>\n",
       "      <td>2.668072</td>\n",
       "      <td>2.668072</td>\n",
       "      <td>2.668072</td>\n",
       "      <td>4.637042</td>\n",
       "      <td>4.637042</td>\n",
       "      <td>4.637042</td>\n",
       "      <td>0.596074</td>\n",
       "      <td>0.009735</td>\n",
       "    </tr>\n",
       "    <tr>\n",
       "      <th>...</th>\n",
       "      <td>...</td>\n",
       "      <td>...</td>\n",
       "      <td>...</td>\n",
       "      <td>...</td>\n",
       "      <td>...</td>\n",
       "      <td>...</td>\n",
       "      <td>...</td>\n",
       "      <td>...</td>\n",
       "      <td>...</td>\n",
       "      <td>...</td>\n",
       "      <td>...</td>\n",
       "      <td>...</td>\n",
       "      <td>...</td>\n",
       "      <td>...</td>\n",
       "      <td>...</td>\n",
       "      <td>...</td>\n",
       "      <td>...</td>\n",
       "      <td>...</td>\n",
       "    </tr>\n",
       "    <tr>\n",
       "      <th>18079</th>\n",
       "      <td>[0, 0, 0, 0, 0, 0, 0, 0, 0, 0, 0, 0, 0, 0, 0, ...</td>\n",
       "      <td>33</td>\n",
       "      <td>[0, 0, 0, 0, 0, 0, 0, 0, 0, 0, 0, 0, 0, 0, 0, ...</td>\n",
       "      <td>25</td>\n",
       "      <td>[0, 0, 0, 0, 0, 0, 0, 0, 0, 0, 0, 0, 0, 0, 0, ...</td>\n",
       "      <td>[0, 0, 0, 0, 0, 0, 0, 0, 0, 0, 0, 0, 0, 0, 0, ...</td>\n",
       "      <td>2</td>\n",
       "      <td>2</td>\n",
       "      <td>[0, 0, 0, 0, 0, 0, 1, 0, 0, 0, 0, 0, 0, 0, 0, ...</td>\n",
       "      <td>[0, 0, 0, 0, 0, 0, 0, 0, 0, 0, 0, 0, 0, 0, 0, ...</td>\n",
       "      <td>0.000000</td>\n",
       "      <td>0.000000</td>\n",
       "      <td>2.191005</td>\n",
       "      <td>0.000000</td>\n",
       "      <td>0.000000</td>\n",
       "      <td>0.000000</td>\n",
       "      <td>0.634790</td>\n",
       "      <td>0.011493</td>\n",
       "    </tr>\n",
       "    <tr>\n",
       "      <th>18080</th>\n",
       "      <td>[0, 0, 0, 0, 0, 0, 0, 0, 0, 0, 0, 0, 0, 0, 0, ...</td>\n",
       "      <td>11</td>\n",
       "      <td>[0, 0, 0, 0, 0, 0, 0, 0, 0, 0, 0, 0, 0, 0, 0, ...</td>\n",
       "      <td>11</td>\n",
       "      <td>[0, 0, 0, 0, 0, 0, 0, 0, 0, 0, 0, 0, 0, 0, 0, ...</td>\n",
       "      <td>[0, 0, 0, 0, 0, 0, 0, 0, 0, 0, 0, 0, 0, 0, 0, ...</td>\n",
       "      <td>4</td>\n",
       "      <td>4</td>\n",
       "      <td>[0, 0, 0, 0, 0, 0, 0, 0, 0, 0, 0, 0, 0, 0, 0, ...</td>\n",
       "      <td>[0, 0, 0, 0, 0, 0, 0, 0, 0, 0, 0, 0, 0, 0, 0, ...</td>\n",
       "      <td>-1.000000</td>\n",
       "      <td>-1.000000</td>\n",
       "      <td>-1.000000</td>\n",
       "      <td>2.019089</td>\n",
       "      <td>2.019089</td>\n",
       "      <td>2.019089</td>\n",
       "      <td>0.553783</td>\n",
       "      <td>0.008289</td>\n",
       "    </tr>\n",
       "    <tr>\n",
       "      <th>18081</th>\n",
       "      <td>[0, 0, 0, 0, 0, 0, 0, 0, 0, 0, 0, 0, 0, 0, 0, ...</td>\n",
       "      <td>18</td>\n",
       "      <td>[0, 0, 0, 0, 0, 0, 0, 0, 0, 0, 0, 0, 0, 0, 0, ...</td>\n",
       "      <td>15</td>\n",
       "      <td>[0, 0, 0, 0, 0, 0, 0, 0, 0, 0, 0, 0, 0, 0, 0, ...</td>\n",
       "      <td>[0, 0, 0, 0, 0, 0, 0, 0, 0, 0, 0, 0, 0, 0, 0, ...</td>\n",
       "      <td>1</td>\n",
       "      <td>1</td>\n",
       "      <td>[0, 0, 0, 0, 0, 0, 0, 0, 0, 0, 0, 0, 0, 0, 0, ...</td>\n",
       "      <td>[0, 0, 0, 0, 0, 0, 0, 0, 0, 0, 0, 0, 0, 0, 0, ...</td>\n",
       "      <td>-1.000000</td>\n",
       "      <td>-1.000000</td>\n",
       "      <td>-1.000000</td>\n",
       "      <td>0.310947</td>\n",
       "      <td>0.310947</td>\n",
       "      <td>0.310947</td>\n",
       "      <td>1.682896</td>\n",
       "      <td>0.076411</td>\n",
       "    </tr>\n",
       "    <tr>\n",
       "      <th>18082</th>\n",
       "      <td>[0, 0, 0, 0, 0, 0, 0, 0, 0, 0, 0, 0, 0, 0, 0, ...</td>\n",
       "      <td>14</td>\n",
       "      <td>[0, 0, 0, 0, 0, 0, 0, 0, 0, 0, 0, 0, 0, 0, 0, ...</td>\n",
       "      <td>15</td>\n",
       "      <td>[0, 0, 0, 0, 0, 0, 0, 0, 0, 0, 0, 0, 0, 0, 0, ...</td>\n",
       "      <td>[0, 0, 0, 0, 0, 0, 0, 0, 0, 0, 0, 0, 0, 0, 0, ...</td>\n",
       "      <td>1</td>\n",
       "      <td>1</td>\n",
       "      <td>[0, 0, 0, 0, 0, 0, 0, 0, 0, 0, 0, 0, 0, 0, 0, ...</td>\n",
       "      <td>[0, 0, 0, 0, 0, 0, 0, 0, 0, 0, 0, 0, 0, 0, 0, ...</td>\n",
       "      <td>0.000000</td>\n",
       "      <td>3.209469</td>\n",
       "      <td>5.253204</td>\n",
       "      <td>0.000000</td>\n",
       "      <td>0.000000</td>\n",
       "      <td>0.000000</td>\n",
       "      <td>0.460841</td>\n",
       "      <td>0.007052</td>\n",
       "    </tr>\n",
       "    <tr>\n",
       "      <th>18083</th>\n",
       "      <td>[0, 0, 0, 0, 0, 0, 0, 0, 0, 0, 0, 0, 0, 0, 0, ...</td>\n",
       "      <td>12</td>\n",
       "      <td>[0, 0, 0, 0, 0, 0, 0, 0, 0, 0, 0, 0, 0, 0, 0, ...</td>\n",
       "      <td>12</td>\n",
       "      <td>[0, 0, 0, 0, 0, 0, 0, 0, 0, 0, 0, 0, 0, 0, 0, ...</td>\n",
       "      <td>[0, 0, 0, 0, 0, 0, 0, 0, 0, 0, 0, 0, 0, 0, 0, ...</td>\n",
       "      <td>4</td>\n",
       "      <td>4</td>\n",
       "      <td>[0, 0, 0, 0, 0, 0, 0, 0, 0, 0, 0, 0, 0, 0, 0, ...</td>\n",
       "      <td>[0, 0, 0, 0, 0, 0, 0, 0, 0, 0, 0, 0, 0, 0, 0, ...</td>\n",
       "      <td>0.000000</td>\n",
       "      <td>0.000000</td>\n",
       "      <td>3.772393</td>\n",
       "      <td>0.000000</td>\n",
       "      <td>0.000000</td>\n",
       "      <td>0.000000</td>\n",
       "      <td>0.426062</td>\n",
       "      <td>0.005486</td>\n",
       "    </tr>\n",
       "  </tbody>\n",
       "</table>\n",
       "<p>18084 rows × 18 columns</p>\n",
       "</div>"
      ],
      "text/plain": [
       "                                               name1_bag  name1_len  \\\n",
       "0      [0, 0, 0, 0, 0, 0, 0, 0, 0, 0, 0, 0, 0, 0, 0, ...          9   \n",
       "1      [0, 0, 0, 0, 0, 0, 0, 0, 0, 0, 0, 0, 0, 0, 0, ...          8   \n",
       "2      [0, 0, 0, 0, 0, 0, 0, 0, 0, 0, 0, 0, 0, 0, 0, ...         14   \n",
       "3      [0, 0, 0, 0, 0, 0, 0, 0, 0, 0, 0, 0, 0, 0, 0, ...         12   \n",
       "4      [0, 0, 0, 0, 0, 0, 0, 0, 0, 0, 0, 0, 0, 0, 0, ...          7   \n",
       "...                                                  ...        ...   \n",
       "18079  [0, 0, 0, 0, 0, 0, 0, 0, 0, 0, 0, 0, 0, 0, 0, ...         33   \n",
       "18080  [0, 0, 0, 0, 0, 0, 0, 0, 0, 0, 0, 0, 0, 0, 0, ...         11   \n",
       "18081  [0, 0, 0, 0, 0, 0, 0, 0, 0, 0, 0, 0, 0, 0, 0, ...         18   \n",
       "18082  [0, 0, 0, 0, 0, 0, 0, 0, 0, 0, 0, 0, 0, 0, 0, ...         14   \n",
       "18083  [0, 0, 0, 0, 0, 0, 0, 0, 0, 0, 0, 0, 0, 0, 0, ...         12   \n",
       "\n",
       "                                               name2_bag  name2_len  \\\n",
       "0      [0, 0, 0, 0, 0, 0, 0, 0, 0, 0, 0, 0, 0, 0, 0, ...         12   \n",
       "1      [0, 0, 0, 0, 0, 0, 0, 0, 0, 0, 0, 0, 0, 0, 0, ...          8   \n",
       "2      [0, 0, 0, 0, 0, 0, 0, 0, 0, 0, 0, 0, 0, 0, 0, ...          8   \n",
       "3      [0, 0, 0, 0, 0, 0, 0, 0, 0, 0, 0, 0, 0, 0, 0, ...         11   \n",
       "4      [0, 0, 0, 0, 0, 0, 0, 0, 0, 0, 0, 0, 0, 0, 0, ...          6   \n",
       "...                                                  ...        ...   \n",
       "18079  [0, 0, 0, 0, 0, 0, 0, 0, 0, 0, 0, 0, 0, 0, 0, ...         25   \n",
       "18080  [0, 0, 0, 0, 0, 0, 0, 0, 0, 0, 0, 0, 0, 0, 0, ...         11   \n",
       "18081  [0, 0, 0, 0, 0, 0, 0, 0, 0, 0, 0, 0, 0, 0, 0, ...         15   \n",
       "18082  [0, 0, 0, 0, 0, 0, 0, 0, 0, 0, 0, 0, 0, 0, 0, ...         15   \n",
       "18083  [0, 0, 0, 0, 0, 0, 0, 0, 0, 0, 0, 0, 0, 0, 0, ...         12   \n",
       "\n",
       "                                               cat31_bag  \\\n",
       "0      [0, 0, 0, 0, 0, 0, 0, 0, 0, 0, 0, 0, 0, 0, 0, ...   \n",
       "1      [0, 0, 0, 0, 0, 0, 0, 0, 0, 0, 0, 0, 0, 0, 0, ...   \n",
       "2      [0, 0, 0, 0, 0, 0, 0, 0, 0, 0, 0, 0, 0, 0, 0, ...   \n",
       "3      [0, 0, 0, 0, 0, 0, 0, 0, 0, 0, 0, 0, 0, 0, 0, ...   \n",
       "4      [0, 0, 0, 0, 0, 0, 0, 0, 0, 0, 0, 0, 0, 0, 0, ...   \n",
       "...                                                  ...   \n",
       "18079  [0, 0, 0, 0, 0, 0, 0, 0, 0, 0, 0, 0, 0, 0, 0, ...   \n",
       "18080  [0, 0, 0, 0, 0, 0, 0, 0, 0, 0, 0, 0, 0, 0, 0, ...   \n",
       "18081  [0, 0, 0, 0, 0, 0, 0, 0, 0, 0, 0, 0, 0, 0, 0, ...   \n",
       "18082  [0, 0, 0, 0, 0, 0, 0, 0, 0, 0, 0, 0, 0, 0, 0, ...   \n",
       "18083  [0, 0, 0, 0, 0, 0, 0, 0, 0, 0, 0, 0, 0, 0, 0, ...   \n",
       "\n",
       "                                               cat32_bag  cat31_len  \\\n",
       "0      [0, 0, 0, 0, 0, 0, 0, 0, 0, 0, 0, 0, 0, 0, 0, ...          3   \n",
       "1      [0, 0, 0, 0, 0, 0, 0, 0, 0, 0, 0, 0, 0, 0, 0, ...          4   \n",
       "2      [0, 0, 0, 0, 0, 0, 0, 0, 0, 0, 0, 0, 0, 0, 0, ...          3   \n",
       "3      [0, 0, 0, 0, 0, 0, 0, 0, 0, 0, 0, 0, 0, 0, 0, ...          3   \n",
       "4      [0, 0, 0, 0, 0, 0, 0, 0, 0, 0, 0, 0, 0, 0, 0, ...          4   \n",
       "...                                                  ...        ...   \n",
       "18079  [0, 0, 0, 0, 0, 0, 0, 0, 0, 0, 0, 0, 0, 0, 0, ...          2   \n",
       "18080  [0, 0, 0, 0, 0, 0, 0, 0, 0, 0, 0, 0, 0, 0, 0, ...          4   \n",
       "18081  [0, 0, 0, 0, 0, 0, 0, 0, 0, 0, 0, 0, 0, 0, 0, ...          1   \n",
       "18082  [0, 0, 0, 0, 0, 0, 0, 0, 0, 0, 0, 0, 0, 0, 0, ...          1   \n",
       "18083  [0, 0, 0, 0, 0, 0, 0, 0, 0, 0, 0, 0, 0, 0, 0, ...          4   \n",
       "\n",
       "       cat32_len                                         color1_bag  \\\n",
       "0              3  [0, 0, 0, 0, 0, 0, 0, 0, 0, 0, 0, 0, 0, 0, 0, ...   \n",
       "1              4  [0, 0, 0, 0, 0, 0, 0, 0, 0, 0, 0, 0, 0, 0, 0, ...   \n",
       "2              3  [0, 0, 0, 0, 0, 0, 0, 0, 0, 0, 0, 0, 0, 0, 0, ...   \n",
       "3              3  [0, 0, 0, 0, 0, 0, 0, 0, 0, 0, 0, 0, 0, 0, 0, ...   \n",
       "4              4  [0, 0, 0, 0, 0, 0, 0, 0, 0, 0, 0, 0, 0, 0, 0, ...   \n",
       "...          ...                                                ...   \n",
       "18079          2  [0, 0, 0, 0, 0, 0, 1, 0, 0, 0, 0, 0, 0, 0, 0, ...   \n",
       "18080          4  [0, 0, 0, 0, 0, 0, 0, 0, 0, 0, 0, 0, 0, 0, 0, ...   \n",
       "18081          1  [0, 0, 0, 0, 0, 0, 0, 0, 0, 0, 0, 0, 0, 0, 0, ...   \n",
       "18082          1  [0, 0, 0, 0, 0, 0, 0, 0, 0, 0, 0, 0, 0, 0, 0, ...   \n",
       "18083          4  [0, 0, 0, 0, 0, 0, 0, 0, 0, 0, 0, 0, 0, 0, 0, ...   \n",
       "\n",
       "                                              color2_bag  pic_dist_0_perc  \\\n",
       "0      [0, 0, 0, 0, 0, 0, 0, 0, 0, 0, 0, 0, 0, 0, 0, ...         5.331990   \n",
       "1      [0, 0, 0, 0, 0, 0, 0, 0, 0, 0, 0, 0, 0, 0, 0, ...         3.724136   \n",
       "2      [0, 0, 0, 0, 0, 0, 0, 0, 0, 0, 0, 0, 0, 0, 0, ...        -1.000000   \n",
       "3      [0, 0, 0, 0, 0, 0, 0, 0, 0, 0, 0, 0, 0, 0, 0, ...         1.570454   \n",
       "4      [0, 0, 0, 0, 0, 0, 0, 0, 0, 0, 0, 0, 0, 0, 0, ...         2.668072   \n",
       "...                                                  ...              ...   \n",
       "18079  [0, 0, 0, 0, 0, 0, 0, 0, 0, 0, 0, 0, 0, 0, 0, ...         0.000000   \n",
       "18080  [0, 0, 0, 0, 0, 0, 0, 0, 0, 0, 0, 0, 0, 0, 0, ...        -1.000000   \n",
       "18081  [0, 0, 0, 0, 0, 0, 0, 0, 0, 0, 0, 0, 0, 0, 0, ...        -1.000000   \n",
       "18082  [0, 0, 0, 0, 0, 0, 0, 0, 0, 0, 0, 0, 0, 0, 0, ...         0.000000   \n",
       "18083  [0, 0, 0, 0, 0, 0, 0, 0, 0, 0, 0, 0, 0, 0, 0, ...         0.000000   \n",
       "\n",
       "       pic_dist_25_perc  pic_dist_50_perc  main_pic_dist_0_perc  \\\n",
       "0              5.331990          5.331990              0.449950   \n",
       "1              4.690508          5.325581              3.567521   \n",
       "2             -1.000000         -1.000000              0.835175   \n",
       "3              4.767440          5.547379              3.889462   \n",
       "4              2.668072          2.668072              4.637042   \n",
       "...                 ...               ...                   ...   \n",
       "18079          0.000000          2.191005              0.000000   \n",
       "18080         -1.000000         -1.000000              2.019089   \n",
       "18081         -1.000000         -1.000000              0.310947   \n",
       "18082          3.209469          5.253204              0.000000   \n",
       "18083          0.000000          3.772393              0.000000   \n",
       "\n",
       "       main_pic_dist_25_perc  main_pic_dist_50_perc  euclidean_name_bert_dist  \\\n",
       "0                   0.449950               0.449950                  0.719428   \n",
       "1                   3.567521               3.567521                  0.573571   \n",
       "2                   0.835175               0.835175                  1.240927   \n",
       "3                   3.889462               3.889462                  0.550203   \n",
       "4                   4.637042               4.637042                  0.596074   \n",
       "...                      ...                    ...                       ...   \n",
       "18079               0.000000               0.000000                  0.634790   \n",
       "18080               2.019089               2.019089                  0.553783   \n",
       "18081               0.310947               0.310947                  1.682896   \n",
       "18082               0.000000               0.000000                  0.460841   \n",
       "18083               0.000000               0.000000                  0.426062   \n",
       "\n",
       "       cosine_name_bert_dist  \n",
       "0                   0.015745  \n",
       "1                   0.009069  \n",
       "2                   0.052026  \n",
       "3                   0.008708  \n",
       "4                   0.009735  \n",
       "...                      ...  \n",
       "18079               0.011493  \n",
       "18080               0.008289  \n",
       "18081               0.076411  \n",
       "18082               0.007052  \n",
       "18083               0.005486  \n",
       "\n",
       "[18084 rows x 18 columns]"
      ]
     },
     "execution_count": 43,
     "metadata": {},
     "output_type": "execute_result"
    }
   ],
   "source": [
    "X_test"
   ]
  },
  {
   "cell_type": "code",
   "execution_count": 44,
   "metadata": {},
   "outputs": [],
   "source": [
    "X_test_final = []\n",
    "\n",
    "for i in range(len(X_test)):\n",
    "    row = []\n",
    "    row.extend(list(X_test[feats[0]].iloc[i]))\n",
    "    row.extend(list(X_test[feats[2]].iloc[i]))\n",
    "    row.extend(list(X_test[feats[4]].iloc[i]))\n",
    "    row.extend(list(X_test[feats[5]].iloc[i]))\n",
    "    row.extend(list(X_test[feats[8]].iloc[i]))\n",
    "    row.extend(list(X_test[feats[9]].iloc[i]))\n",
    "    row.extend([X_test[feats[b]].iloc[i] for b in [1,3,6,7,10,11,12,13,14,15,16,17]])\n",
    "    X_test_final.append(row)"
   ]
  },
  {
   "cell_type": "code",
   "execution_count": 45,
   "metadata": {},
   "outputs": [
    {
     "name": "stdout",
     "output_type": "stream",
     "text": [
      "18084\n"
     ]
    }
   ],
   "source": [
    "print(len(X_test_final))"
   ]
  },
  {
   "cell_type": "code",
   "execution_count": 54,
   "metadata": {
    "scrolled": true
   },
   "outputs": [],
   "source": [
    "import joblib\n",
    "\n",
    "model = joblib.load('logistic_regression_w_embs_model_200_epochs.pkl')\n",
    "\n",
    "predictions = model.predict(X_test_final)"
   ]
  },
  {
   "cell_type": "code",
   "execution_count": 47,
   "metadata": {},
   "outputs": [
    {
     "data": {
      "text/plain": [
       "array([0.78733842, 0.7389366 , 0.62069414, ..., 0.76547454, 0.45693213,\n",
       "       0.56289734])"
      ]
     },
     "execution_count": 47,
     "metadata": {},
     "output_type": "execute_result"
    }
   ],
   "source": [
    "predictions[::, 1]"
   ]
  },
  {
   "cell_type": "code",
   "execution_count": 55,
   "metadata": {},
   "outputs": [
    {
     "data": {
      "text/plain": [
       "array([0., 0., 0., ..., 0., 1., 0.])"
      ]
     },
     "execution_count": 55,
     "metadata": {},
     "output_type": "execute_result"
    }
   ],
   "source": [
    "predictions"
   ]
  },
  {
   "cell_type": "code",
   "execution_count": 51,
   "metadata": {},
   "outputs": [],
   "source": [
    "test_pairs_wo_target = test_pairs_wo_target.drop(\n",
    "        ['target'], axis=1)"
   ]
  },
  {
   "cell_type": "code",
   "execution_count": 52,
   "metadata": {},
   "outputs": [],
   "source": [
    "test_pairs_wo_target['target'] = predictions[::, 1]"
   ]
  },
  {
   "cell_type": "code",
   "execution_count": 53,
   "metadata": {},
   "outputs": [],
   "source": [
    "test_pairs_wo_target.to_csv(\"submission_1.csv\", index = False)"
   ]
  },
  {
   "cell_type": "code",
   "execution_count": null,
   "metadata": {},
   "outputs": [],
   "source": []
  }
 ],
 "metadata": {
  "kernelspec": {
   "display_name": "Python 3 (ipykernel)",
   "language": "python",
   "name": "python3"
  },
  "language_info": {
   "codemirror_mode": {
    "name": "ipython",
    "version": 3
   },
   "file_extension": ".py",
   "mimetype": "text/x-python",
   "name": "python",
   "nbconvert_exporter": "python",
   "pygments_lexer": "ipython3",
   "version": "3.8.10"
  },
  "neptune": {
   "notebookId": "99384c11-8ebc-418a-bfe0-db1fce320e53",
   "projectVersion": 2
  }
 },
 "nbformat": 4,
 "nbformat_minor": 4
}
