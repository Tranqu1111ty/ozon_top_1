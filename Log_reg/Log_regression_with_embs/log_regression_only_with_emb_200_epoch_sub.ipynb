{
 "cells": [
  {
   "cell_type": "code",
   "execution_count": 1,
   "metadata": {
    "ExecuteTime": {
     "end_time": "2023-05-19T06:10:23.678400Z",
     "start_time": "2023-05-19T06:10:16.503064Z"
    }
   },
   "outputs": [],
   "source": [
    "import json\n",
    "from functools import partial\n",
    "from typing import List\n",
    "\n",
    "import matplotlib.pyplot as plt\n",
    "import numpy as np\n",
    "import pandas as pd\n",
    "import seaborn as sns\n",
    "from catboost import CatBoostClassifier, Pool\n",
    "from catboost.utils import eval_metric\n",
    "from scipy.spatial.distance import cosine, euclidean\n",
    "from sklearn.metrics import pairwise_distances\n",
    "from sklearn.model_selection import train_test_split\n",
    "\n",
    "from sklearn.metrics import precision_score\n"
   ]
  },
  {
   "cell_type": "markdown",
   "metadata": {},
   "source": [
    "### Load data"
   ]
  },
  {
   "cell_type": "code",
   "execution_count": 2,
   "metadata": {
    "ExecuteTime": {
     "end_time": "2023-05-19T06:12:05.012452Z",
     "start_time": "2023-05-19T06:11:27.878101Z"
    },
    "scrolled": false
   },
   "outputs": [],
   "source": [
    "dataset = pd.read_parquet(r\"C:\\Users\\druzh\\Project_python\\ozon_top_1\\Datasets/test_pairs_wo_target.parquet\")\n",
    "etl = pd.read_parquet(r\"C:\\Users\\druzh\\Project_python\\ozon_top_1\\Datasets/test_data.parquet\")"
   ]
  },
  {
   "cell_type": "code",
   "execution_count": 3,
   "metadata": {},
   "outputs": [
    {
     "data": {
      "text/html": [
       "<div>\n",
       "<style scoped>\n",
       "    .dataframe tbody tr th:only-of-type {\n",
       "        vertical-align: middle;\n",
       "    }\n",
       "\n",
       "    .dataframe tbody tr th {\n",
       "        vertical-align: top;\n",
       "    }\n",
       "\n",
       "    .dataframe thead th {\n",
       "        text-align: right;\n",
       "    }\n",
       "</style>\n",
       "<table border=\"1\" class=\"dataframe\">\n",
       "  <thead>\n",
       "    <tr style=\"text-align: right;\">\n",
       "      <th></th>\n",
       "      <th>variantid1</th>\n",
       "      <th>variantid2</th>\n",
       "    </tr>\n",
       "  </thead>\n",
       "  <tbody>\n",
       "    <tr>\n",
       "      <th>0</th>\n",
       "      <td>52076340</td>\n",
       "      <td>290590137</td>\n",
       "    </tr>\n",
       "    <tr>\n",
       "      <th>1</th>\n",
       "      <td>64525522</td>\n",
       "      <td>204128919</td>\n",
       "    </tr>\n",
       "  </tbody>\n",
       "</table>\n",
       "</div>"
      ],
      "text/plain": [
       "   variantid1  variantid2\n",
       "0    52076340   290590137\n",
       "1    64525522   204128919"
      ]
     },
     "execution_count": 3,
     "metadata": {},
     "output_type": "execute_result"
    }
   ],
   "source": [
    "dataset.head(2)"
   ]
  },
  {
   "cell_type": "markdown",
   "metadata": {},
   "source": [
    "Get raw data for each variantid."
   ]
  },
  {
   "cell_type": "code",
   "execution_count": 4,
   "metadata": {
    "ExecuteTime": {
     "end_time": "2023-05-19T06:13:06.702876Z",
     "start_time": "2023-05-19T06:13:03.688111Z"
    }
   },
   "outputs": [],
   "source": [
    "features = (\n",
    "    dataset\n",
    "    .merge(\n",
    "        etl\n",
    "        .add_suffix('1'),\n",
    "        on=\"variantid1\"\n",
    "    )\n",
    "    .merge(\n",
    "        etl\n",
    "        .add_suffix('2'),\n",
    "        on=\"variantid2\"\n",
    "    )\n",
    ")"
   ]
  },
  {
   "cell_type": "code",
   "execution_count": 5,
   "metadata": {
    "ExecuteTime": {
     "end_time": "2023-05-19T06:13:09.645490Z",
     "start_time": "2023-05-19T06:13:09.620414Z"
    }
   },
   "outputs": [
    {
     "data": {
      "text/html": [
       "<div>\n",
       "<style scoped>\n",
       "    .dataframe tbody tr th:only-of-type {\n",
       "        vertical-align: middle;\n",
       "    }\n",
       "\n",
       "    .dataframe tbody tr th {\n",
       "        vertical-align: top;\n",
       "    }\n",
       "\n",
       "    .dataframe thead th {\n",
       "        text-align: right;\n",
       "    }\n",
       "</style>\n",
       "<table border=\"1\" class=\"dataframe\">\n",
       "  <thead>\n",
       "    <tr style=\"text-align: right;\">\n",
       "      <th></th>\n",
       "      <th>variantid1</th>\n",
       "      <th>variantid2</th>\n",
       "      <th>name1</th>\n",
       "      <th>categories1</th>\n",
       "      <th>color_parsed1</th>\n",
       "      <th>pic_embeddings_resnet_v11</th>\n",
       "      <th>main_pic_embeddings_resnet_v11</th>\n",
       "      <th>name_bert_641</th>\n",
       "      <th>characteristic_attributes_mapping1</th>\n",
       "      <th>name2</th>\n",
       "      <th>categories2</th>\n",
       "      <th>color_parsed2</th>\n",
       "      <th>pic_embeddings_resnet_v12</th>\n",
       "      <th>main_pic_embeddings_resnet_v12</th>\n",
       "      <th>name_bert_642</th>\n",
       "      <th>characteristic_attributes_mapping2</th>\n",
       "    </tr>\n",
       "  </thead>\n",
       "  <tbody>\n",
       "    <tr>\n",
       "      <th>0</th>\n",
       "      <td>52076340</td>\n",
       "      <td>290590137</td>\n",
       "      <td>Батарейка AAA щелочная Perfeo LR03/10BL Super ...</td>\n",
       "      <td>{\"1\": \"EPG\", \"2\": \"Электроника\", \"3\": \"Батарей...</td>\n",
       "      <td>None</td>\n",
       "      <td>[[0.15417035, 0.41160947, 0.2213532, -0.019731...</td>\n",
       "      <td>[[0.04763528, -0.20136409, 0.29605597, 0.26453...</td>\n",
       "      <td>[-0.28437558, 0.60909724, 0.5972025, -0.523296...</td>\n",
       "      <td>{\"Напряжение, В\":[\"1.5\"],\"Бренд\":[\"Perfeo\"],\"Т...</td>\n",
       "      <td>Батарейка AAA щелочная Perfeo LR03/2BL mini Su...</td>\n",
       "      <td>{\"1\": \"EPG\", \"2\": \"Электроника\", \"3\": \"Батарей...</td>\n",
       "      <td>None</td>\n",
       "      <td>[[-0.025554053, 0.012488857, 0.43989864, -0.10...</td>\n",
       "      <td>[[0.06223978, -0.16145544, 0.26409012, 0.24271...</td>\n",
       "      <td>[-0.3380968, 0.6156224, 0.6428071, -0.57499236...</td>\n",
       "      <td>{\"Форм-фактор батареи\":[\"AAA\"],\"Химический тип...</td>\n",
       "    </tr>\n",
       "    <tr>\n",
       "      <th>1</th>\n",
       "      <td>64525522</td>\n",
       "      <td>204128919</td>\n",
       "      <td>Смартфон Ulefone Armor X5 3/32 ГБ, черный, кра...</td>\n",
       "      <td>{\"1\": \"EPG\", \"2\": \"Электроника\", \"3\": \"Смартфо...</td>\n",
       "      <td>[черный, red, красный]</td>\n",
       "      <td>[[-0.239386, -0.8332473, -0.08384809, 0.071721...</td>\n",
       "      <td>[[-0.27325493, -0.6696304, 0.027148303, 0.0785...</td>\n",
       "      <td>[-0.45766184, 0.5528555, 0.26298037, -0.663931...</td>\n",
       "      <td>{\"Операционная система\":[\"Android\"],\"Защищенно...</td>\n",
       "      <td>Смартфон Ulefone Armor X3 2/32 ГБ, черный, кра...</td>\n",
       "      <td>{\"1\": \"EPG\", \"2\": \"Электроника\", \"3\": \"Смартфо...</td>\n",
       "      <td>[черный, red, красный]</td>\n",
       "      <td>[[-0.071279265, -0.99063504, -0.3939417, 0.886...</td>\n",
       "      <td>[[-0.15358369, -0.8256463, -0.054863703, 0.453...</td>\n",
       "      <td>[-0.4489074, 0.6278857, 0.33072582, -0.6749875...</td>\n",
       "      <td>{\"Встроенная память\":[\"32 ГБ\"],\"Видеопроцессор...</td>\n",
       "    </tr>\n",
       "  </tbody>\n",
       "</table>\n",
       "</div>"
      ],
      "text/plain": [
       "   variantid1  variantid2                                              name1  \\\n",
       "0    52076340   290590137  Батарейка AAA щелочная Perfeo LR03/10BL Super ...   \n",
       "1    64525522   204128919  Смартфон Ulefone Armor X5 3/32 ГБ, черный, кра...   \n",
       "\n",
       "                                         categories1           color_parsed1  \\\n",
       "0  {\"1\": \"EPG\", \"2\": \"Электроника\", \"3\": \"Батарей...                    None   \n",
       "1  {\"1\": \"EPG\", \"2\": \"Электроника\", \"3\": \"Смартфо...  [черный, red, красный]   \n",
       "\n",
       "                           pic_embeddings_resnet_v11  \\\n",
       "0  [[0.15417035, 0.41160947, 0.2213532, -0.019731...   \n",
       "1  [[-0.239386, -0.8332473, -0.08384809, 0.071721...   \n",
       "\n",
       "                      main_pic_embeddings_resnet_v11  \\\n",
       "0  [[0.04763528, -0.20136409, 0.29605597, 0.26453...   \n",
       "1  [[-0.27325493, -0.6696304, 0.027148303, 0.0785...   \n",
       "\n",
       "                                       name_bert_641  \\\n",
       "0  [-0.28437558, 0.60909724, 0.5972025, -0.523296...   \n",
       "1  [-0.45766184, 0.5528555, 0.26298037, -0.663931...   \n",
       "\n",
       "                  characteristic_attributes_mapping1  \\\n",
       "0  {\"Напряжение, В\":[\"1.5\"],\"Бренд\":[\"Perfeo\"],\"Т...   \n",
       "1  {\"Операционная система\":[\"Android\"],\"Защищенно...   \n",
       "\n",
       "                                               name2  \\\n",
       "0  Батарейка AAA щелочная Perfeo LR03/2BL mini Su...   \n",
       "1  Смартфон Ulefone Armor X3 2/32 ГБ, черный, кра...   \n",
       "\n",
       "                                         categories2           color_parsed2  \\\n",
       "0  {\"1\": \"EPG\", \"2\": \"Электроника\", \"3\": \"Батарей...                    None   \n",
       "1  {\"1\": \"EPG\", \"2\": \"Электроника\", \"3\": \"Смартфо...  [черный, red, красный]   \n",
       "\n",
       "                           pic_embeddings_resnet_v12  \\\n",
       "0  [[-0.025554053, 0.012488857, 0.43989864, -0.10...   \n",
       "1  [[-0.071279265, -0.99063504, -0.3939417, 0.886...   \n",
       "\n",
       "                      main_pic_embeddings_resnet_v12  \\\n",
       "0  [[0.06223978, -0.16145544, 0.26409012, 0.24271...   \n",
       "1  [[-0.15358369, -0.8256463, -0.054863703, 0.453...   \n",
       "\n",
       "                                       name_bert_642  \\\n",
       "0  [-0.3380968, 0.6156224, 0.6428071, -0.57499236...   \n",
       "1  [-0.4489074, 0.6278857, 0.33072582, -0.6749875...   \n",
       "\n",
       "                  characteristic_attributes_mapping2  \n",
       "0  {\"Форм-фактор батареи\":[\"AAA\"],\"Химический тип...  \n",
       "1  {\"Встроенная память\":[\"32 ГБ\"],\"Видеопроцессор...  "
      ]
     },
     "execution_count": 5,
     "metadata": {},
     "output_type": "execute_result"
    }
   ],
   "source": [
    "features.head(2)"
   ]
  },
  {
   "cell_type": "markdown",
   "metadata": {},
   "source": [
    "Features functions."
   ]
  },
  {
   "cell_type": "code",
   "execution_count": 6,
   "metadata": {
    "ExecuteTime": {
     "end_time": "2023-05-19T06:28:45.696151Z",
     "start_time": "2023-05-19T06:28:45.692484Z"
    }
   },
   "outputs": [],
   "source": [
    "feats = [\"main_pic_embeddings_resnet_v11\", \"name_bert_641\", \"main_pic_embeddings_resnet_v12\", \"name_bert_642\"]"
   ]
  },
  {
   "cell_type": "code",
   "execution_count": 7,
   "metadata": {
    "ExecuteTime": {
     "end_time": "2023-05-19T06:29:01.923278Z",
     "start_time": "2023-05-19T06:28:54.101554Z"
    }
   },
   "outputs": [],
   "source": [
    "X_test = features[feats]\n",
    "\n",
    "        \n"
   ]
  },
  {
   "cell_type": "code",
   "execution_count": 8,
   "metadata": {},
   "outputs": [],
   "source": [
    "X_test_final = []\n",
    "\n",
    "for i in range(len(X_test)):\n",
    "    row = []\n",
    "    row.extend(list(X_test[feats[0]].iloc[i])[0])\n",
    "    row.extend(list(X_test[feats[1]].iloc[i]))\n",
    "    row.extend(list(X_test[feats[2]].iloc[i])[0])\n",
    "    row.extend(list(X_test[feats[3]].iloc[i]))\n",
    "    X_test_final.append(row)"
   ]
  },
  {
   "cell_type": "code",
   "execution_count": 9,
   "metadata": {},
   "outputs": [],
   "source": [
    "import joblib\n",
    "\n",
    "model = joblib.load('logistic_regression_w_embs_only_model_200_epochs.pkl')"
   ]
  },
  {
   "cell_type": "code",
   "execution_count": 10,
   "metadata": {},
   "outputs": [],
   "source": [
    "predictions = model.predict_proba(X_test_final)"
   ]
  },
  {
   "cell_type": "code",
   "execution_count": 12,
   "metadata": {},
   "outputs": [],
   "source": [
    "predictions_1 = model.predict(X_test_final)"
   ]
  },
  {
   "cell_type": "code",
   "execution_count": 14,
   "metadata": {},
   "outputs": [
    {
     "data": {
      "text/plain": [
       "array([0.40776031, 0.26805097, 0.36855891, ..., 0.22562176, 0.49440604,\n",
       "       0.44125551])"
      ]
     },
     "execution_count": 14,
     "metadata": {},
     "output_type": "execute_result"
    }
   ],
   "source": [
    "predictions[::, 1]"
   ]
  },
  {
   "cell_type": "code",
   "execution_count": 13,
   "metadata": {},
   "outputs": [
    {
     "data": {
      "text/plain": [
       "array([0., 0., 0., ..., 0., 0., 0.])"
      ]
     },
     "execution_count": 13,
     "metadata": {},
     "output_type": "execute_result"
    }
   ],
   "source": [
    "predictions_1"
   ]
  },
  {
   "cell_type": "code",
   "execution_count": 15,
   "metadata": {},
   "outputs": [],
   "source": [
    "dataset['target'] = predictions[::, 1]"
   ]
  },
  {
   "cell_type": "code",
   "execution_count": 16,
   "metadata": {},
   "outputs": [
    {
     "data": {
      "text/html": [
       "<div>\n",
       "<style scoped>\n",
       "    .dataframe tbody tr th:only-of-type {\n",
       "        vertical-align: middle;\n",
       "    }\n",
       "\n",
       "    .dataframe tbody tr th {\n",
       "        vertical-align: top;\n",
       "    }\n",
       "\n",
       "    .dataframe thead th {\n",
       "        text-align: right;\n",
       "    }\n",
       "</style>\n",
       "<table border=\"1\" class=\"dataframe\">\n",
       "  <thead>\n",
       "    <tr style=\"text-align: right;\">\n",
       "      <th></th>\n",
       "      <th>variantid1</th>\n",
       "      <th>variantid2</th>\n",
       "      <th>target</th>\n",
       "    </tr>\n",
       "  </thead>\n",
       "  <tbody>\n",
       "    <tr>\n",
       "      <th>0</th>\n",
       "      <td>52076340</td>\n",
       "      <td>290590137</td>\n",
       "      <td>0.407760</td>\n",
       "    </tr>\n",
       "    <tr>\n",
       "      <th>1</th>\n",
       "      <td>64525522</td>\n",
       "      <td>204128919</td>\n",
       "      <td>0.268051</td>\n",
       "    </tr>\n",
       "    <tr>\n",
       "      <th>2</th>\n",
       "      <td>77243372</td>\n",
       "      <td>479860557</td>\n",
       "      <td>0.368559</td>\n",
       "    </tr>\n",
       "    <tr>\n",
       "      <th>3</th>\n",
       "      <td>86065820</td>\n",
       "      <td>540678372</td>\n",
       "      <td>0.704629</td>\n",
       "    </tr>\n",
       "    <tr>\n",
       "      <th>4</th>\n",
       "      <td>91566575</td>\n",
       "      <td>258840506</td>\n",
       "      <td>0.394381</td>\n",
       "    </tr>\n",
       "    <tr>\n",
       "      <th>...</th>\n",
       "      <td>...</td>\n",
       "      <td>...</td>\n",
       "      <td>...</td>\n",
       "    </tr>\n",
       "    <tr>\n",
       "      <th>18079</th>\n",
       "      <td>666998614</td>\n",
       "      <td>667074522</td>\n",
       "      <td>0.353954</td>\n",
       "    </tr>\n",
       "    <tr>\n",
       "      <th>18080</th>\n",
       "      <td>670036240</td>\n",
       "      <td>670048449</td>\n",
       "      <td>0.561571</td>\n",
       "    </tr>\n",
       "    <tr>\n",
       "      <th>18081</th>\n",
       "      <td>670284509</td>\n",
       "      <td>684323809</td>\n",
       "      <td>0.225622</td>\n",
       "    </tr>\n",
       "    <tr>\n",
       "      <th>18082</th>\n",
       "      <td>692172005</td>\n",
       "      <td>704805270</td>\n",
       "      <td>0.494406</td>\n",
       "    </tr>\n",
       "    <tr>\n",
       "      <th>18083</th>\n",
       "      <td>704060220</td>\n",
       "      <td>704096517</td>\n",
       "      <td>0.441256</td>\n",
       "    </tr>\n",
       "  </tbody>\n",
       "</table>\n",
       "<p>18084 rows × 3 columns</p>\n",
       "</div>"
      ],
      "text/plain": [
       "       variantid1  variantid2    target\n",
       "0        52076340   290590137  0.407760\n",
       "1        64525522   204128919  0.268051\n",
       "2        77243372   479860557  0.368559\n",
       "3        86065820   540678372  0.704629\n",
       "4        91566575   258840506  0.394381\n",
       "...           ...         ...       ...\n",
       "18079   666998614   667074522  0.353954\n",
       "18080   670036240   670048449  0.561571\n",
       "18081   670284509   684323809  0.225622\n",
       "18082   692172005   704805270  0.494406\n",
       "18083   704060220   704096517  0.441256\n",
       "\n",
       "[18084 rows x 3 columns]"
      ]
     },
     "execution_count": 16,
     "metadata": {},
     "output_type": "execute_result"
    }
   ],
   "source": [
    "dataset"
   ]
  },
  {
   "cell_type": "code",
   "execution_count": 17,
   "metadata": {},
   "outputs": [],
   "source": [
    "dataset.to_csv(\"sub_log_reg_with_embs_only.csv\", index = False)"
   ]
  },
  {
   "cell_type": "code",
   "execution_count": null,
   "metadata": {},
   "outputs": [],
   "source": []
  }
 ],
 "metadata": {
  "kernelspec": {
   "display_name": "Python 3 (ipykernel)",
   "language": "python",
   "name": "python3"
  },
  "language_info": {
   "codemirror_mode": {
    "name": "ipython",
    "version": 3
   },
   "file_extension": ".py",
   "mimetype": "text/x-python",
   "name": "python",
   "nbconvert_exporter": "python",
   "pygments_lexer": "ipython3",
   "version": "3.8.10"
  },
  "neptune": {
   "notebookId": "99384c11-8ebc-418a-bfe0-db1fce320e53",
   "projectVersion": 2
  }
 },
 "nbformat": 4,
 "nbformat_minor": 4
}
