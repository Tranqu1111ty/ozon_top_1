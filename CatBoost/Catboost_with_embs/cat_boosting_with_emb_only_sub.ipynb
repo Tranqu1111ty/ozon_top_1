{
 "cells": [
  {
   "cell_type": "code",
   "execution_count": 1,
   "metadata": {
    "ExecuteTime": {
     "end_time": "2023-05-19T06:10:23.678400Z",
     "start_time": "2023-05-19T06:10:16.503064Z"
    }
   },
   "outputs": [],
   "source": [
    "import json\n",
    "from functools import partial\n",
    "from typing import List\n",
    "\n",
    "import matplotlib.pyplot as plt\n",
    "import numpy as np\n",
    "import pandas as pd\n",
    "import seaborn as sns\n",
    "from catboost import CatBoostClassifier, Pool\n",
    "from catboost.utils import eval_metric\n",
    "from scipy.spatial.distance import cosine, euclidean\n",
    "from sklearn.metrics import pairwise_distances\n",
    "from sklearn.model_selection import train_test_split\n",
    "\n",
    "from sklearn.metrics import precision_score\n"
   ]
  },
  {
   "cell_type": "markdown",
   "metadata": {},
   "source": [
    "### Load data"
   ]
  },
  {
   "cell_type": "code",
   "execution_count": 2,
   "metadata": {
    "ExecuteTime": {
     "end_time": "2023-05-19T06:12:05.012452Z",
     "start_time": "2023-05-19T06:11:27.878101Z"
    },
    "scrolled": false
   },
   "outputs": [],
   "source": [
    "dataset = pd.read_parquet(r\"C:\\Users\\druzh\\Project_python\\ozon_top_1\\Datasets/test_pairs_wo_target.parquet\")\n",
    "etl = pd.read_parquet(r\"C:\\Users\\druzh\\Project_python\\ozon_top_1\\Datasets/test_data.parquet\")"
   ]
  },
  {
   "cell_type": "markdown",
   "metadata": {},
   "source": [
    "Get raw data for each variantid."
   ]
  },
  {
   "cell_type": "code",
   "execution_count": 3,
   "metadata": {
    "ExecuteTime": {
     "end_time": "2023-05-19T06:13:06.702876Z",
     "start_time": "2023-05-19T06:13:03.688111Z"
    }
   },
   "outputs": [],
   "source": [
    "features = (\n",
    "    dataset\n",
    "    .merge(\n",
    "        etl\n",
    "        .add_suffix('1'),\n",
    "        on=\"variantid1\"\n",
    "    )\n",
    "    .merge(\n",
    "        etl\n",
    "        .add_suffix('2'),\n",
    "        on=\"variantid2\"\n",
    "    )\n",
    ")"
   ]
  },
  {
   "cell_type": "code",
   "execution_count": 4,
   "metadata": {
    "ExecuteTime": {
     "end_time": "2023-05-19T06:13:09.645490Z",
     "start_time": "2023-05-19T06:13:09.620414Z"
    },
    "scrolled": false
   },
   "outputs": [
    {
     "data": {
      "text/html": [
       "<div>\n",
       "<style scoped>\n",
       "    .dataframe tbody tr th:only-of-type {\n",
       "        vertical-align: middle;\n",
       "    }\n",
       "\n",
       "    .dataframe tbody tr th {\n",
       "        vertical-align: top;\n",
       "    }\n",
       "\n",
       "    .dataframe thead th {\n",
       "        text-align: right;\n",
       "    }\n",
       "</style>\n",
       "<table border=\"1\" class=\"dataframe\">\n",
       "  <thead>\n",
       "    <tr style=\"text-align: right;\">\n",
       "      <th></th>\n",
       "      <th>variantid1</th>\n",
       "      <th>variantid2</th>\n",
       "      <th>name1</th>\n",
       "      <th>categories1</th>\n",
       "      <th>color_parsed1</th>\n",
       "      <th>pic_embeddings_resnet_v11</th>\n",
       "      <th>main_pic_embeddings_resnet_v11</th>\n",
       "      <th>name_bert_641</th>\n",
       "      <th>characteristic_attributes_mapping1</th>\n",
       "      <th>name2</th>\n",
       "      <th>categories2</th>\n",
       "      <th>color_parsed2</th>\n",
       "      <th>pic_embeddings_resnet_v12</th>\n",
       "      <th>main_pic_embeddings_resnet_v12</th>\n",
       "      <th>name_bert_642</th>\n",
       "      <th>characteristic_attributes_mapping2</th>\n",
       "    </tr>\n",
       "  </thead>\n",
       "  <tbody>\n",
       "    <tr>\n",
       "      <th>0</th>\n",
       "      <td>52076340</td>\n",
       "      <td>290590137</td>\n",
       "      <td>Батарейка AAA щелочная Perfeo LR03/10BL Super ...</td>\n",
       "      <td>{\"1\": \"EPG\", \"2\": \"Электроника\", \"3\": \"Батарей...</td>\n",
       "      <td>None</td>\n",
       "      <td>[[0.15417035, 0.41160947, 0.2213532, -0.019731...</td>\n",
       "      <td>[[0.04763528, -0.20136409, 0.29605597, 0.26453...</td>\n",
       "      <td>[-0.28437558, 0.60909724, 0.5972025, -0.523296...</td>\n",
       "      <td>{\"Напряжение, В\":[\"1.5\"],\"Бренд\":[\"Perfeo\"],\"Т...</td>\n",
       "      <td>Батарейка AAA щелочная Perfeo LR03/2BL mini Su...</td>\n",
       "      <td>{\"1\": \"EPG\", \"2\": \"Электроника\", \"3\": \"Батарей...</td>\n",
       "      <td>None</td>\n",
       "      <td>[[-0.025554053, 0.012488857, 0.43989864, -0.10...</td>\n",
       "      <td>[[0.06223978, -0.16145544, 0.26409012, 0.24271...</td>\n",
       "      <td>[-0.3380968, 0.6156224, 0.6428071, -0.57499236...</td>\n",
       "      <td>{\"Форм-фактор батареи\":[\"AAA\"],\"Химический тип...</td>\n",
       "    </tr>\n",
       "    <tr>\n",
       "      <th>1</th>\n",
       "      <td>64525522</td>\n",
       "      <td>204128919</td>\n",
       "      <td>Смартфон Ulefone Armor X5 3/32 ГБ, черный, кра...</td>\n",
       "      <td>{\"1\": \"EPG\", \"2\": \"Электроника\", \"3\": \"Смартфо...</td>\n",
       "      <td>[черный, red, красный]</td>\n",
       "      <td>[[-0.239386, -0.8332473, -0.08384809, 0.071721...</td>\n",
       "      <td>[[-0.27325493, -0.6696304, 0.027148303, 0.0785...</td>\n",
       "      <td>[-0.45766184, 0.5528555, 0.26298037, -0.663931...</td>\n",
       "      <td>{\"Операционная система\":[\"Android\"],\"Защищенно...</td>\n",
       "      <td>Смартфон Ulefone Armor X3 2/32 ГБ, черный, кра...</td>\n",
       "      <td>{\"1\": \"EPG\", \"2\": \"Электроника\", \"3\": \"Смартфо...</td>\n",
       "      <td>[черный, red, красный]</td>\n",
       "      <td>[[-0.071279265, -0.99063504, -0.3939417, 0.886...</td>\n",
       "      <td>[[-0.15358369, -0.8256463, -0.054863703, 0.453...</td>\n",
       "      <td>[-0.4489074, 0.6278857, 0.33072582, -0.6749875...</td>\n",
       "      <td>{\"Встроенная память\":[\"32 ГБ\"],\"Видеопроцессор...</td>\n",
       "    </tr>\n",
       "  </tbody>\n",
       "</table>\n",
       "</div>"
      ],
      "text/plain": [
       "   variantid1  variantid2                                              name1  \\\n",
       "0    52076340   290590137  Батарейка AAA щелочная Perfeo LR03/10BL Super ...   \n",
       "1    64525522   204128919  Смартфон Ulefone Armor X5 3/32 ГБ, черный, кра...   \n",
       "\n",
       "                                         categories1           color_parsed1  \\\n",
       "0  {\"1\": \"EPG\", \"2\": \"Электроника\", \"3\": \"Батарей...                    None   \n",
       "1  {\"1\": \"EPG\", \"2\": \"Электроника\", \"3\": \"Смартфо...  [черный, red, красный]   \n",
       "\n",
       "                           pic_embeddings_resnet_v11  \\\n",
       "0  [[0.15417035, 0.41160947, 0.2213532, -0.019731...   \n",
       "1  [[-0.239386, -0.8332473, -0.08384809, 0.071721...   \n",
       "\n",
       "                      main_pic_embeddings_resnet_v11  \\\n",
       "0  [[0.04763528, -0.20136409, 0.29605597, 0.26453...   \n",
       "1  [[-0.27325493, -0.6696304, 0.027148303, 0.0785...   \n",
       "\n",
       "                                       name_bert_641  \\\n",
       "0  [-0.28437558, 0.60909724, 0.5972025, -0.523296...   \n",
       "1  [-0.45766184, 0.5528555, 0.26298037, -0.663931...   \n",
       "\n",
       "                  characteristic_attributes_mapping1  \\\n",
       "0  {\"Напряжение, В\":[\"1.5\"],\"Бренд\":[\"Perfeo\"],\"Т...   \n",
       "1  {\"Операционная система\":[\"Android\"],\"Защищенно...   \n",
       "\n",
       "                                               name2  \\\n",
       "0  Батарейка AAA щелочная Perfeo LR03/2BL mini Su...   \n",
       "1  Смартфон Ulefone Armor X3 2/32 ГБ, черный, кра...   \n",
       "\n",
       "                                         categories2           color_parsed2  \\\n",
       "0  {\"1\": \"EPG\", \"2\": \"Электроника\", \"3\": \"Батарей...                    None   \n",
       "1  {\"1\": \"EPG\", \"2\": \"Электроника\", \"3\": \"Смартфо...  [черный, red, красный]   \n",
       "\n",
       "                           pic_embeddings_resnet_v12  \\\n",
       "0  [[-0.025554053, 0.012488857, 0.43989864, -0.10...   \n",
       "1  [[-0.071279265, -0.99063504, -0.3939417, 0.886...   \n",
       "\n",
       "                      main_pic_embeddings_resnet_v12  \\\n",
       "0  [[0.06223978, -0.16145544, 0.26409012, 0.24271...   \n",
       "1  [[-0.15358369, -0.8256463, -0.054863703, 0.453...   \n",
       "\n",
       "                                       name_bert_642  \\\n",
       "0  [-0.3380968, 0.6156224, 0.6428071, -0.57499236...   \n",
       "1  [-0.4489074, 0.6278857, 0.33072582, -0.6749875...   \n",
       "\n",
       "                  characteristic_attributes_mapping2  \n",
       "0  {\"Форм-фактор батареи\":[\"AAA\"],\"Химический тип...  \n",
       "1  {\"Встроенная память\":[\"32 ГБ\"],\"Видеопроцессор...  "
      ]
     },
     "execution_count": 4,
     "metadata": {},
     "output_type": "execute_result"
    }
   ],
   "source": [
    "features.head(2)"
   ]
  },
  {
   "cell_type": "code",
   "execution_count": 5,
   "metadata": {},
   "outputs": [],
   "source": [
    "feats = [\"main_pic_embeddings_resnet_v11\", \"name_bert_641\", \"main_pic_embeddings_resnet_v12\", \"name_bert_642\"]"
   ]
  },
  {
   "cell_type": "code",
   "execution_count": 6,
   "metadata": {},
   "outputs": [],
   "source": [
    "X_test = features[feats]"
   ]
  },
  {
   "cell_type": "code",
   "execution_count": 7,
   "metadata": {},
   "outputs": [
    {
     "ename": "NameError",
     "evalue": "name 'X_train' is not defined",
     "output_type": "error",
     "traceback": [
      "\u001b[1;31m---------------------------------------------------------------------------\u001b[0m",
      "\u001b[1;31mNameError\u001b[0m                                 Traceback (most recent call last)",
      "Cell \u001b[1;32mIn[7], line 1\u001b[0m\n\u001b[1;32m----> 1\u001b[0m \u001b[38;5;28mprint\u001b[39m(\u001b[43mX_train\u001b[49m\u001b[38;5;241m.\u001b[39mshape)\n",
      "\u001b[1;31mNameError\u001b[0m: name 'X_train' is not defined"
     ]
    }
   ],
   "source": [
    "print(X_train.shape)"
   ]
  },
  {
   "cell_type": "code",
   "execution_count": 8,
   "metadata": {},
   "outputs": [
    {
     "name": "stdout",
     "output_type": "stream",
     "text": [
      "(18084, 4)\n"
     ]
    }
   ],
   "source": [
    "print(X_test.shape)"
   ]
  },
  {
   "cell_type": "markdown",
   "metadata": {},
   "source": [
    "Features functions."
   ]
  },
  {
   "cell_type": "code",
   "execution_count": 9,
   "metadata": {},
   "outputs": [],
   "source": [
    "X_test_final = []\n",
    "\n",
    "for i in range(len(X_test)):\n",
    "    row = []\n",
    "    row.extend(list(X_test[feats[0]].iloc[i])[0])\n",
    "    row.extend(list(X_test[feats[1]].iloc[i]))\n",
    "    row.extend(list(X_test[feats[2]].iloc[i])[0])\n",
    "    row.extend(list(X_test[feats[3]].iloc[i]))\n",
    "    X_test_final.append(row)"
   ]
  },
  {
   "cell_type": "code",
   "execution_count": 11,
   "metadata": {},
   "outputs": [
    {
     "data": {
      "text/plain": [
       "<catboost.core.CatBoostClassifier at 0x1c9351e6160>"
      ]
     },
     "execution_count": 11,
     "metadata": {},
     "output_type": "execute_result"
    }
   ],
   "source": [
    "from catboost import CatBoostClassifier\n",
    "\n",
    "\n",
    "model = CatBoostClassifier()\n",
    "model.load_model(\"catboost_with_embs_only_optune_epochs.cbm\")"
   ]
  },
  {
   "cell_type": "code",
   "execution_count": 12,
   "metadata": {},
   "outputs": [],
   "source": [
    "prediction = model.predict_proba(X_test_final)"
   ]
  },
  {
   "cell_type": "code",
   "execution_count": 14,
   "metadata": {},
   "outputs": [],
   "source": [
    "dataset['target'] = prediction[::, 1]"
   ]
  },
  {
   "cell_type": "code",
   "execution_count": 15,
   "metadata": {},
   "outputs": [],
   "source": [
    "dataset.to_csv(\"sub_catboost_w_embs_only_optuna.csv\")"
   ]
  },
  {
   "cell_type": "markdown",
   "metadata": {},
   "source": []
  }
 ],
 "metadata": {
  "kernelspec": {
   "display_name": "Python 3 (ipykernel)",
   "language": "python",
   "name": "python3"
  },
  "language_info": {
   "codemirror_mode": {
    "name": "ipython",
    "version": 3
   },
   "file_extension": ".py",
   "mimetype": "text/x-python",
   "name": "python",
   "nbconvert_exporter": "python",
   "pygments_lexer": "ipython3",
   "version": "3.8.10"
  },
  "neptune": {
   "notebookId": "99384c11-8ebc-418a-bfe0-db1fce320e53",
   "projectVersion": 2
  }
 },
 "nbformat": 4,
 "nbformat_minor": 4
}
