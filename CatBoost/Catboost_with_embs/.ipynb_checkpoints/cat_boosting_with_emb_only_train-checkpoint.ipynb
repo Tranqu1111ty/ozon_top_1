{
 "cells": [
  {
   "cell_type": "code",
   "execution_count": 1,
   "metadata": {
    "ExecuteTime": {
     "end_time": "2023-05-19T06:10:23.678400Z",
     "start_time": "2023-05-19T06:10:16.503064Z"
    }
   },
   "outputs": [],
   "source": [
    "import json\n",
    "from functools import partial\n",
    "from typing import List\n",
    "\n",
    "import matplotlib.pyplot as plt\n",
    "import numpy as np\n",
    "import pandas as pd\n",
    "import seaborn as sns\n",
    "from catboost import CatBoostClassifier, Pool\n",
    "from catboost.utils import eval_metric\n",
    "from scipy.spatial.distance import cosine, euclidean\n",
    "from sklearn.metrics import pairwise_distances\n",
    "from sklearn.model_selection import train_test_split\n",
    "\n",
    "from sklearn.metrics import precision_score\n"
   ]
  },
  {
   "cell_type": "markdown",
   "metadata": {},
   "source": [
    "### Load data"
   ]
  },
  {
   "cell_type": "code",
   "execution_count": 2,
   "metadata": {
    "ExecuteTime": {
     "end_time": "2023-05-19T06:12:05.012452Z",
     "start_time": "2023-05-19T06:11:27.878101Z"
    },
    "scrolled": false
   },
   "outputs": [],
   "source": [
    "dataset = pd.read_parquet(r\"C:\\Users\\druzh\\Project_python\\ozon_top_1\\Datasets/train_pairs.parquet\")\n",
    "etl = pd.read_parquet(r\"C:\\Users\\druzh\\Project_python\\ozon_top_1\\Datasets/train_data.parquet\")"
   ]
  },
  {
   "cell_type": "markdown",
   "metadata": {},
   "source": [
    "Get raw data for each variantid."
   ]
  },
  {
   "cell_type": "code",
   "execution_count": 8,
   "metadata": {
    "ExecuteTime": {
     "end_time": "2023-05-19T06:13:06.702876Z",
     "start_time": "2023-05-19T06:13:03.688111Z"
    }
   },
   "outputs": [],
   "source": [
    "features = (\n",
    "    dataset\n",
    "    .merge(\n",
    "        etl\n",
    "        .add_suffix('1'),\n",
    "        on=\"variantid1\"\n",
    "    )\n",
    "    .merge(\n",
    "        etl\n",
    "        .add_suffix('2'),\n",
    "        on=\"variantid2\"\n",
    "    )\n",
    ")"
   ]
  },
  {
   "cell_type": "code",
   "execution_count": 9,
   "metadata": {
    "ExecuteTime": {
     "end_time": "2023-05-19T06:13:09.645490Z",
     "start_time": "2023-05-19T06:13:09.620414Z"
    },
    "scrolled": false
   },
   "outputs": [
    {
     "data": {
      "text/html": [
       "<div>\n",
       "<style scoped>\n",
       "    .dataframe tbody tr th:only-of-type {\n",
       "        vertical-align: middle;\n",
       "    }\n",
       "\n",
       "    .dataframe tbody tr th {\n",
       "        vertical-align: top;\n",
       "    }\n",
       "\n",
       "    .dataframe thead th {\n",
       "        text-align: right;\n",
       "    }\n",
       "</style>\n",
       "<table border=\"1\" class=\"dataframe\">\n",
       "  <thead>\n",
       "    <tr style=\"text-align: right;\">\n",
       "      <th></th>\n",
       "      <th>target</th>\n",
       "      <th>variantid1</th>\n",
       "      <th>variantid2</th>\n",
       "      <th>name1</th>\n",
       "      <th>categories1</th>\n",
       "      <th>color_parsed1</th>\n",
       "      <th>pic_embeddings_resnet_v11</th>\n",
       "      <th>main_pic_embeddings_resnet_v11</th>\n",
       "      <th>name_bert_641</th>\n",
       "      <th>characteristic_attributes_mapping1</th>\n",
       "      <th>name2</th>\n",
       "      <th>categories2</th>\n",
       "      <th>color_parsed2</th>\n",
       "      <th>pic_embeddings_resnet_v12</th>\n",
       "      <th>main_pic_embeddings_resnet_v12</th>\n",
       "      <th>name_bert_642</th>\n",
       "      <th>characteristic_attributes_mapping2</th>\n",
       "    </tr>\n",
       "  </thead>\n",
       "  <tbody>\n",
       "    <tr>\n",
       "      <th>0</th>\n",
       "      <td>0.0</td>\n",
       "      <td>51197862</td>\n",
       "      <td>51198054</td>\n",
       "      <td>Удлинитель TDM Electric Люкс УЛ05В 5 м (SQ1303...</td>\n",
       "      <td>{\"1\": \"EPG\", \"2\": \"Электроника\", \"3\": \"Сетевые...</td>\n",
       "      <td>[белый]</td>\n",
       "      <td>None</td>\n",
       "      <td>[[-0.4304909, -0.49474272, -0.46439183, -0.060...</td>\n",
       "      <td>[-0.5104684, 0.56158644, 0.58873796, -0.529718...</td>\n",
       "      <td>{\"Число жил\":[\"3\"],\"Макс. нагрузка, Вт\":[\"3500...</td>\n",
       "      <td>Удлинитель TDM Electric Люкс УЛ05В 1.5 м (SQ13...</td>\n",
       "      <td>{\"1\": \"EPG\", \"2\": \"Электроника\", \"3\": \"Сетевые...</td>\n",
       "      <td>[белый]</td>\n",
       "      <td>None</td>\n",
       "      <td>[[-0.42941108, -0.5129398, -0.4753536, -0.0677...</td>\n",
       "      <td>[-0.455473, 0.58157134, 0.5870387, -0.5325003,...</td>\n",
       "      <td>{\"Электробезопасность\":[\"Заземление\"],\"Длина к...</td>\n",
       "    </tr>\n",
       "    <tr>\n",
       "      <th>1</th>\n",
       "      <td>0.0</td>\n",
       "      <td>51197862</td>\n",
       "      <td>51199884</td>\n",
       "      <td>Удлинитель TDM Electric Люкс УЛ05В 5 м (SQ1303...</td>\n",
       "      <td>{\"1\": \"EPG\", \"2\": \"Электроника\", \"3\": \"Сетевые...</td>\n",
       "      <td>[белый]</td>\n",
       "      <td>None</td>\n",
       "      <td>[[-0.4304909, -0.49474272, -0.46439183, -0.060...</td>\n",
       "      <td>[-0.5104684, 0.56158644, 0.58873796, -0.529718...</td>\n",
       "      <td>{\"Число жил\":[\"3\"],\"Макс. нагрузка, Вт\":[\"3500...</td>\n",
       "      <td>Удлинитель TDM Electric Люкс УЛ05В 3 м (SQ1303...</td>\n",
       "      <td>{\"1\": \"EPG\", \"2\": \"Электроника\", \"3\": \"Сетевые...</td>\n",
       "      <td>[белый]</td>\n",
       "      <td>None</td>\n",
       "      <td>[[-0.43180764, -0.49580905, -0.5062628, -0.130...</td>\n",
       "      <td>[-0.5425725, 0.6415736, 0.51481575, -0.5687392...</td>\n",
       "      <td>{\"Макс. нагрузка, Вт\":[\"3500\"],\"Стандарт защит...</td>\n",
       "    </tr>\n",
       "  </tbody>\n",
       "</table>\n",
       "</div>"
      ],
      "text/plain": [
       "   target  variantid1  variantid2  \\\n",
       "0     0.0    51197862    51198054   \n",
       "1     0.0    51197862    51199884   \n",
       "\n",
       "                                               name1  \\\n",
       "0  Удлинитель TDM Electric Люкс УЛ05В 5 м (SQ1303...   \n",
       "1  Удлинитель TDM Electric Люкс УЛ05В 5 м (SQ1303...   \n",
       "\n",
       "                                         categories1 color_parsed1  \\\n",
       "0  {\"1\": \"EPG\", \"2\": \"Электроника\", \"3\": \"Сетевые...       [белый]   \n",
       "1  {\"1\": \"EPG\", \"2\": \"Электроника\", \"3\": \"Сетевые...       [белый]   \n",
       "\n",
       "  pic_embeddings_resnet_v11  \\\n",
       "0                      None   \n",
       "1                      None   \n",
       "\n",
       "                      main_pic_embeddings_resnet_v11  \\\n",
       "0  [[-0.4304909, -0.49474272, -0.46439183, -0.060...   \n",
       "1  [[-0.4304909, -0.49474272, -0.46439183, -0.060...   \n",
       "\n",
       "                                       name_bert_641  \\\n",
       "0  [-0.5104684, 0.56158644, 0.58873796, -0.529718...   \n",
       "1  [-0.5104684, 0.56158644, 0.58873796, -0.529718...   \n",
       "\n",
       "                  characteristic_attributes_mapping1  \\\n",
       "0  {\"Число жил\":[\"3\"],\"Макс. нагрузка, Вт\":[\"3500...   \n",
       "1  {\"Число жил\":[\"3\"],\"Макс. нагрузка, Вт\":[\"3500...   \n",
       "\n",
       "                                               name2  \\\n",
       "0  Удлинитель TDM Electric Люкс УЛ05В 1.5 м (SQ13...   \n",
       "1  Удлинитель TDM Electric Люкс УЛ05В 3 м (SQ1303...   \n",
       "\n",
       "                                         categories2 color_parsed2  \\\n",
       "0  {\"1\": \"EPG\", \"2\": \"Электроника\", \"3\": \"Сетевые...       [белый]   \n",
       "1  {\"1\": \"EPG\", \"2\": \"Электроника\", \"3\": \"Сетевые...       [белый]   \n",
       "\n",
       "  pic_embeddings_resnet_v12  \\\n",
       "0                      None   \n",
       "1                      None   \n",
       "\n",
       "                      main_pic_embeddings_resnet_v12  \\\n",
       "0  [[-0.42941108, -0.5129398, -0.4753536, -0.0677...   \n",
       "1  [[-0.43180764, -0.49580905, -0.5062628, -0.130...   \n",
       "\n",
       "                                       name_bert_642  \\\n",
       "0  [-0.455473, 0.58157134, 0.5870387, -0.5325003,...   \n",
       "1  [-0.5425725, 0.6415736, 0.51481575, -0.5687392...   \n",
       "\n",
       "                  characteristic_attributes_mapping2  \n",
       "0  {\"Электробезопасность\":[\"Заземление\"],\"Длина к...  \n",
       "1  {\"Макс. нагрузка, Вт\":[\"3500\"],\"Стандарт защит...  "
      ]
     },
     "execution_count": 9,
     "metadata": {},
     "output_type": "execute_result"
    }
   ],
   "source": [
    "features.head(2)"
   ]
  },
  {
   "cell_type": "code",
   "execution_count": 15,
   "metadata": {},
   "outputs": [],
   "source": [
    "feats = [\"main_pic_embeddings_resnet_v11\", \"name_bert_641\", \"main_pic_embeddings_resnet_v12\", \"name_bert_642\"]"
   ]
  },
  {
   "cell_type": "code",
   "execution_count": 22,
   "metadata": {},
   "outputs": [],
   "source": [
    "X_train, X_test = train_test_split(\n",
    "    features[feats + [\"target\", \"variantid1\", \"variantid2\"]], \n",
    "    test_size=0.1, random_state=42, stratify=features[[\"target\"]])\n",
    "\n",
    "y_test = X_test[[\"target\"]]\n",
    "X_test = X_test.drop([\"target\", \"variantid1\", \"variantid2\"], axis=1)\n",
    "\n",
    "y_train = X_train[\"target\"]\n",
    "X_train = X_train.drop([\"target\",\"variantid1\", \"variantid2\"], axis=1)"
   ]
  },
  {
   "cell_type": "code",
   "execution_count": 23,
   "metadata": {},
   "outputs": [
    {
     "name": "stdout",
     "output_type": "stream",
     "text": [
      "(275886, 4)\n"
     ]
    }
   ],
   "source": [
    "print(X_train.shape)"
   ]
  },
  {
   "cell_type": "code",
   "execution_count": 24,
   "metadata": {},
   "outputs": [
    {
     "name": "stdout",
     "output_type": "stream",
     "text": [
      "(30654, 4)\n"
     ]
    }
   ],
   "source": [
    "print(X_test.shape)"
   ]
  },
  {
   "cell_type": "markdown",
   "metadata": {},
   "source": [
    "Features functions."
   ]
  },
  {
   "cell_type": "code",
   "execution_count": 25,
   "metadata": {},
   "outputs": [],
   "source": [
    "X_train_final = []\n",
    "\n",
    "for i in range(len(X_train)):\n",
    "    row = []\n",
    "    row.extend(list(X_train[feats[0]].iloc[i])[0])\n",
    "    row.extend(list(X_train[feats[1]].iloc[i]))\n",
    "    row.extend(list(X_train[feats[2]].iloc[i])[0])\n",
    "    row.extend(list(X_train[feats[3]].iloc[i]))\n",
    "    X_train_final.append(row)"
   ]
  },
  {
   "cell_type": "code",
   "execution_count": 26,
   "metadata": {},
   "outputs": [],
   "source": [
    "X_test_final = []\n",
    "\n",
    "for i in range(len(X_test)):\n",
    "    row = []\n",
    "    row.extend(list(X_test[feats[0]].iloc[i])[0])\n",
    "    row.extend(list(X_test[feats[1]].iloc[i]))\n",
    "    row.extend(list(X_test[feats[2]].iloc[i])[0])\n",
    "    row.extend(list(X_test[feats[3]].iloc[i]))\n",
    "    X_test_final.append(row)"
   ]
  },
  {
   "cell_type": "code",
   "execution_count": null,
   "metadata": {},
   "outputs": [],
   "source": [
    "from catboost import CatBoostClassifier\n",
    "\n",
    "model = CatBoostClassifier(iterations=500, learning_rate=0.15, depth=4, l2_leaf_reg=4, loss_function=\"Logloss\", early_stopping_rounds=100)\n",
    "\n",
    "model.fit(X_train_final, y_train)"
   ]
  },
  {
   "cell_type": "code",
   "execution_count": 28,
   "metadata": {
    "scrolled": true
   },
   "outputs": [
    {
     "name": "stdout",
     "output_type": "stream",
     "text": [
      "Mean Squared Error: 0.2960788151627846\n",
      "f1: 0.6189436560584431\n",
      "Accuracy: 0.7039211848372153\n",
      "Precision: 0.7144518755452166\n",
      "Recall: 0.5459595585512185\n"
     ]
    }
   ],
   "source": [
    "import random\n",
    "from sklearn.metrics import mean_squared_error\n",
    "from sklearn.metrics import f1_score\n",
    "from sklearn.model_selection import train_test_split\n",
    "from sklearn.metrics import accuracy_score, precision_score, recall_score\n",
    "prediction = model.predict(X_test_final)\n",
    "\n",
    "mse = mean_squared_error(y_test, prediction)\n",
    "print(\"Mean Squared Error:\", mse)\n",
    "\n",
    "f1 = f1_score(y_test, prediction)\n",
    "print(\"f1:\", f1)\n",
    "\n",
    "accuracy = accuracy_score(y_test, prediction)\n",
    "precision = precision_score(y_test, prediction)\n",
    "recall = recall_score(y_test, prediction)\n",
    "print(\"Accuracy:\", accuracy)\n",
    "print(\"Precision:\", precision)\n",
    "print(\"Recall:\", recall)"
   ]
  },
  {
   "cell_type": "code",
   "execution_count": null,
   "metadata": {},
   "outputs": [],
   "source": [
    "model.save_model(\"catboost_with_embs_only_300_epochs.cbm\")"
   ]
  }
 ],
 "metadata": {
  "kernelspec": {
   "display_name": "Python 3 (ipykernel)",
   "language": "python",
   "name": "python3"
  },
  "language_info": {
   "codemirror_mode": {
    "name": "ipython",
    "version": 3
   },
   "file_extension": ".py",
   "mimetype": "text/x-python",
   "name": "python",
   "nbconvert_exporter": "python",
   "pygments_lexer": "ipython3",
   "version": "3.8.10"
  },
  "neptune": {
   "notebookId": "99384c11-8ebc-418a-bfe0-db1fce320e53",
   "projectVersion": 2
  }
 },
 "nbformat": 4,
 "nbformat_minor": 4
}
